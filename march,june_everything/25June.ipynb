{
 "cells": [
  {
   "cell_type": "markdown",
   "id": "baf82c7c",
   "metadata": {},
   "source": [
    "### AVL"
   ]
  },
  {
   "cell_type": "markdown",
   "id": "c4765aca",
   "metadata": {},
   "source": [
    "- Insert at RR - L rotation\n",
    "- Insert at LL - R rotation\n",
    "- Insert at LR - LR rotation (first leaf node rotated left then balance by rotating right)\n",
    "- Insert at RL - RL rotation"
   ]
  },
  {
   "cell_type": "code",
   "execution_count": 81,
   "id": "004baef5",
   "metadata": {},
   "outputs": [],
   "source": [
    "class node:\n",
    "    def __init__(self, data):\n",
    "        self.data = data\n",
    "        self.left = None\n",
    "        self.right = None\n",
    "        self.height = 1\n",
    "        \n",
    "class avl:\n",
    "    def __init__(self):\n",
    "        self.root = None\n",
    "    \n",
    "    def height(self, root):\n",
    "        if not root:\n",
    "            return 0\n",
    "        return root.height\n",
    "    \n",
    "    def display(self, root):\n",
    "        if not root:\n",
    "            return []\n",
    "        return self.display(root.left) + [root.data] + self.display(root.right)\n",
    "    \n",
    "    def insert(self,root, key):\n",
    "        if not root:\n",
    "            return node(key)\n",
    "        elif key < root.data:\n",
    "            root.left = self.insert(root.left, key)\n",
    "        else:\n",
    "            root.right = self.insert(root.right, key)\n",
    "        root.height = 1 + max(self.height(root.left), self.height(root.right))\n",
    "        return self.balance(root)\n",
    "         \n",
    "    def balance_factor(self, root):\n",
    "        if not root:\n",
    "            return 0\n",
    "        return self.height(root.left) - self.height(root.right)\n",
    "    \n",
    "    def rotate_right(self, root):\n",
    "        new_root = root.left\n",
    "        root.left = new_root.right\n",
    "        new_root.right = root\n",
    "        root.height = 1 + max(self.height(root.left), self.height(root.right))\n",
    "        new_root.height = 1 + max(self.height(new_root.left), self.height(new_root.right))\n",
    "        return new_root\n",
    "    \n",
    "    def rotate_left(self, root):\n",
    "        new_root = root.right\n",
    "        root.right = new_root.left\n",
    "        new_root.left = root\n",
    "        root.height = 1 + max(self.height(root.left), self.height(root.right))\n",
    "        new_root.height = 1 + max(self.height(new_root.left), self.height(new_root.right))\n",
    "        return new_root\n",
    "    \n",
    "    def balance(self, root):\n",
    "        if not root:\n",
    "            return root\n",
    "        \n",
    "        root.left = self.balance(root.left)\n",
    "        root.right = self.balance(root.right)\n",
    "       \n",
    "        balance_factor = self.balance_factor(root)\n",
    "        \n",
    "        # LL\n",
    "        if balance_factor > 1 and self.balance_factor(root.left) >= 0:\n",
    "            return self.rotate_right(root)\n",
    "        \n",
    "        # RR\n",
    "        if balance_factor < -1 and self.balance_factor(root.right) <= 0:\n",
    "            return self.rotate_left(root)\n",
    "        \n",
    "        # LR\n",
    "        if balance_factor > 1 and self.balance_factor(root.left) < 0:\n",
    "            root.left = self.rotate_left(root.left)\n",
    "            return self.rotate_right(root)\n",
    "        \n",
    "        # RL\n",
    "        if balance_factor < -1 and self.balance_factor(root.right) > 0:\n",
    "            root.right = self.rotate_right(root.right)\n",
    "            return self.rotate_left(root)\n",
    "        \n",
    "        return root"
   ]
  },
  {
   "cell_type": "code",
   "execution_count": 82,
   "id": "0ec86107",
   "metadata": {},
   "outputs": [],
   "source": [
    "a = avl()\n",
    "root = None"
   ]
  },
  {
   "cell_type": "code",
   "execution_count": 83,
   "id": "18657225",
   "metadata": {},
   "outputs": [],
   "source": [
    "root = a.insert(root,1)\n",
    "root = a.insert(root,2)\n",
    "root=a.insert(root,3)"
   ]
  },
  {
   "cell_type": "code",
   "execution_count": 84,
   "id": "18c2239b",
   "metadata": {},
   "outputs": [
    {
     "data": {
      "text/plain": [
       "0"
      ]
     },
     "execution_count": 84,
     "metadata": {},
     "output_type": "execute_result"
    }
   ],
   "source": [
    "a.balance_factor(a.root)"
   ]
  },
  {
   "cell_type": "code",
   "execution_count": 85,
   "id": "e27cbf60",
   "metadata": {},
   "outputs": [
    {
     "data": {
      "text/plain": [
       "[]"
      ]
     },
     "execution_count": 85,
     "metadata": {},
     "output_type": "execute_result"
    }
   ],
   "source": [
    "a.display(a.root)"
   ]
  },
  {
   "cell_type": "code",
   "execution_count": 86,
   "id": "8a366569",
   "metadata": {},
   "outputs": [],
   "source": [
    "a.root = a.insert(a.root, 7)"
   ]
  },
  {
   "cell_type": "code",
   "execution_count": 87,
   "id": "0c774bc4",
   "metadata": {},
   "outputs": [
    {
     "data": {
      "text/plain": [
       "[7]"
      ]
     },
     "execution_count": 87,
     "metadata": {},
     "output_type": "execute_result"
    }
   ],
   "source": [
    "a.display(a.root)"
   ]
  },
  {
   "cell_type": "code",
   "execution_count": 13,
   "id": "b346fc1f",
   "metadata": {},
   "outputs": [
    {
     "data": {
      "text/plain": [
       "3"
      ]
     },
     "execution_count": 13,
     "metadata": {},
     "output_type": "execute_result"
    }
   ],
   "source": [
    "a.height(a.root)"
   ]
  },
  {
   "cell_type": "code",
   "execution_count": 14,
   "id": "28b9356d",
   "metadata": {},
   "outputs": [
    {
     "data": {
      "text/plain": [
       "0"
      ]
     },
     "execution_count": 14,
     "metadata": {},
     "output_type": "execute_result"
    }
   ],
   "source": [
    "a.balance_factor(a.root)"
   ]
  },
  {
   "cell_type": "code",
   "execution_count": 15,
   "id": "19bdbc85",
   "metadata": {},
   "outputs": [
    {
     "data": {
      "text/plain": [
       "[1, 3, 5, 6, 7, 7]"
      ]
     },
     "execution_count": 15,
     "metadata": {},
     "output_type": "execute_result"
    }
   ],
   "source": [
    "a.display(a.root)"
   ]
  },
  {
   "cell_type": "code",
   "execution_count": 23,
   "id": "409cb5a2",
   "metadata": {},
   "outputs": [
    {
     "name": "stdout",
     "output_type": "stream",
     "text": [
      "1\n",
      "2\n",
      "3\n",
      "4\n",
      "5\n",
      "None\n"
     ]
    }
   ],
   "source": [
    "def p(n):\n",
    "    if n == 0:\n",
    "        return\n",
    "    p(n-1)\n",
    "    print(n)\n",
    "\n",
    "print(p(5))"
   ]
  },
  {
   "cell_type": "code",
   "execution_count": 32,
   "id": "c7514ce9",
   "metadata": {},
   "outputs": [],
   "source": [
    "def fact(n):\n",
    "    if n == 1:\n",
    "        return 1\n",
    "    return n*fact(n-1)"
   ]
  },
  {
   "cell_type": "code",
   "execution_count": 33,
   "id": "b2c0d814",
   "metadata": {},
   "outputs": [
    {
     "data": {
      "text/plain": [
       "120"
      ]
     },
     "execution_count": 33,
     "metadata": {},
     "output_type": "execute_result"
    }
   ],
   "source": [
    "fact(5)"
   ]
  },
  {
   "cell_type": "code",
   "execution_count": null,
   "id": "a4ea408f",
   "metadata": {},
   "outputs": [],
   "source": [
    "def sum_n(n):\n",
    "    pass"
   ]
  },
  {
   "cell_type": "code",
   "execution_count": 34,
   "id": "b19de888",
   "metadata": {},
   "outputs": [],
   "source": [
    "def pow(a,b):\n",
    "    if b == 1:\n",
    "        return a\n",
    "    return a * pow(a, b-1)"
   ]
  },
  {
   "cell_type": "code",
   "execution_count": 35,
   "id": "241ce0fa",
   "metadata": {},
   "outputs": [
    {
     "data": {
      "text/plain": [
       "8"
      ]
     },
     "execution_count": 35,
     "metadata": {},
     "output_type": "execute_result"
    }
   ],
   "source": [
    "pow(2,3)"
   ]
  },
  {
   "cell_type": "code",
   "execution_count": 40,
   "id": "e7abac52",
   "metadata": {},
   "outputs": [],
   "source": [
    "def fib(n):\n",
    "    if n == 0:\n",
    "        return 0\n",
    "    if n == 1:\n",
    "        return 1\n",
    "    a, b = 0, 1\n",
    "    for _ in range(2,n+1):\n",
    "        a,b = b,a+b\n",
    "    return b"
   ]
  },
  {
   "cell_type": "code",
   "execution_count": 42,
   "id": "952ddb59",
   "metadata": {},
   "outputs": [
    {
     "data": {
      "text/plain": [
       "55"
      ]
     },
     "execution_count": 42,
     "metadata": {},
     "output_type": "execute_result"
    }
   ],
   "source": [
    "fib(10)"
   ]
  },
  {
   "cell_type": "code",
   "execution_count": null,
   "id": "a3ec8809",
   "metadata": {},
   "outputs": [],
   "source": [
    "def fib(n):\n",
    "    if n == 0:\n",
    "        return 0\n",
    "    if n == 1:\n",
    "        return 1\n",
    "    return fib(n-1) + fib(n-2)"
   ]
  },
  {
   "cell_type": "code",
   "execution_count": 41,
   "id": "58c55e95",
   "metadata": {},
   "outputs": [
    {
     "data": {
      "text/plain": [
       "5"
      ]
     },
     "execution_count": 41,
     "metadata": {},
     "output_type": "execute_result"
    }
   ],
   "source": [
    "fib(5)"
   ]
  },
  {
   "cell_type": "code",
   "execution_count": null,
   "id": "c0762973",
   "metadata": {},
   "outputs": [],
   "source": [
    "# Print Fibonacci series up to n terms\n",
    "def print_fibonacci_series(n):\n",
    "    for i in range(n):\n",
    "        print(fib(i), end=' ')\n",
    "    print()\n",
    "\n",
    "print_fibonacci_series(10)"
   ]
  },
  {
   "cell_type": "code",
   "execution_count": 49,
   "id": "d792d9b8",
   "metadata": {},
   "outputs": [],
   "source": [
    "# find max element in list using recursion\n",
    "def max_l(lst):\n",
    "    if len(lst) == 1:\n",
    "        return lst[0]\n",
    "    return max(lst[0], max_l(lst[1:]))"
   ]
  },
  {
   "cell_type": "code",
   "execution_count": 50,
   "id": "a9aef2d5",
   "metadata": {},
   "outputs": [
    {
     "name": "stdout",
     "output_type": "stream",
     "text": [
      "5\n"
     ]
    }
   ],
   "source": [
    "lst = [1,3,5,2,4]\n",
    "print(max_l(lst))"
   ]
  },
  {
   "cell_type": "code",
   "execution_count": 56,
   "id": "f6df8e2b",
   "metadata": {},
   "outputs": [],
   "source": [
    "def max_l(l, m=None):\n",
    "    if m == None:\n",
    "        m = l[0]\n",
    "    elif len(l) == 0:\n",
    "        print(m)\n",
    "        return\n",
    "    elif m < l[0]:\n",
    "        m = l[0]\n",
    "        \n",
    "    max_l(l[1:],m)\n"
   ]
  },
  {
   "cell_type": "code",
   "execution_count": 58,
   "id": "b0ece37a",
   "metadata": {},
   "outputs": [
    {
     "name": "stdout",
     "output_type": "stream",
     "text": [
      "5\n"
     ]
    }
   ],
   "source": [
    "lst = [1,3,5,2,4]\n",
    "max_l(lst)"
   ]
  },
  {
   "cell_type": "code",
   "execution_count": 60,
   "id": "9c63bd2d",
   "metadata": {},
   "outputs": [],
   "source": [
    "# min element using rec\n",
    "def min_l(l, m=None):\n",
    "    if m == None:\n",
    "        m = l[0]\n",
    "    elif len(l) == 0:\n",
    "        print(m)\n",
    "        return\n",
    "    elif m > l[0]:\n",
    "        m = l[0]\n",
    "        \n",
    "    min_l(l[1:],m)"
   ]
  },
  {
   "cell_type": "code",
   "execution_count": 62,
   "id": "82dbf3e1",
   "metadata": {},
   "outputs": [
    {
     "name": "stdout",
     "output_type": "stream",
     "text": [
      "1\n"
     ]
    }
   ],
   "source": [
    "lst = [1,3,5,2,4]\n",
    "min_l(lst)"
   ]
  },
  {
   "cell_type": "code",
   "execution_count": 63,
   "id": "692d1a87",
   "metadata": {},
   "outputs": [],
   "source": [
    "# count number of 0 in a digit\n",
    "def count_z(m):\n",
    "    if m == 0:\n",
    "        return 1\n",
    "    if m < 10:\n",
    "        return 0\n",
    "    if m % 10 == 0:\n",
    "        return 1 + count_z(m // 10)\n",
    "    return count_z(m // 10)"
   ]
  },
  {
   "cell_type": "code",
   "execution_count": 64,
   "id": "4042b17b",
   "metadata": {},
   "outputs": [
    {
     "data": {
      "text/plain": [
       "4"
      ]
     },
     "execution_count": 64,
     "metadata": {},
     "output_type": "execute_result"
    }
   ],
   "source": [
    "count_z(1002020)"
   ]
  },
  {
   "cell_type": "code",
   "execution_count": 65,
   "id": "8a0e8d68",
   "metadata": {},
   "outputs": [],
   "source": [
    "# multiplication of two numbers using recursion without using *\n",
    "def multiply2(a, b):\n",
    "    if a == 0 or b == 0:\n",
    "        return 0\n",
    "    return a + multiply2(a, b - 1)"
   ]
  },
  {
   "cell_type": "code",
   "execution_count": null,
   "id": "041f84d3",
   "metadata": {},
   "outputs": [],
   "source": [
    "# gcd using recursion\n"
   ]
  },
  {
   "cell_type": "code",
   "execution_count": 29,
   "id": "eda02ebd",
   "metadata": {},
   "outputs": [],
   "source": [
    "# tower of hanoi\n",
    "\n",
    "def toh(n, source, destination, aux):\n",
    "    if n == 1:\n",
    "        print(f\"Move disk 1 from source:{source} to destination:{destination}\")\n",
    "        return\n",
    "        \n",
    "    toh(n-1, source, aux, destination)  \n",
    "    print(f\"Move disk {n} from source:{source} to destination:{destination}\")\n",
    "    toh(n-1, aux, destination, source)    "
   ]
  },
  {
   "cell_type": "code",
   "execution_count": 31,
   "id": "60d3d91d",
   "metadata": {},
   "outputs": [
    {
     "name": "stdout",
     "output_type": "stream",
     "text": [
      "Move disk 1 from source:A to destination:B\n",
      "Move disk 2 from source:A to destination:C\n",
      "Move disk 1 from source:B to destination:C\n",
      "Move disk 3 from source:A to destination:B\n",
      "Move disk 1 from source:C to destination:A\n",
      "Move disk 2 from source:C to destination:B\n",
      "Move disk 1 from source:A to destination:B\n"
     ]
    }
   ],
   "source": [
    "toh(3,'A','B','C')"
   ]
  },
  {
   "cell_type": "code",
   "execution_count": 76,
   "id": "1c29daef",
   "metadata": {},
   "outputs": [],
   "source": [
    "# binary search using recursion\n",
    "def binary_search(a, t, l, r):\n",
    "    if l > r:\n",
    "        return -1\n",
    "    m = (l+r)//2\n",
    "    if a[m] == t:\n",
    "        return m\n",
    "    elif a[m] < t:\n",
    "        return binary_search(a, t, m+1, r)\n",
    "    else:\n",
    "        return binary_search(a, t, l, m-1)\n",
    "    "
   ]
  },
  {
   "cell_type": "code",
   "execution_count": 78,
   "id": "11d08feb",
   "metadata": {},
   "outputs": [
    {
     "data": {
      "text/plain": [
       "2"
      ]
     },
     "execution_count": 78,
     "metadata": {},
     "output_type": "execute_result"
    }
   ],
   "source": [
    "a = [1, 3, 5, 7, 9]\n",
    "binary_search(a, 5, 0, len(a)-1)"
   ]
  },
  {
   "cell_type": "code",
   "execution_count": 79,
   "id": "e021a153",
   "metadata": {},
   "outputs": [],
   "source": [
    "# linear search using recusrion\n",
    "def linear_search(a, t, i=0):\n",
    "    if i == len(a):\n",
    "        return -1\n",
    "    if a[i] == t:\n",
    "        return i\n",
    "    return linear_search(a, t, i+1)"
   ]
  },
  {
   "cell_type": "code",
   "execution_count": 80,
   "id": "076d48f3",
   "metadata": {},
   "outputs": [
    {
     "data": {
      "text/plain": [
       "2"
      ]
     },
     "execution_count": 80,
     "metadata": {},
     "output_type": "execute_result"
    }
   ],
   "source": [
    "a = [1, 3, 5, 6, 9]\n",
    "linear_search(a, 5)"
   ]
  }
 ],
 "metadata": {
  "kernelspec": {
   "display_name": "Python 3",
   "language": "python",
   "name": "python3"
  },
  "language_info": {
   "codemirror_mode": {
    "name": "ipython",
    "version": 3
   },
   "file_extension": ".py",
   "mimetype": "text/x-python",
   "name": "python",
   "nbconvert_exporter": "python",
   "pygments_lexer": "ipython3",
   "version": "3.12.1"
  }
 },
 "nbformat": 4,
 "nbformat_minor": 5
}
