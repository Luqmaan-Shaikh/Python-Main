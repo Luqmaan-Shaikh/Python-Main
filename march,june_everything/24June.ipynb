{
 "cells": [
  {
   "cell_type": "markdown",
   "id": "d00c823e",
   "metadata": {},
   "source": [
    "### Queue using stack"
   ]
  },
  {
   "cell_type": "code",
   "execution_count": 61,
   "id": "397c54ce",
   "metadata": {},
   "outputs": [],
   "source": [
    "# Implement Queue using stack\n",
    "class QueueUsingStack:\n",
    "    def __init__(self):\n",
    "        self.stack1 = []\n",
    "        self.stack2 = []\n",
    "    \n",
    "    def enqueue(self, item):\n",
    "        self.stack1.append(item)\n",
    "        \n",
    "    def dequeue(self):\n",
    "        if not self.stack2:\n",
    "            while self.stack1:\n",
    "                self.stack2.append(self.stack1.pop())\n",
    "        return self.stack2.pop()\n",
    "    \n",
    "    def size(self):\n",
    "        return len(self.stack1) + len(self.stack2)\n",
    "    \n",
    "    def display(self):\n",
    "        return self.stack2[::-1] + self.stack1\n",
    "            "
   ]
  },
  {
   "cell_type": "code",
   "execution_count": 62,
   "id": "78907147",
   "metadata": {},
   "outputs": [],
   "source": [
    "q = QueueUsingStack()\n",
    "             "
   ]
  },
  {
   "cell_type": "code",
   "execution_count": 63,
   "id": "a9e38136",
   "metadata": {},
   "outputs": [],
   "source": [
    "q.enqueue(1)\n",
    "q.enqueue(2)\n",
    "q.enqueue(3)"
   ]
  },
  {
   "cell_type": "code",
   "execution_count": 64,
   "id": "bd588c24",
   "metadata": {},
   "outputs": [
    {
     "data": {
      "text/plain": [
       "[1, 2, 3]"
      ]
     },
     "execution_count": 64,
     "metadata": {},
     "output_type": "execute_result"
    }
   ],
   "source": [
    "q.display()"
   ]
  },
  {
   "cell_type": "code",
   "execution_count": 65,
   "id": "51cc4450",
   "metadata": {},
   "outputs": [
    {
     "data": {
      "text/plain": [
       "1"
      ]
     },
     "execution_count": 65,
     "metadata": {},
     "output_type": "execute_result"
    }
   ],
   "source": [
    "q.dequeue()"
   ]
  },
  {
   "cell_type": "code",
   "execution_count": 66,
   "id": "681b4e95",
   "metadata": {},
   "outputs": [
    {
     "data": {
      "text/plain": [
       "2"
      ]
     },
     "execution_count": 66,
     "metadata": {},
     "output_type": "execute_result"
    }
   ],
   "source": [
    "q.size()"
   ]
  },
  {
   "cell_type": "code",
   "execution_count": 67,
   "id": "dd57b8f3",
   "metadata": {},
   "outputs": [
    {
     "data": {
      "text/plain": [
       "[2, 3]"
      ]
     },
     "execution_count": 67,
     "metadata": {},
     "output_type": "execute_result"
    }
   ],
   "source": [
    "q.display()"
   ]
  },
  {
   "cell_type": "code",
   "execution_count": 68,
   "id": "4fcccd3f",
   "metadata": {},
   "outputs": [
    {
     "data": {
      "text/plain": [
       "2"
      ]
     },
     "execution_count": 68,
     "metadata": {},
     "output_type": "execute_result"
    }
   ],
   "source": [
    "q.dequeue()"
   ]
  },
  {
   "cell_type": "code",
   "execution_count": 69,
   "id": "d1f4c480",
   "metadata": {},
   "outputs": [],
   "source": [
    "q.enqueue(4)"
   ]
  },
  {
   "cell_type": "code",
   "execution_count": 70,
   "id": "fcd14e84",
   "metadata": {},
   "outputs": [
    {
     "data": {
      "text/plain": [
       "[3, 4]"
      ]
     },
     "execution_count": 70,
     "metadata": {},
     "output_type": "execute_result"
    }
   ],
   "source": [
    "q.display()"
   ]
  },
  {
   "cell_type": "code",
   "execution_count": 71,
   "id": "3223cc69",
   "metadata": {},
   "outputs": [
    {
     "data": {
      "text/plain": [
       "3"
      ]
     },
     "execution_count": 71,
     "metadata": {},
     "output_type": "execute_result"
    }
   ],
   "source": [
    "q.dequeue()"
   ]
  },
  {
   "cell_type": "markdown",
   "id": "51b9f242",
   "metadata": {},
   "source": [
    "### Stack Using Queue"
   ]
  },
  {
   "cell_type": "code",
   "execution_count": 72,
   "id": "6134562f",
   "metadata": {},
   "outputs": [],
   "source": [
    "class StackUsingQueue:\n",
    "    def __init__(self):\n",
    "        self.queue1 = []\n",
    "        self.queue2 = []\n",
    "        \n",
    "    def push(self, item):\n",
    "        self.queue1.append(item)\n",
    "        print(\"Pushed\", item)\n",
    "        \n",
    "    def pop(self):\n",
    "        if not self.queue1:\n",
    "            return None\n",
    "        while len(self.queue1) > 1:\n",
    "            self.queue2.append(self.queue1.pop(0))\n",
    "        popped_item = self.queue1.pop(0)\n",
    "        self.queue1, self.queue2 = self.queue2, self.queue1\n",
    "        return popped_item"
   ]
  },
  {
   "cell_type": "code",
   "execution_count": 73,
   "id": "db9597be",
   "metadata": {},
   "outputs": [],
   "source": [
    "s = StackUsingQueue()"
   ]
  },
  {
   "cell_type": "code",
   "execution_count": 74,
   "id": "473d2f0d",
   "metadata": {},
   "outputs": [
    {
     "name": "stdout",
     "output_type": "stream",
     "text": [
      "Pushed 1\n",
      "Pushed 2\n",
      "Pushed 3\n"
     ]
    }
   ],
   "source": [
    "s.push(1)\n",
    "s.push(2)\n",
    "s.push(3)"
   ]
  },
  {
   "cell_type": "code",
   "execution_count": 75,
   "id": "b48b1554",
   "metadata": {},
   "outputs": [
    {
     "data": {
      "text/plain": [
       "3"
      ]
     },
     "execution_count": 75,
     "metadata": {},
     "output_type": "execute_result"
    }
   ],
   "source": [
    "s.pop()"
   ]
  },
  {
   "cell_type": "markdown",
   "id": "9f8af607",
   "metadata": {},
   "source": [
    "# Tree"
   ]
  },
  {
   "cell_type": "markdown",
   "id": "e5762c68",
   "metadata": {},
   "source": [
    "- Degree = Number of Child\n",
    "- Leaf Node (Terminal Node) = Bottom most node of the tree which does not have a child \n",
    "- Ancestors = All the previous nodes for the current node\n",
    "- Uncle Node = Nodes which have same parent node as the parent node of current node\n",
    "- Descendant = Every down nodes connected to current node\n",
    "- Diameter = Maximum distance between 2 nodes\n",
    "- Width = Distnace Horizontally"
   ]
  },
  {
   "cell_type": "markdown",
   "id": "d219fef3",
   "metadata": {},
   "source": [
    "- Binary Tree = Max 2 child for a single node\n",
    "- Complete Binary Tree = All level filled (all leaf node should be on same level)\n",
    "- Strict Binary Tree = Either 0 or 2 child for each node\n",
    "- Extended Binary Tree = Extra node attached to binary tree to make it a strict binary tree"
   ]
  },
  {
   "cell_type": "markdown",
   "id": "59af6fab",
   "metadata": {},
   "source": [
    "- Inorder = Left root right\n",
    "- Preorder = root left right\n",
    "- Postorder = left right root"
   ]
  },
  {
   "cell_type": "markdown",
   "id": "6a52ebf8",
   "metadata": {},
   "source": [
    "- BFS = Breadth First Search\n",
    "- DFS = Depth First Search"
   ]
  },
  {
   "cell_type": "markdown",
   "id": "6e3a669d",
   "metadata": {},
   "source": [
    "### BFS and DFS"
   ]
  },
  {
   "cell_type": "code",
   "execution_count": 4,
   "id": "5a8076f3",
   "metadata": {},
   "outputs": [],
   "source": [
    "class node:\n",
    "    def __init__(self, data):\n",
    "        self.data = data\n",
    "        self.left = None\n",
    "        self.right = None"
   ]
  },
  {
   "cell_type": "code",
   "execution_count": 3,
   "id": "1c4449c8",
   "metadata": {},
   "outputs": [],
   "source": [
    "root = node(1)"
   ]
  },
  {
   "cell_type": "code",
   "execution_count": 4,
   "id": "6c5ee224",
   "metadata": {},
   "outputs": [],
   "source": [
    "root.left = node(2)\n",
    "root.right = node(3)"
   ]
  },
  {
   "cell_type": "code",
   "execution_count": 5,
   "id": "b5bcd7e5",
   "metadata": {},
   "outputs": [],
   "source": [
    "root.left.left = node(4)\n",
    "root.left.right = node(5)"
   ]
  },
  {
   "cell_type": "code",
   "execution_count": 6,
   "id": "c26f5de3",
   "metadata": {},
   "outputs": [],
   "source": [
    "root.right.left = node(6)\n",
    "root.right.right = node(7)"
   ]
  },
  {
   "cell_type": "code",
   "execution_count": 7,
   "id": "3032b121",
   "metadata": {},
   "outputs": [],
   "source": [
    "def bfs(root):\n",
    "    if not root:\n",
    "        return\n",
    "      \n",
    "    queue = []\n",
    "    queue.append(root)\n",
    "        \n",
    "    while queue:\n",
    "        node = queue.pop(0)\n",
    "        print(node.data)\n",
    "           \n",
    "        if node.left: \n",
    "            queue.append(node.left)\n",
    "        if node.right:\n",
    "            queue.append(node.right) "
   ]
  },
  {
   "cell_type": "code",
   "execution_count": 8,
   "id": "d921158e",
   "metadata": {},
   "outputs": [
    {
     "name": "stdout",
     "output_type": "stream",
     "text": [
      "1\n",
      "2\n",
      "3\n",
      "4\n",
      "5\n",
      "6\n",
      "7\n"
     ]
    }
   ],
   "source": [
    "bfs(root)"
   ]
  },
  {
   "cell_type": "code",
   "execution_count": 9,
   "id": "b65d2758",
   "metadata": {},
   "outputs": [],
   "source": [
    "def dfs(root):\n",
    "    pass"
   ]
  },
  {
   "cell_type": "markdown",
   "id": "6bb4e955",
   "metadata": {},
   "source": [
    "### Binary Search Tree"
   ]
  },
  {
   "cell_type": "code",
   "execution_count": 4,
   "id": "e42ce4dc",
   "metadata": {},
   "outputs": [],
   "source": [
    "class node:\n",
    "    def __init__(self, data):\n",
    "        self.data = data\n",
    "        self.left = None\n",
    "        self.right = None\n",
    "\n",
    "class bst:\n",
    "    @staticmethod\n",
    "    def insert(root,data):\n",
    "        n = node(data)\n",
    "        if root is None:\n",
    "            root = n\n",
    "        else:\n",
    "            r = root\n",
    "            while r is not None:\n",
    "                if data < r.data:\n",
    "                    if r.left is None:\n",
    "                        r.left = n\n",
    "                        break\n",
    "                    r = r.left\n",
    "                elif data > r.data:\n",
    "                    if r.right is None:\n",
    "                        r.right = n\n",
    "                        break\n",
    "                    r = r.right\n",
    "            \n",
    "        return root\n",
    "    \n",
    "    @staticmethod\n",
    "    def bfs(root):\n",
    "        if not root:\n",
    "            return\n",
    "      \n",
    "        queue = []\n",
    "        queue.append(root)\n",
    "            \n",
    "        while queue:\n",
    "            node = queue.pop(0)\n",
    "            print(node.data, end=\",\")\n",
    "            \n",
    "            if node.left: \n",
    "                queue.append(node.left)\n",
    "            if node.right:\n",
    "                queue.append(node.right) \n",
    "                \n",
    "    \n",
    "    @staticmethod\n",
    "    def search(root, data):\n",
    "        if root is None:\n",
    "            return \"no root\"\n",
    "        if root.data == data:\n",
    "            return True\n",
    "        elif data < root.data:\n",
    "            return bst.search(root.left, data)\n",
    "        else:\n",
    "            return bst.search(root.right, data)\n",
    "        \n",
    "    @staticmethod\n",
    "    def min_value_node(node):\n",
    "        current = node\n",
    "        while current.left is not None:\n",
    "            current = current.left\n",
    "        return current\n",
    "        \n",
    "    @staticmethod\n",
    "    def delete(root, data):\n",
    "        if root is None:\n",
    "            return root\n",
    "        \n",
    "        if data < root.data:\n",
    "            root.left = bst.delete(root.left, data)\n",
    "        elif data > root.data:\n",
    "            root.right = bst.delete(root.right, data)\n",
    "        else:\n",
    "            if root.left is None and root.right is None:\n",
    "                return None\n",
    "            if root.left is None:\n",
    "                return root.right\n",
    "            if root.right is None:\n",
    "                return root.left\n",
    "            \n",
    "            temp = bst.min_value_node(root.right)\n",
    "            root.data = temp.data\n",
    "            root.right = bst.delete(root.right, temp.data)\n",
    "        \n",
    "        return root    \n",
    "    \n",
    "    @staticmethod\n",
    "    def height_of_bst(root):\n",
    "        if root is None:\n",
    "            return 0\n",
    "        left_height = bst.height_of_bst(root.left)\n",
    "        right_height = bst.height_of_bst(root.right)\n",
    "        return max(left_height, right_height) + 1  "
   ]
  },
  {
   "cell_type": "code",
   "execution_count": 5,
   "id": "90c294c3",
   "metadata": {},
   "outputs": [],
   "source": [
    "b = bst()\n",
    "root = None\n",
    "root = b.insert(root,50)\n",
    "root = b.insert(root,20)\n",
    "root = b.insert(root,70)\n",
    "root = b.insert(root,90)\n",
    "root = b.insert(root,150)\n",
    "root = b.insert(root,10)\n",
    "root = b.insert(root,80)\n",
    "root = b.insert(root,55)\n",
    "root = b.insert(root,25)\n",
    "root = b.insert(root,95)"
   ]
  },
  {
   "cell_type": "code",
   "execution_count": 6,
   "id": "345ab677",
   "metadata": {},
   "outputs": [
    {
     "name": "stdout",
     "output_type": "stream",
     "text": [
      "50,20,70,10,25,55,90,80,150,95,"
     ]
    }
   ],
   "source": [
    "b.bfs(root)"
   ]
  },
  {
   "cell_type": "code",
   "execution_count": 34,
   "id": "b10f1d9e",
   "metadata": {},
   "outputs": [
    {
     "data": {
      "text/plain": [
       "True"
      ]
     },
     "execution_count": 34,
     "metadata": {},
     "output_type": "execute_result"
    }
   ],
   "source": [
    "b.search(root, 80)"
   ]
  },
  {
   "cell_type": "code",
   "execution_count": 35,
   "id": "04fc5498",
   "metadata": {},
   "outputs": [
    {
     "data": {
      "text/plain": [
       "<__main__.node at 0x240019f6c00>"
      ]
     },
     "execution_count": 35,
     "metadata": {},
     "output_type": "execute_result"
    }
   ],
   "source": [
    "b.delete(root, 80)"
   ]
  },
  {
   "cell_type": "code",
   "execution_count": 36,
   "id": "f386554d",
   "metadata": {},
   "outputs": [
    {
     "name": "stdout",
     "output_type": "stream",
     "text": [
      "50,20,70,10,25,55,90,150,95,"
     ]
    }
   ],
   "source": [
    "b.bfs(root)"
   ]
  },
  {
   "cell_type": "code",
   "execution_count": 37,
   "id": "48e7e83a",
   "metadata": {},
   "outputs": [
    {
     "data": {
      "text/plain": [
       "5"
      ]
     },
     "execution_count": 37,
     "metadata": {},
     "output_type": "execute_result"
    }
   ],
   "source": [
    "b.height_of_bst(root)"
   ]
  },
  {
   "cell_type": "markdown",
   "id": "f6e950cc",
   "metadata": {},
   "source": [
    "### Preorder (using stack)"
   ]
  },
  {
   "cell_type": "code",
   "execution_count": 8,
   "id": "f1c060fd",
   "metadata": {},
   "outputs": [],
   "source": [
    "class node:\n",
    "    def __init__(self, data):\n",
    "        self.data = data\n",
    "        self.left = None\n",
    "        self.right = None\n",
    "        \n",
    "def preorder(root):\n",
    "    if not root:\n",
    "        return None\n",
    "    \n",
    "    stack = []\n",
    "    result = []\n",
    "    stack.append(root)\n",
    "    \n",
    "    while stack:\n",
    "        node = stack.pop()\n",
    "        result.append(node.data)\n",
    "        \n",
    "        if node.right:\n",
    "            stack.append(node.right)\n",
    "        if node.left:\n",
    "            stack.append(node.left)\n",
    "    return result"
   ]
  },
  {
   "cell_type": "code",
   "execution_count": 9,
   "id": "afae6243",
   "metadata": {},
   "outputs": [],
   "source": [
    "root = node(1)\n",
    "root.left = node(2)\n",
    "root.right = node(3)\n",
    "root.left.left = node(4)\n",
    "root.left.right = node(5)\n"
   ]
  },
  {
   "cell_type": "code",
   "execution_count": 9,
   "id": "16b27e82",
   "metadata": {},
   "outputs": [
    {
     "data": {
      "text/plain": [
       "[50, 20, 10, 25, 70, 55, 90, 80, 150, 95]"
      ]
     },
     "execution_count": 9,
     "metadata": {},
     "output_type": "execute_result"
    }
   ],
   "source": [
    "preorder(root)"
   ]
  },
  {
   "cell_type": "markdown",
   "id": "b0853ddf",
   "metadata": {},
   "source": [
    "### Inorder"
   ]
  },
  {
   "cell_type": "code",
   "execution_count": 10,
   "id": "bfb37f2c",
   "metadata": {},
   "outputs": [],
   "source": [
    "class node:\n",
    "    def __init__(self, data):\n",
    "        self.data = data\n",
    "        self.left = None\n",
    "        self.right = None\n",
    "        \n",
    "def inorder(root):\n",
    "    if not root:\n",
    "        return None\n",
    "    \n",
    "    stack = []\n",
    "    result = []\n",
    "    current = root\n",
    "    \n",
    "    while True:\n",
    "        if current is not None:\n",
    "            stack.append(current)\n",
    "            current = current.left\n",
    "        elif stack:\n",
    "            current = stack.pop()\n",
    "            result.append(current.data)\n",
    "            current = current.right\n",
    "        else:\n",
    "            break\n",
    "    return result"
   ]
  },
  {
   "cell_type": "code",
   "execution_count": 15,
   "id": "a1097060",
   "metadata": {},
   "outputs": [],
   "source": [
    "root = node(1)\n",
    "root.left = node(2)\n",
    "root.right = node(3)\n",
    "root.left.left = node(4)\n",
    "root.left.right = node(5)"
   ]
  },
  {
   "cell_type": "code",
   "execution_count": 11,
   "id": "b043abaa",
   "metadata": {},
   "outputs": [
    {
     "data": {
      "text/plain": [
       "[10, 20, 25, 50, 55, 70, 80, 90, 95, 150]"
      ]
     },
     "execution_count": 11,
     "metadata": {},
     "output_type": "execute_result"
    }
   ],
   "source": [
    "inorder(root)"
   ]
  },
  {
   "cell_type": "markdown",
   "id": "c17486ca",
   "metadata": {},
   "source": [
    "### Postorder"
   ]
  },
  {
   "cell_type": "code",
   "execution_count": 1,
   "id": "1a1c0bf6",
   "metadata": {},
   "outputs": [],
   "source": [
    "class node:\n",
    "    def __init__(self, data):\n",
    "        self.data = data\n",
    "        self.left = None\n",
    "        self.right = None\n",
    "\n",
    "def postorder(root):\n",
    "    if root is None:\n",
    "        return None\n",
    "    \n",
    "    stack = []\n",
    "    result = []\n",
    "    \n",
    "    stack.append(root)\n",
    "    \n",
    "    while stack:\n",
    "        if stack:\n",
    "            node = stack.pop()\n",
    "            result.append(node.data)\n",
    "            if node.left:\n",
    "                stack.append(node.left)\n",
    "            if node.right:\n",
    "                stack.append(node.right)\n",
    "    return result[::-1]\n",
    "    \n",
    "    "
   ]
  },
  {
   "cell_type": "code",
   "execution_count": 2,
   "id": "d3bf64cf",
   "metadata": {},
   "outputs": [],
   "source": [
    "root = node(1)\n",
    "root.left = node(2)\n",
    "root.right = node(3)\n",
    "root.left.left = node(4)\n",
    "root.left.right = node(5)"
   ]
  },
  {
   "cell_type": "code",
   "execution_count": 12,
   "id": "37d65d19",
   "metadata": {},
   "outputs": [
    {
     "data": {
      "text/plain": [
       "[10, 25, 20, 55, 80, 95, 150, 90, 70, 50]"
      ]
     },
     "execution_count": 12,
     "metadata": {},
     "output_type": "execute_result"
    }
   ],
   "source": [
    "postorder(root)"
   ]
  },
  {
   "cell_type": "markdown",
   "id": "7b039e1c",
   "metadata": {},
   "source": [
    "### Find for BST\n",
    "- Second largest element, etc\n",
    "- Min element\n",
    "- Max element\n",
    "- Mid element\n",
    "- others"
   ]
  }
 ],
 "metadata": {
  "kernelspec": {
   "display_name": "Python 3",
   "language": "python",
   "name": "python3"
  },
  "language_info": {
   "codemirror_mode": {
    "name": "ipython",
    "version": 3
   },
   "file_extension": ".py",
   "mimetype": "text/x-python",
   "name": "python",
   "nbconvert_exporter": "python",
   "pygments_lexer": "ipython3",
   "version": "3.12.1"
  }
 },
 "nbformat": 4,
 "nbformat_minor": 5
}
