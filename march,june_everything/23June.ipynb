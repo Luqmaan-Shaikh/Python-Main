{
 "cells": [
  {
   "cell_type": "markdown",
   "id": "4f28509d",
   "metadata": {},
   "source": [
    "## infix, postfix, prefix"
   ]
  },
  {
   "cell_type": "markdown",
   "id": "0b36be25",
   "metadata": {},
   "source": [
    "###### infix = (a+b)*c\n",
    "###### prefix = *+abc\n",
    "###### postfix = ab+c*"
   ]
  },
  {
   "cell_type": "markdown",
   "id": "fadac87e",
   "metadata": {},
   "source": [
    "##### infix to postfix"
   ]
  },
  {
   "cell_type": "code",
   "execution_count": null,
   "id": "1a74bbd3",
   "metadata": {},
   "outputs": [
    {
     "name": "stdout",
     "output_type": "stream",
     "text": [
      "ab+c*\n"
     ]
    }
   ],
   "source": [
    "def inf_to_pos(x):\n",
    "    ans = ''\n",
    "    stack = []\n",
    "    precedence = {'+': 1, '-': 1, '*': 2, '/': 2, '^': 3}\n",
    "    \n",
    "    for char in x:\n",
    "        if char.isalnum():\n",
    "            ans += char\n",
    "        elif char == '(':\n",
    "            stack.append(char)\n",
    "        elif char == ')':\n",
    "            while stack and stack[-1] != '(':\n",
    "                ans += stack.pop()\n",
    "            stack.pop()\n",
    "        else:\n",
    "            while (stack and stack[-1] != '(' and\n",
    "                   precedence.get(char, 0) <= precedence.get(stack[-1], 0)):\n",
    "                ans += stack.pop()\n",
    "            stack.append(char)\n",
    "    while stack:\n",
    "        ans += stack.pop() \n",
    "    return ans\n",
    "     \n",
    "# Example   \n",
    "x = \"(a+b)*c\"\n",
    "print(inf_to_pos(x))"
   ]
  },
  {
   "cell_type": "code",
   "execution_count": 14,
   "id": "52cd9942",
   "metadata": {},
   "outputs": [
    {
     "name": "stdout",
     "output_type": "stream",
     "text": [
      "10\n"
     ]
    }
   ],
   "source": [
    "# walrus operator\n",
    "print(a:=10)"
   ]
  },
  {
   "cell_type": "markdown",
   "id": "3b848ff0",
   "metadata": {},
   "source": [
    "##### infix to prefix"
   ]
  },
  {
   "cell_type": "code",
   "execution_count": null,
   "id": "82193b08",
   "metadata": {},
   "outputs": [
    {
     "name": "stdout",
     "output_type": "stream",
     "text": [
      "ab+c*\n"
     ]
    }
   ],
   "source": [
    "# same as infix to postfix \n",
    "# (here eqn is reversed and brackets are swapped and the result is reversed)\n",
    "\n",
    "def inf_to_pre(x):\n",
    "    ans = ''\n",
    "    stack = []\n",
    "    precedence = {'+': 1, '-': 1, '*': 2, '/': 2, '^': 3}\n",
    "    \n",
    "    for char in reversed(x):\n",
    "        if char.isalnum():\n",
    "            ans = char + ans\n",
    "        elif char == ')':\n",
    "            stack.append(char)\n",
    "        elif char == '(':\n",
    "            while stack and stack[-1] != ')':\n",
    "                ans = stack.pop() + ans\n",
    "            stack.pop()\n",
    "        else:\n",
    "            while (stack and stack[-1] != ')' and\n",
    "                   precedence.get(char, 0) < precedence.get(stack[-1], 0)):\n",
    "                ans = stack.pop() + ans\n",
    "            stack.append(char)\n",
    "    while stack:\n",
    "        ans = stack.pop() + ans\n",
    "    return ans\n",
    "\n",
    "# Example\n",
    "x = \"(a+b)*c\"\n",
    "print(inf_to_pos(x))"
   ]
  },
  {
   "cell_type": "markdown",
   "id": "22b52a7b",
   "metadata": {},
   "source": [
    "### Queue"
   ]
  },
  {
   "cell_type": "code",
   "execution_count": null,
   "id": "e74953df",
   "metadata": {},
   "outputs": [],
   "source": [
    "class Queue:\n",
    "    def __init__(self,size):\n",
    "        self.rear = -1\n",
    "        self.front = -1\n",
    "        self.isfull = False\n",
    "        self.size = size\n",
    "        self.queue = [None] * size\n",
    "        \n",
    "    def enqueue(self, data):\n",
    "        if self.isfull:\n",
    "            print(\"Queue is full\")\n",
    "            return\n",
    "        if self.rear == self.size - 1:\n",
    "            self.isfull = True\n",
    "            print(\"full\")\n",
    "            return\n",
    "        if self.front == -1:\n",
    "            self.front = 0\n",
    "            \n",
    "        self.rear += 1\n",
    "        self.queue[self.rear] = data\n",
    "        print(\"enqueued:\", data)\n",
    "        \n",
    "    def dequeue(self):\n",
    "        if self.front == -1 or self.front > self.rear:\n",
    "            print(\"empty\")\n",
    "            return\n",
    "        self.queue[self.front] = None\n",
    "        self.front += 1\n",
    "        print(\"dequeued\")\n",
    "        \n",
    "    def display(self):\n",
    "        print(self.queue)"
   ]
  },
  {
   "cell_type": "code",
   "execution_count": 92,
   "id": "7ea9804c",
   "metadata": {},
   "outputs": [],
   "source": [
    "q = Queue(5)"
   ]
  },
  {
   "cell_type": "code",
   "execution_count": 93,
   "id": "1ac25fce",
   "metadata": {},
   "outputs": [
    {
     "name": "stdout",
     "output_type": "stream",
     "text": [
      "enqueued: 1\n",
      "enqueued: 2\n",
      "enqueued: 3\n",
      "enqueued: 4\n",
      "enqueued: 5\n"
     ]
    }
   ],
   "source": [
    "q.enqueue(1)\n",
    "q.enqueue(2)\n",
    "q.enqueue(3)\n",
    "q.enqueue(4)\n",
    "q.enqueue(5)"
   ]
  },
  {
   "cell_type": "code",
   "execution_count": 94,
   "id": "c2126486",
   "metadata": {},
   "outputs": [
    {
     "name": "stdout",
     "output_type": "stream",
     "text": [
      "full\n"
     ]
    }
   ],
   "source": [
    "q.enqueue(6)"
   ]
  },
  {
   "cell_type": "code",
   "execution_count": 95,
   "id": "960204af",
   "metadata": {},
   "outputs": [
    {
     "name": "stdout",
     "output_type": "stream",
     "text": [
      "[1, 2, 3, 4, 5]\n"
     ]
    }
   ],
   "source": [
    "q.display()"
   ]
  },
  {
   "cell_type": "code",
   "execution_count": 96,
   "id": "9968d769",
   "metadata": {},
   "outputs": [
    {
     "name": "stdout",
     "output_type": "stream",
     "text": [
      "dequeued:\n",
      "dequeued:\n"
     ]
    }
   ],
   "source": [
    "q.dequeue()\n",
    "q.dequeue()"
   ]
  },
  {
   "cell_type": "code",
   "execution_count": 97,
   "id": "31f7e307",
   "metadata": {},
   "outputs": [
    {
     "name": "stdout",
     "output_type": "stream",
     "text": [
      "[None, None, 3, 4, 5]\n"
     ]
    }
   ],
   "source": [
    "q.display()"
   ]
  },
  {
   "cell_type": "code",
   "execution_count": null,
   "id": "7017bb1c",
   "metadata": {},
   "outputs": [
    {
     "name": "stdout",
     "output_type": "stream",
     "text": [
      "Queue is full\n"
     ]
    }
   ],
   "source": [
    "# q.enqueue(6)"
   ]
  },
  {
   "cell_type": "code",
   "execution_count": null,
   "id": "b68aa545",
   "metadata": {},
   "outputs": [
    {
     "name": "stdout",
     "output_type": "stream",
     "text": [
      "[None, None, 3, 4, 5]\n"
     ]
    }
   ],
   "source": [
    "# q.display()"
   ]
  },
  {
   "cell_type": "markdown",
   "id": "bf06aa72",
   "metadata": {},
   "source": [
    "### Circular Queue"
   ]
  },
  {
   "cell_type": "code",
   "execution_count": null,
   "id": "c24e5765",
   "metadata": {},
   "outputs": [],
   "source": [
    "class CircularQueue:\n",
    "    def __init__(self, size):\n",
    "        self.size = size\n",
    "        self.queue = [None] * size\n",
    "        self.front = -1\n",
    "        self.rear = -1\n",
    "        \n",
    "    def enqueue(self, data):\n",
    "        if (self.rear + 1) % self.size == self.front:\n",
    "            print(\"Queue is full\")\n",
    "            return\n",
    "        if self.front == -1:\n",
    "            self.front = 0\n",
    "            self.rear = 0\n",
    "        else:\n",
    "            self.rear = (self.rear + 1) % self.size\n",
    "        self.queue[self.rear] = data\n",
    "        print(\"enqueued:\", data)\n",
    "        \n",
    "    def dequeue(self):\n",
    "        if self.front == -1:\n",
    "            print(\"Queue is empty\")\n",
    "            return\n",
    "        self.queue[self.front] = None\n",
    "        if self.front == self.rear:\n",
    "            self.front = -1\n",
    "            self.rear = -1\n",
    "        else:\n",
    "            self.front = (self.front + 1) % self.size\n",
    "        print(\"dequeued\")\n",
    "        \n",
    "    def display(self):\n",
    "        if self.front == -1:\n",
    "            print(\"Queue is empty\")\n",
    "            return\n",
    "        index = self.front\n",
    "        while True:\n",
    "            print(self.queue[index], end=' ')\n",
    "            if index == self.rear:\n",
    "                break\n",
    "            index = (index + 1) % self.size\n",
    "        print()      "
   ]
  },
  {
   "cell_type": "code",
   "execution_count": 102,
   "id": "7c49e215",
   "metadata": {},
   "outputs": [],
   "source": [
    "cq = CircularQueue(5)"
   ]
  },
  {
   "cell_type": "code",
   "execution_count": 103,
   "id": "fd408dee",
   "metadata": {},
   "outputs": [
    {
     "name": "stdout",
     "output_type": "stream",
     "text": [
      "enqueued: 1\n",
      "enqueued: 2\n",
      "enqueued: 3\n",
      "enqueued: 4\n",
      "enqueued: 5\n"
     ]
    }
   ],
   "source": [
    "cq.enqueue(1)\n",
    "cq.enqueue(2)\n",
    "cq.enqueue(3)\n",
    "cq.enqueue(4)\n",
    "cq.enqueue(5)"
   ]
  },
  {
   "cell_type": "code",
   "execution_count": 104,
   "id": "0d7c4486",
   "metadata": {},
   "outputs": [
    {
     "name": "stdout",
     "output_type": "stream",
     "text": [
      "Queue is full\n"
     ]
    }
   ],
   "source": [
    "cq.enqueue(6)"
   ]
  },
  {
   "cell_type": "code",
   "execution_count": 105,
   "id": "a6987601",
   "metadata": {},
   "outputs": [
    {
     "name": "stdout",
     "output_type": "stream",
     "text": [
      "dequeued\n",
      "dequeued\n"
     ]
    }
   ],
   "source": [
    "cq.dequeue()\n",
    "cq.dequeue()"
   ]
  },
  {
   "cell_type": "code",
   "execution_count": 106,
   "id": "0f1284cf",
   "metadata": {},
   "outputs": [
    {
     "name": "stdout",
     "output_type": "stream",
     "text": [
      "3 4 5 \n"
     ]
    }
   ],
   "source": [
    "cq.display()"
   ]
  },
  {
   "cell_type": "code",
   "execution_count": 107,
   "id": "784baeb1",
   "metadata": {},
   "outputs": [
    {
     "name": "stdout",
     "output_type": "stream",
     "text": [
      "enqueued: 6\n"
     ]
    }
   ],
   "source": [
    "cq.enqueue(6)"
   ]
  },
  {
   "cell_type": "code",
   "execution_count": 108,
   "id": "69b33a99",
   "metadata": {},
   "outputs": [
    {
     "name": "stdout",
     "output_type": "stream",
     "text": [
      "3 4 5 6 \n"
     ]
    }
   ],
   "source": [
    "cq.display()"
   ]
  },
  {
   "cell_type": "code",
   "execution_count": 109,
   "id": "1a3cdb53",
   "metadata": {},
   "outputs": [
    {
     "name": "stdout",
     "output_type": "stream",
     "text": [
      "dequeued\n"
     ]
    }
   ],
   "source": [
    "cq.dequeue()"
   ]
  },
  {
   "cell_type": "code",
   "execution_count": 110,
   "id": "bdccaec9",
   "metadata": {},
   "outputs": [
    {
     "name": "stdout",
     "output_type": "stream",
     "text": [
      "4 5 6 \n"
     ]
    }
   ],
   "source": [
    "cq.display()"
   ]
  },
  {
   "cell_type": "markdown",
   "id": "6fd20197",
   "metadata": {},
   "source": [
    "### Priority Queue"
   ]
  },
  {
   "cell_type": "code",
   "execution_count": 133,
   "id": "428223d6",
   "metadata": {},
   "outputs": [],
   "source": [
    "class PriorityQueue:\n",
    "    def __init__(self):\n",
    "        self.queue = []\n",
    "        \n",
    "    def enqueue(self, data, priority):\n",
    "        self.queue.append((data, priority))\n",
    "        self.queue.sort(key=lambda x: x[1], reverse=True)\n",
    "        # reverse = True to make higher priority come first\n",
    "        print(\"enqueued:\", data, \"with priority\", priority)\n",
    "        \n",
    "    def display(self):\n",
    "        print(self.queue)"
   ]
  },
  {
   "cell_type": "code",
   "execution_count": 134,
   "id": "3ec52cc7",
   "metadata": {},
   "outputs": [],
   "source": [
    "pq = PriorityQueue()"
   ]
  },
  {
   "cell_type": "code",
   "execution_count": 135,
   "id": "20175731",
   "metadata": {},
   "outputs": [
    {
     "name": "stdout",
     "output_type": "stream",
     "text": [
      "enqueued: 56 with priority 3\n",
      "enqueued: 89 with priority 5\n",
      "enqueued: 45 with priority 2\n",
      "enqueued: 23 with priority 2\n",
      "enqueued: 78 with priority 6\n",
      "enqueued: 51 with priority 1\n",
      "enqueued: 34 with priority 3\n"
     ]
    }
   ],
   "source": [
    "pq.enqueue(56, 3)\n",
    "pq.enqueue(89, 5)\n",
    "pq.enqueue(45, 2)\n",
    "pq.enqueue(23, 2)\n",
    "pq.enqueue(78, 6)\n",
    "pq.enqueue(51, 1)\n",
    "pq.enqueue(34, 3)"
   ]
  },
  {
   "cell_type": "code",
   "execution_count": 136,
   "id": "f2f53f71",
   "metadata": {},
   "outputs": [
    {
     "name": "stdout",
     "output_type": "stream",
     "text": [
      "[(78, 6), (89, 5), (56, 3), (34, 3), (45, 2), (23, 2), (51, 1)]\n"
     ]
    }
   ],
   "source": [
    "pq.display()"
   ]
  },
  {
   "cell_type": "code",
   "execution_count": null,
   "id": "f7aaed06",
   "metadata": {},
   "outputs": [],
   "source": [
    "# enqueu using comparison"
   ]
  }
 ],
 "metadata": {
  "kernelspec": {
   "display_name": "Python 3",
   "language": "python",
   "name": "python3"
  },
  "language_info": {
   "codemirror_mode": {
    "name": "ipython",
    "version": 3
   },
   "file_extension": ".py",
   "mimetype": "text/x-python",
   "name": "python",
   "nbconvert_exporter": "python",
   "pygments_lexer": "ipython3",
   "version": "3.12.1"
  }
 },
 "nbformat": 4,
 "nbformat_minor": 5
}
