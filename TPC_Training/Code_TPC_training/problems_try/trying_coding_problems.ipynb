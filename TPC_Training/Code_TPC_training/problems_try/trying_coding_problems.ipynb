{
 "cells": [
  {
   "cell_type": "markdown",
   "metadata": {},
   "source": [
    "1. REVERSING A STRING"
   ]
  },
  {
   "cell_type": "code",
   "execution_count": 11,
   "metadata": {},
   "outputs": [
    {
     "name": "stdout",
     "output_type": "stream",
     "text": [
      "olleH\n"
     ]
    }
   ],
   "source": [
    "s1 = input()\n",
    "\n",
    "s1 = s1[::-1]\n",
    "\n",
    "print(s1)"
   ]
  },
  {
   "cell_type": "markdown",
   "metadata": {},
   "source": [
    "2. Sum of Digits"
   ]
  },
  {
   "cell_type": "code",
   "execution_count": null,
   "metadata": {},
   "outputs": [
    {
     "name": "stdout",
     "output_type": "stream",
     "text": [
      "6\n"
     ]
    }
   ],
   "source": [
    "a = int(input())\n",
    "\n",
    "sum = 0 \n",
    "\n",
    "for i in str(a) :\n",
    "    sum += int(i)\n",
    "\n",
    "print(sum)\n",
    "\n",
    "#OR\n",
    "\n",
    "a = int(input())\n",
    "\n",
    "sum = 0\n",
    "\n",
    "while a > 0 :\n",
    "    sum = sum + (a % 10)\n",
    "    a = a//10\n",
    "\n",
    "print(sum)\n",
    "\n",
    "#OR\n",
    "\n",
    "a = input()\n",
    "\n",
    "sum = 0 \n",
    "\n",
    "for i in a :\n",
    "    sum += int(i)\n",
    "\n",
    "print(sum)\n"
   ]
  },
  {
   "cell_type": "markdown",
   "metadata": {},
   "source": [
    "3. Smallest Integer "
   ]
  },
  {
   "cell_type": "code",
   "execution_count": 23,
   "metadata": {},
   "outputs": [
    {
     "name": "stdout",
     "output_type": "stream",
     "text": [
      "-5\n"
     ]
    }
   ],
   "source": [
    "# as we used eval  : input method is -> [3,2,-1,5]\n",
    "\n",
    "# arr = eval(input())\n",
    "\n",
    "# arr.sort()\n",
    "\n",
    "# if len(arr) == 0 :\n",
    "#     print(\"-1\")\n",
    "# else :\n",
    "#     print(arr[0])\n",
    "\n",
    "\n",
    "\n",
    "#OR\n",
    "\n",
    "# as we did not use eval  : input method is -> 3 2 -1 5\n",
    "\n",
    "arr = input().split()\n",
    "\n",
    "arr = [int(i) for i in arr]   # list comprehension , to convert each element of the list into an integer.\n",
    "\n",
    "smallest = arr[0]\n",
    "\n",
    "for num in arr :\n",
    "    if num < smallest :\n",
    "        smallest = num\n",
    "print(smallest)\n",
    "\n"
   ]
  },
  {
   "cell_type": "markdown",
   "metadata": {},
   "source": [
    "4. Largest Element"
   ]
  },
  {
   "cell_type": "code",
   "execution_count": 77,
   "metadata": {},
   "outputs": [
    {
     "name": "stdout",
     "output_type": "stream",
     "text": [
      "99\n"
     ]
    }
   ],
   "source": [
    "arr = eval(input())\n",
    "\n",
    "arr = [int(i) for i in arr]\n",
    "\n",
    "largest = arr[0]\n",
    "\n",
    "for num in arr :\n",
    "    if num > largest :\n",
    "        largest = num\n",
    "\n",
    "print(largest)\n",
    "\n",
    "#OR\n",
    "\n",
    "# arr = input().split()\n",
    "\n",
    "# arr.sort()\n",
    "\n",
    "# if len(arr) == 0 :\n",
    "#     print(\"-1\")\n",
    "# else :\n",
    "#     print(arr[-1])"
   ]
  },
  {
   "cell_type": "markdown",
   "metadata": {},
   "source": [
    "5. No. of Vowels in String"
   ]
  },
  {
   "cell_type": "code",
   "execution_count": 29,
   "metadata": {},
   "outputs": [
    {
     "name": "stdout",
     "output_type": "stream",
     "text": [
      "7\n"
     ]
    }
   ],
   "source": [
    "s2 = input()\n",
    "\n",
    "s2 = s2.lower()\n",
    "\n",
    "vowels = 0\n",
    "\n",
    "for i in s2 :\n",
    "    if i == \"a\" or i == \"e\" or i == \"i\" or i == \"o\" or i == \"u\" :\n",
    "        vowels += 1\n",
    "\n",
    "print(vowels)\n"
   ]
  },
  {
   "cell_type": "markdown",
   "metadata": {},
   "source": [
    "6. Prime No "
   ]
  },
  {
   "cell_type": "code",
   "execution_count": 39,
   "metadata": {},
   "outputs": [
    {
     "name": "stdout",
     "output_type": "stream",
     "text": [
      "not a prime no\n"
     ]
    }
   ],
   "source": [
    "n = int(input())\n",
    "\n",
    "if a <=1 :\n",
    "    print(\"not a prime no\")\n",
    "else :\n",
    "    for i in range(2,n) :\n",
    "        if n % i == 0 :\n",
    "            print (\"not a prime no\")\n",
    "            break\n",
    "    else :\n",
    "        print(\"prime no\")\n"
   ]
  },
  {
   "cell_type": "markdown",
   "metadata": {},
   "source": [
    "7. Palindrome or not?"
   ]
  },
  {
   "cell_type": "code",
   "execution_count": 41,
   "metadata": {},
   "outputs": [
    {
     "name": "stdout",
     "output_type": "stream",
     "text": [
      "not a palindrome\n"
     ]
    }
   ],
   "source": [
    "s3 = input()\n",
    "\n",
    "if s3[:] == s3[::-1]:\n",
    "    print(\"palindrome\")\n",
    "else :\n",
    "    print(\"not a palindrome\")"
   ]
  },
  {
   "cell_type": "markdown",
   "metadata": {},
   "source": [
    "8. Words in a string"
   ]
  },
  {
   "cell_type": "code",
   "execution_count": null,
   "metadata": {},
   "outputs": [
    {
     "name": "stdout",
     "output_type": "stream",
     "text": [
      "[]\n"
     ]
    }
   ],
   "source": [
    "s4 = input()\n",
    "\n",
    "s4 = s4.split()\n",
    "print(len(s4))\n"
   ]
  },
  {
   "cell_type": "markdown",
   "metadata": {},
   "source": [
    "9. Sum , Avg , Product of List of No."
   ]
  },
  {
   "cell_type": "code",
   "execution_count": 44,
   "metadata": {},
   "outputs": [
    {
     "name": "stdout",
     "output_type": "stream",
     "text": [
      "15\n",
      "3.0\n",
      "120\n"
     ]
    }
   ],
   "source": [
    "l1 = eval(input())\n",
    "\n",
    "l1 = [int(i) for i in l1]\n",
    "\n",
    "sum = 0\n",
    "prod = 1\n",
    "\n",
    "for i in range(0, len(l1)) :\n",
    "    sum = sum + l1[i]\n",
    "    prod = prod * l1[i]\n",
    "\n",
    "print(sum)\n",
    "\n",
    "avg = sum/(len(l1))\n",
    "\n",
    "print(avg)\n",
    "\n",
    "print(prod)\n"
   ]
  },
  {
   "cell_type": "markdown",
   "metadata": {},
   "source": [
    "10. Anagram"
   ]
  },
  {
   "cell_type": "code",
   "execution_count": 22,
   "metadata": {},
   "outputs": [
    {
     "name": "stdout",
     "output_type": "stream",
     "text": [
      "anagram\n"
     ]
    }
   ],
   "source": [
    "# s1 = input()\n",
    "# s2 = input()\n",
    "\n",
    "# if sorted(s1) == sorted(s2):\n",
    "#     print(\"anagram\")\n",
    "# else :\n",
    "#     print(\"not anagram\")\n",
    "\n",
    "#OR\n",
    "\n",
    "s = eval(input())\n",
    "\n",
    "s1 , s2 = s\n",
    "\n",
    "freq1 = {}\n",
    "freq2 = {}\n",
    "\n",
    "for char in s1 :\n",
    "    freq1[char] = freq1.get(char, 0) + 1\n",
    "\n",
    "for char in s2 :\n",
    "    freq2[char] = freq2.get(char, 0) + 1\n",
    "\n",
    "if freq1 == freq2 :\n",
    "    print(\"anagram\")\n",
    "else :\n",
    "    print(\"not anagtram\")"
   ]
  },
  {
   "cell_type": "markdown",
   "metadata": {},
   "source": [
    "11. U have a sequence of number\n",
    "\n",
    "U have to calculate difference between the number on batch wise fashion\n",
    "And sum it\n",
    "\n",
    "\n",
    "Q: 1,3,5,2,4,1,3,9\n",
    "A: 14\n",
    "\n",
    "Diff between 1 and 3 is 2\n",
    "5 and 2 is 3\n",
    "4 and 1 is 3\n",
    "3 and 9 is 6\n",
    "Summing 2+3+3+6 gives us 14"
   ]
  },
  {
   "cell_type": "code",
   "execution_count": 39,
   "metadata": {},
   "outputs": [
    {
     "name": "stdout",
     "output_type": "stream",
     "text": [
      "14\n"
     ]
    }
   ],
   "source": [
    "l = eval(input())\n",
    "\n",
    "diff = 0\n",
    "\n",
    "sum = 0 \n",
    "\n",
    "for i in range(0, len(l), 2) :\n",
    "    diff = abs(l[i] - l[i+1])\n",
    "    sum = sum + diff\n",
    "print(sum)"
   ]
  },
  {
   "cell_type": "markdown",
   "metadata": {},
   "source": [
    "12. Remove Spaces from String"
   ]
  },
  {
   "cell_type": "code",
   "execution_count": 46,
   "metadata": {},
   "outputs": [
    {
     "name": "stdout",
     "output_type": "stream",
     "text": [
      "helloworldiamme\n"
     ]
    }
   ],
   "source": [
    "s = input()\n",
    "\n",
    "replaced = s.replace(\" \", \"\")\n",
    "\n",
    "print(replaced)"
   ]
  },
  {
   "cell_type": "markdown",
   "metadata": {},
   "source": [
    "13. Multiply all no in a list"
   ]
  },
  {
   "cell_type": "code",
   "execution_count": 67,
   "metadata": {},
   "outputs": [
    {
     "name": "stdout",
     "output_type": "stream",
     "text": [
      "720\n"
     ]
    }
   ],
   "source": [
    "l = eval(input())\n",
    "\n",
    "prod = 1\n",
    "\n",
    "for i in l :\n",
    "    prod = prod * i\n",
    "\n",
    "print(prod)\n"
   ]
  },
  {
   "cell_type": "markdown",
   "metadata": {},
   "source": [
    "14. No is odd or even"
   ]
  },
  {
   "cell_type": "code",
   "execution_count": 68,
   "metadata": {},
   "outputs": [
    {
     "name": "stdout",
     "output_type": "stream",
     "text": [
      "odd\n"
     ]
    }
   ],
   "source": [
    "n = int(input())\n",
    "\n",
    "if n%2 == 0:\n",
    "    print(\"even\")\n",
    "else :\n",
    "    print(\"odd\")"
   ]
  },
  {
   "cell_type": "markdown",
   "metadata": {},
   "source": [
    "15. Length of String"
   ]
  },
  {
   "cell_type": "code",
   "execution_count": 75,
   "metadata": {},
   "outputs": [
    {
     "name": "stdout",
     "output_type": "stream",
     "text": [
      "10\n"
     ]
    }
   ],
   "source": [
    "s = input()\n",
    "\n",
    "print(len(s))\n",
    "\n",
    "# OR\n",
    "\n",
    "# count = 0\n",
    "\n",
    "# for i in s :\n",
    "#     if i != \" \":\n",
    "#         count +=1\n",
    "#     else :\n",
    "#         continue\n",
    "\n",
    "# print(count)"
   ]
  },
  {
   "cell_type": "markdown",
   "metadata": {},
   "source": [
    "16. Second Largest Integer in the list"
   ]
  },
  {
   "cell_type": "code",
   "execution_count": 130,
   "metadata": {},
   "outputs": [
    {
     "name": "stdout",
     "output_type": "stream",
     "text": [
      "99\n"
     ]
    }
   ],
   "source": [
    "# arr = input().split()\n",
    "\n",
    "# l= []\n",
    "# for num in arr :\n",
    "#     l.append(num)\n",
    "\n",
    "# largest = sorted(l)\n",
    "\n",
    "# print(largest)\n",
    "# print(largest[-2])\n",
    "\n",
    "#OR\n",
    "\n",
    "arr = input().split()\n",
    "# print(arr)\n",
    "\n",
    "arr = [int (x) for x in arr]\n",
    "# print(arr)\n",
    "\n",
    "arr.sort()\n",
    "print(arr[-2])"
   ]
  },
  {
   "cell_type": "markdown",
   "metadata": {},
   "source": [
    "17. No of children and candies"
   ]
  },
  {
   "cell_type": "code",
   "execution_count": 153,
   "metadata": {},
   "outputs": [
    {
     "name": "stdout",
     "output_type": "stream",
     "text": [
      "0\n",
      "13\n",
      "2\n"
     ]
    }
   ],
   "source": [
    "t = int(input())\n",
    "\n",
    "for _ in range(t):\n",
    "    n, x = map(int, input().split())\n",
    "    \n",
    "    if x >= n:\n",
    "        print(0)\n",
    "    else:\n",
    "        packets = ((n-x) + 3) // 4\n",
    "        print(packets)\n"
   ]
  },
  {
   "cell_type": "markdown",
   "metadata": {},
   "source": [
    "18. No of floors chef will have to go "
   ]
  },
  {
   "cell_type": "code",
   "execution_count": null,
   "metadata": {},
   "outputs": [
    {
     "name": "stdout",
     "output_type": "stream",
     "text": [
      "4\n"
     ]
    }
   ],
   "source": [
    "# wont work for single digit room no\n",
    "\n",
    "# t = int(input())\n",
    "\n",
    "# for _ in range(t) :\n",
    "#     r1 , r2 = map(int, input().split())\n",
    "#     c1 = []\n",
    "#     c2 = []\n",
    "\n",
    "#     if r1%10 == 0 :\n",
    "#         r2 += 1\n",
    "\n",
    "#     if r2%10 == 0 :\n",
    "#         r2 -= 1\n",
    "\n",
    "#     for i in str(r1) :\n",
    "#         c1.append(i)\n",
    "\n",
    "#     for i in str(r2) :\n",
    "#         c2.append(i)\n",
    "\n",
    "#     a = int(c1[0])\n",
    "#     b = int(c2[0])\n",
    "\n",
    "#     print(abs(a-b))\n",
    "\n",
    "t = int(input())\n",
    "\n",
    "for _ in range(t) :\n",
    "    r1 , r2 = map(int, input().split())\n",
    "\n",
    "    r1 -= 1\n",
    "    r2 -= 1\n",
    "    print(abs(r1 // 10 - r2//10))"
   ]
  },
  {
   "cell_type": "markdown",
   "metadata": {},
   "source": [
    "19. Celsius to fahrenheit"
   ]
  },
  {
   "cell_type": "code",
   "execution_count": 211,
   "metadata": {},
   "outputs": [
    {
     "name": "stdout",
     "output_type": "stream",
     "text": [
      "122.0\n"
     ]
    }
   ],
   "source": [
    "cel = float(input())\n",
    "\n",
    "far = cel * 9/5 + (32)\n",
    "\n",
    "print(far)"
   ]
  },
  {
   "cell_type": "markdown",
   "metadata": {},
   "source": [
    "20. Remove Duplicates from list"
   ]
  },
  {
   "cell_type": "code",
   "execution_count": 215,
   "metadata": {},
   "outputs": [
    {
     "name": "stdout",
     "output_type": "stream",
     "text": [
      "[1, 2, 3, 4, 5, 6, 7, 8, 9]\n"
     ]
    }
   ],
   "source": [
    "l = eval(input())\n",
    "\n",
    "non_dup = []\n",
    "\n",
    "for i in l :\n",
    "    if i not in non_dup :\n",
    "        non_dup.append(i)\n",
    "print(non_dup)"
   ]
  },
  {
   "cell_type": "markdown",
   "metadata": {},
   "source": [
    "21. Longest word in a string"
   ]
  },
  {
   "cell_type": "code",
   "execution_count": null,
   "metadata": {},
   "outputs": [
    {
     "name": "stdout",
     "output_type": "stream",
     "text": [
      "quick\n"
     ]
    }
   ],
   "source": [
    "word = input().split()\n",
    "\n",
    "largest = ''\n",
    "max = 0\n",
    "\n",
    "for i in word :\n",
    "    i= i.strip(\",. \")\n",
    "    if len(i) > max :  # (>= for last largest word)\n",
    "        largest=i\n",
    "        max=len(i)\n",
    "print(largest)\n"
   ]
  },
  {
   "cell_type": "markdown",
   "metadata": {},
   "source": [
    "22. Factorial"
   ]
  },
  {
   "cell_type": "code",
   "execution_count": 247,
   "metadata": {},
   "outputs": [
    {
     "name": "stdout",
     "output_type": "stream",
     "text": [
      "120\n"
     ]
    }
   ],
   "source": [
    "def fact(num):\n",
    "    if num == 0 or num == 1 :\n",
    "        return 1\n",
    "    else :\n",
    "        return num * fact (num-1)\n",
    "\n",
    "num = int(input())\n",
    "\n",
    "print(fact(num))"
   ]
  },
  {
   "cell_type": "markdown",
   "metadata": {},
   "source": [
    "23. Given a string, find if any of its anagram is a valid palindrome\n",
    "ababc returns True\n",
    "since one of its anagram is abcba is a valid palindrome"
   ]
  }
 ],
 "metadata": {
  "kernelspec": {
   "display_name": "base",
   "language": "python",
   "name": "python3"
  },
  "language_info": {
   "codemirror_mode": {
    "name": "ipython",
    "version": 3
   },
   "file_extension": ".py",
   "mimetype": "text/x-python",
   "name": "python",
   "nbconvert_exporter": "python",
   "pygments_lexer": "ipython3",
   "version": "3.11.5"
  }
 },
 "nbformat": 4,
 "nbformat_minor": 2
}
