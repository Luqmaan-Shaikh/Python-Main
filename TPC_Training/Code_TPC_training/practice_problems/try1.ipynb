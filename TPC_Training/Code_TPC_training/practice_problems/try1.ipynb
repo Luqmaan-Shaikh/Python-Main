{
 "cells": [
  {
   "cell_type": "code",
   "execution_count": null,
   "metadata": {},
   "outputs": [
    {
     "name": "stdout",
     "output_type": "stream",
     "text": [
      "3\n"
     ]
    }
   ],
   "source": [
    "# repeated digits from data\n",
    "\n",
    "data = list(input())\n",
    "l1 = []\n",
    "\n",
    "for i in range(len(data)) :\n",
    "    key = data[i] \n",
    "    j=i+1\n",
    "    while j < len(data) :\n",
    "        if key == data[j] :\n",
    "            l1.append(key)\n",
    "\n",
    "        j += 1\n",
    "\n",
    "print(len(l1))"
   ]
  },
  {
   "cell_type": "code",
   "execution_count": 46,
   "metadata": {},
   "outputs": [
    {
     "name": "stdout",
     "output_type": "stream",
     "text": [
      "12\n"
     ]
    }
   ],
   "source": [
    "# total dist btw adjacent items of list of N no\n",
    "\n",
    "N = int(input())\n",
    "l1 = []\n",
    "\n",
    "for _ in range(N) :\n",
    "    data = int(input())\n",
    "    l1.append(data)\n",
    "\n",
    "diff = 0\n",
    "total = 0\n",
    "\n",
    "for i in range(len(l1)-1) :\n",
    "    diff = abs(l1[i]-l1[i+1])\n",
    "    total = total + diff\n",
    "\n",
    "print(total)"
   ]
  },
  {
   "cell_type": "code",
   "execution_count": 43,
   "metadata": {},
   "outputs": [
    {
     "name": "stdout",
     "output_type": "stream",
     "text": [
      "[12, 14, 13, 15]\n"
     ]
    }
   ],
   "source": [
    "# even no placed before odd\n",
    "\n",
    "N = int(input())\n",
    "l = []\n",
    "\n",
    "for _ in range(N) :\n",
    "    data = int(input())\n",
    "    l.append(data)\n",
    "\n",
    "l_odd= []\n",
    "l_even= []\n",
    "\n",
    "for i in range(len(l)) :\n",
    "    if l[i]%2 != 0 :\n",
    "        l_odd.append(l[i])\n",
    "\n",
    "    else :\n",
    "        l_even.append(l[i])\n",
    "\n",
    "res = l_even + l_odd\n",
    "\n",
    "print(res)"
   ]
  },
  {
   "cell_type": "code",
   "execution_count": 52,
   "metadata": {},
   "outputs": [
    {
     "name": "stdout",
     "output_type": "stream",
     "text": [
      "3\n"
     ]
    }
   ],
   "source": [
    "# Find no of squares of areas present\n",
    "\n",
    "# 8 # 79 77 54 81 48 34 25 16\n",
    "\n",
    "N = int(input())\n",
    "l = []\n",
    "\n",
    "for _ in range(N) :\n",
    "    data = int(input())\n",
    "    l.append(data)\n",
    "\n",
    "sq = 0\n",
    "count = 0\n",
    "\n",
    "for i in range(1, N+2) :\n",
    "    sq = i*i\n",
    "    if sq in l :\n",
    "        count += 1\n",
    "\n",
    "print(count)"
   ]
  },
  {
   "cell_type": "code",
   "execution_count": 83,
   "metadata": {},
   "outputs": [
    {
     "name": "stdout",
     "output_type": "stream",
     "text": [
      "162\n"
     ]
    }
   ],
   "source": [
    "# find even and odd and find their product\n",
    "\n",
    "#2514795\n",
    "\n",
    "n = list(input())\n",
    "even = 0\n",
    "odd = 0\n",
    "\n",
    "for i in range(len(n)) :\n",
    "    a = int(n[i])\n",
    "    if a % 2 == 0 :\n",
    "        even += int(a)\n",
    "\n",
    "    else :\n",
    "        odd += int(a)\n",
    "\n",
    "res = even*odd\n",
    "print(res)\n"
   ]
  },
  {
   "cell_type": "code",
   "execution_count": null,
   "metadata": {},
   "outputs": [],
   "source": []
  }
 ],
 "metadata": {
  "kernelspec": {
   "display_name": "base",
   "language": "python",
   "name": "python3"
  },
  "language_info": {
   "codemirror_mode": {
    "name": "ipython",
    "version": 3
   },
   "file_extension": ".py",
   "mimetype": "text/x-python",
   "name": "python",
   "nbconvert_exporter": "python",
   "pygments_lexer": "ipython3",
   "version": "3.11.5"
  }
 },
 "nbformat": 4,
 "nbformat_minor": 2
}
