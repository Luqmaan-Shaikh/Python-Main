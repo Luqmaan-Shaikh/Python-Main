{
 "cells": [
  {
   "cell_type": "markdown",
   "metadata": {},
   "source": [
    "1. Sum of 2 no.'s Max product in list"
   ]
  },
  {
   "cell_type": "code",
   "execution_count": null,
   "metadata": {},
   "outputs": [],
   "source": [
    "arr = list(map(int,input().split()))\n",
    "\n",
    "arr.sort()\n"
   ]
  },
  {
   "cell_type": "code",
   "execution_count": null,
   "metadata": {},
   "outputs": [],
   "source": [
    "n = int(input())\n",
    "\n",
    "d = {}\n",
    "\n",
    "for i in range(n) :\n",
    "    name = input()\n",
    "    marks = input()\n",
    "    d[name] = marks\n",
    "\n",
    "while True :\n",
    "    name = input(\"enter stud name to get marks\")\n",
    "    marks=d.get(name)\n",
    "    if marks == None :\n",
    "        print(\"stud not found\")\n",
    "    else :\n",
    "        print(\"marks of\", name,\"are\",marks)\n",
    "    option=input(\"another stud marks [yes][no]\")\n",
    "    if option=='no' :\n",
    "        break\n",
    "print(\"thank u\")"
   ]
  },
  {
   "cell_type": "code",
   "execution_count": null,
   "metadata": {},
   "outputs": [],
   "source": [
    "d = {}\n",
    "\n",
    "name = input()\n",
    "age = input()\n",
    "\n",
    "d['name'] = name\n",
    "\n",
    "d['age'] = age\n",
    "\n",
    "d.pop(input())\n",
    "\n",
    "print(d)"
   ]
  },
  {
   "cell_type": "code",
   "execution_count": null,
   "metadata": {},
   "outputs": [],
   "source": [
    "d = {}\n",
    "\n",
    "name = input()\n",
    "age = input()\n",
    "\n",
    "d['name'] = name\n",
    "\n",
    "d['age'] = age\n",
    "\n",
    "a = d.get(input())\n",
    "\n",
    "if a == None  :\n",
    "    print(\"key does not exists\")\n",
    "\n",
    "else :\n",
    "    print(\"key exists\")\n",
    "\n",
    "print(a,d)"
   ]
  },
  {
   "cell_type": "code",
   "execution_count": null,
   "metadata": {},
   "outputs": [],
   "source": [
    "d1 = {}\n",
    "\n",
    "d2 = {}\n",
    "\n",
    "name = input()\n",
    "age = input()\n",
    "\n",
    "d1['name'] = name\n",
    "d2['age'] = age\n",
    "\n",
    "# print(d1)\n",
    "# print(d2)\n",
    "\n",
    "d1.update(d2)\n",
    "\n",
    "print(d1)"
   ]
  },
  {
   "cell_type": "code",
   "execution_count": 3,
   "metadata": {},
   "outputs": [
    {
     "name": "stdout",
     "output_type": "stream",
     "text": [
      "41\n"
     ]
    }
   ],
   "source": [
    "n = int(input())\n",
    "\n",
    "d = {}\n",
    "d1 = {}\n",
    "\n",
    "for i in range(n) :\n",
    "    k = input()\n",
    "    v = int(input())\n",
    "    d[k] = v\n",
    "    d1[v] = k\n",
    "print(max(d1))\n",
    "# print(d)\n",
    "# print(d1)\n",
    "\n"
   ]
  },
  {
   "cell_type": "markdown",
   "metadata": {},
   "source": [
    "# SET"
   ]
  },
  {
   "cell_type": "code",
   "execution_count": 27,
   "metadata": {},
   "outputs": [
    {
     "name": "stdout",
     "output_type": "stream",
     "text": [
      "{5.66, 'rahul', 'ayush', 'aniket', 60, 'sanjay'}\n"
     ]
    }
   ],
   "source": [
    "myset = {1,2,\"sanjay\",5.66,\"rahul\",\"ayush\", \"aniket\"}\n",
    "myset.add(60)\n",
    "myset.discard(1)\n",
    "myset.remove(2) # gives error if elem not present in set\n",
    "print(myset)\n"
   ]
  },
  {
   "cell_type": "code",
   "execution_count": 28,
   "metadata": {},
   "outputs": [
    {
     "name": "stdout",
     "output_type": "stream",
     "text": [
      "{'sha', 20, 'luq', 40, 10, 30}\n"
     ]
    }
   ],
   "source": [
    "myset = {10,20,30,40}\n",
    "yourset = {'luq','sha'}\n",
    "newset = myset.union(yourset) # merging set \n",
    "print(newset)"
   ]
  },
  {
   "cell_type": "code",
   "execution_count": 29,
   "metadata": {},
   "outputs": [
    {
     "name": "stdout",
     "output_type": "stream",
     "text": [
      "{10, 30}\n"
     ]
    }
   ],
   "source": [
    "myset = {10,20,30,40}\n",
    "yourset = {10,50,60,30}\n",
    "newset = myset.intersection(yourset) # merging set \n",
    "print(newset)"
   ]
  },
  {
   "cell_type": "code",
   "execution_count": 30,
   "metadata": {},
   "outputs": [
    {
     "name": "stdout",
     "output_type": "stream",
     "text": [
      "{40, 20}\n"
     ]
    }
   ],
   "source": [
    "myset = {10,20,30,40}\n",
    "yourset = {10,50,60,30}\n",
    "newset = myset.difference(yourset) # merging set \n",
    "print(newset)"
   ]
  },
  {
   "cell_type": "markdown",
   "metadata": {},
   "source": [
    "# FUNCTION"
   ]
  },
  {
   "cell_type": "code",
   "execution_count": 31,
   "metadata": {},
   "outputs": [
    {
     "name": "stdout",
     "output_type": "stream",
     "text": [
      "Hello World\n",
      "Hello World\n",
      "Hello World\n",
      "EOF\n"
     ]
    }
   ],
   "source": [
    "def msg(): # called func (function declaration )\n",
    "    print('Hello World')\n",
    "\n",
    "msg() # calling function\n",
    "msg()\n",
    "msg()\n",
    "\n",
    "print(\"EOF\")"
   ]
  },
  {
   "cell_type": "code",
   "execution_count": 32,
   "metadata": {},
   "outputs": [
    {
     "name": "stdout",
     "output_type": "stream",
     "text": [
      "login successfully\n"
     ]
    }
   ],
   "source": [
    "def login() :\n",
    "    username = input(\"username ?\")\n",
    "    password = input(\"password ?\")\n",
    "    if username == password :\n",
    "        print(\"login successfully\")\n",
    "    else :\n",
    "        print(\"wrong password\")\n",
    "\n",
    "login()"
   ]
  },
  {
   "cell_type": "markdown",
   "metadata": {},
   "source": [
    "Argument passed :\n",
    "\n",
    "1. positional\n",
    "2. keyword\n",
    "3. default\n",
    "4. variable length / variable no of argu\n",
    "5. unkown"
   ]
  },
  {
   "cell_type": "code",
   "execution_count": null,
   "metadata": {},
   "outputs": [
    {
     "name": "stdout",
     "output_type": "stream",
     "text": [
      "fn =  luq\n",
      "ln =  maan\n"
     ]
    }
   ],
   "source": [
    "# Positional Argument\n",
    "\n",
    "def info(fn,ln) :\n",
    "    print(\"fn = \", fn)\n",
    "    print(\"ln = \", ln)\n",
    "\n",
    "info('luqmaan', 'shaikh')\n",
    "\n",
    "# a = input()\n",
    "# b = input()\n",
    "# info(a,b)"
   ]
  },
  {
   "cell_type": "code",
   "execution_count": 2,
   "metadata": {},
   "outputs": [
    {
     "name": "stdout",
     "output_type": "stream",
     "text": [
      "5\n"
     ]
    }
   ],
   "source": [
    "def add(a,b) :\n",
    "    return a+b\n",
    "\n",
    "print(add(3,2))\n",
    "\n",
    "# res = add(3,2)\n",
    "# print(res)"
   ]
  },
  {
   "cell_type": "code",
   "execution_count": 3,
   "metadata": {},
   "outputs": [
    {
     "name": "stdout",
     "output_type": "stream",
     "text": [
      "(15, 50, 5)\n"
     ]
    }
   ],
   "source": [
    "def arithmetic(a,b):\n",
    "    r = a+b\n",
    "    n = a*b\n",
    "    m = a-b\n",
    "    return r,n,m # return multiple value at same time -> (tuple)\n",
    "\n",
    "res = arithmetic(10,5)\n",
    "# arithmetic(b=9, a=5)\n",
    "print(res)"
   ]
  },
  {
   "cell_type": "code",
   "execution_count": null,
   "metadata": {},
   "outputs": [
    {
     "name": "stdout",
     "output_type": "stream",
     "text": [
      "sha\n",
      "luq\n",
      "sha\n",
      "luq\n"
     ]
    }
   ],
   "source": [
    "# Keyword Argument\n",
    "\n",
    "def func(fn,ln):\n",
    "    print(fn)\n",
    "    print(ln)\n",
    "\n",
    "# func(fn = 'luqmaan', ln = \"shaikh\")\n",
    "\n",
    "fn = input()\n",
    "ln = input()\n",
    "\n",
    "func(ln,fn) # positional \n",
    "\n",
    "func(ln=ln,fn=fn) # keyword"
   ]
  },
  {
   "cell_type": "code",
   "execution_count": 13,
   "metadata": {},
   "outputs": [
    {
     "name": "stdout",
     "output_type": "stream",
     "text": [
      "i am from tu\n",
      "i am from tu\n",
      "i am from tu\n"
     ]
    }
   ],
   "source": [
    "# Default Argument\n",
    "\n",
    "def func(city='Nagpur') :\n",
    "    print(\"i am from\",city)\n",
    "\n",
    "func(\"delhi\")\n",
    "func(\"mumbai\")\n",
    "func() # if argument not passed , default argument will run"
   ]
  },
  {
   "cell_type": "code",
   "execution_count": 19,
   "metadata": {},
   "outputs": [
    {
     "name": "stdout",
     "output_type": "stream",
     "text": [
      "luq\n",
      "maan\n",
      "sha\n",
      "ikh\n",
      "luq\n",
      "maan\n",
      "sha\n",
      "ikh\n"
     ]
    }
   ],
   "source": [
    "# List as an Argument\n",
    "\n",
    "def func(name):\n",
    "    for i in name:\n",
    "        print(i)\n",
    "\n",
    "name_of_p = ['luq','maan','sha','ikh']\n",
    "\n",
    "func(name_of_p)\n",
    "func(name_of_p)"
   ]
  },
  {
   "cell_type": "code",
   "execution_count": 24,
   "metadata": {},
   "outputs": [
    {
     "name": "stdout",
     "output_type": "stream",
     "text": [
      "luq\n",
      "dev\n",
      "('luq', 'sid', 'dev')\n"
     ]
    }
   ],
   "source": [
    "# Variable Length Argument\n",
    "\n",
    "def func(*names):\n",
    "    print(names[0])\n",
    "    print(names[-1])\n",
    "    print(names)\n",
    "\n",
    "func(\"luq\", \"sid\", \"dev\")"
   ]
  }
 ],
 "metadata": {
  "kernelspec": {
   "display_name": "base",
   "language": "python",
   "name": "python3"
  },
  "language_info": {
   "codemirror_mode": {
    "name": "ipython",
    "version": 3
   },
   "file_extension": ".py",
   "mimetype": "text/x-python",
   "name": "python",
   "nbconvert_exporter": "python",
   "pygments_lexer": "ipython3",
   "version": "3.11.5"
  }
 },
 "nbformat": 4,
 "nbformat_minor": 2
}
