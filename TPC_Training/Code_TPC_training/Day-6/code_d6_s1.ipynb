{
 "cells": [
  {
   "cell_type": "markdown",
   "metadata": {},
   "source": [
    "1. Count no of special charac"
   ]
  },
  {
   "cell_type": "code",
   "execution_count": null,
   "metadata": {},
   "outputs": [
    {
     "name": "stdout",
     "output_type": "stream",
     "text": [
      "4\n"
     ]
    }
   ],
   "source": [
    "ip = 'gasgg54@#vscsd!s*'\n",
    "count = 0\n",
    "\n",
    "for i in ip :\n",
    "    if i.isalnum()==False :\n",
    "        count += 1 \n",
    "\n",
    "print(count)"
   ]
  },
  {
   "cell_type": "code",
   "execution_count": 57,
   "metadata": {},
   "outputs": [
    {
     "name": "stdout",
     "output_type": "stream",
     "text": [
      "4\n",
      "4\n"
     ]
    }
   ],
   "source": [
    "# OR\n",
    "print(len(list(filter(lambda x : x.isalnum()==False, \"gasgg54@#vscsd!s*\"))))\n",
    "\n",
    "# OR\n",
    "print(len(list(filter(lambda x : not x.isalnum(), \"gasgg54@#vscsd!s*\"))))"
   ]
  },
  {
   "cell_type": "markdown",
   "metadata": {},
   "source": [
    "# NEW CONCEPT"
   ]
  },
  {
   "cell_type": "code",
   "execution_count": 16,
   "metadata": {},
   "outputs": [
    {
     "data": {
      "text/plain": [
       "[114, 111, 110, 97, 107]"
      ]
     },
     "execution_count": 16,
     "metadata": {},
     "output_type": "execute_result"
    }
   ],
   "source": [
    "## map(function,iterable)\n",
    "\n",
    "list(map(int, [\"1\",\"2\",\"3\"]))\n",
    "\n",
    "## map is an inbuit for loop\n",
    "\n",
    "list(map(round,[1.5,6.5,5.6,9.1]))\n",
    "\n",
    "list(map(ord,\"ronak\"))\n"
   ]
  },
  {
   "cell_type": "code",
   "execution_count": null,
   "metadata": {},
   "outputs": [
    {
     "name": "stdout",
     "output_type": "stream",
     "text": [
      "25\n"
     ]
    },
    {
     "data": {
      "text/plain": [
       "<function __main__.<lambda>(x)>"
      ]
     },
     "execution_count": 20,
     "metadata": {},
     "output_type": "execute_result"
    }
   ],
   "source": [
    "def f(x): \n",
    "    return x**2\n",
    "print(f(5))\n",
    "\n",
    "# OR\n",
    "\n",
    "# lambda\n",
    "\n",
    "lambda x : x**2"
   ]
  },
  {
   "cell_type": "code",
   "execution_count": null,
   "metadata": {},
   "outputs": [
    {
     "data": {
      "text/plain": [
       "[1, 4, 9, 16, 25]"
      ]
     },
     "execution_count": 22,
     "metadata": {},
     "output_type": "execute_result"
    }
   ],
   "source": [
    "# Square Every element in a list using map \n",
    "\n",
    "list(map(lambda x : x**2 , [1,2,3,4,5]))"
   ]
  },
  {
   "cell_type": "code",
   "execution_count": 23,
   "metadata": {},
   "outputs": [
    {
     "data": {
      "text/plain": [
       "[2, 4, 6, 8, 10]"
      ]
     },
     "execution_count": 23,
     "metadata": {},
     "output_type": "execute_result"
    }
   ],
   "source": [
    "# Double every element in a list\n",
    "\n",
    "list(map(lambda x : 2*x , [1,2,3,4,5]))"
   ]
  },
  {
   "cell_type": "code",
   "execution_count": 36,
   "metadata": {},
   "outputs": [
    {
     "name": "stdout",
     "output_type": "stream",
     "text": [
      "A\n",
      "a b\n",
      "['R', 'A', 'U', 'N', 'A', 'K']\n",
      "RAUNAK\n"
     ]
    }
   ],
   "source": [
    "# convert every charac to upper , dont use upper() or any similar , use only ord and chr\n",
    "\n",
    "print(chr(ord(\"a\")-32))\n",
    "\n",
    "print(\" \".join([\"a\",\"b\"]))\n",
    "\n",
    "# OR\n",
    "\n",
    "l = list(map(lambda x : chr(ord(x)-32) , \"raunak\"))\n",
    "print(l)\n",
    "print(\"\".join(l))"
   ]
  },
  {
   "cell_type": "code",
   "execution_count": 40,
   "metadata": {},
   "outputs": [],
   "source": [
    "# [\"cat\", \"grass\", \"door\"]\n",
    "# [(\"cat\", 3), (\"grass\", 5), (\"door\", 4)]"
   ]
  },
  {
   "cell_type": "code",
   "execution_count": 39,
   "metadata": {},
   "outputs": [
    {
     "data": {
      "text/plain": [
       "[('cat', 3), ('grass', 5), ('door', 4)]"
      ]
     },
     "execution_count": 39,
     "metadata": {},
     "output_type": "execute_result"
    }
   ],
   "source": [
    "list(map(lambda x : (x, len(x) ), [\"cat\", \"grass\", \"door\"]))"
   ]
  },
  {
   "cell_type": "code",
   "execution_count": null,
   "metadata": {},
   "outputs": [
    {
     "data": {
      "text/plain": [
       "[2, 4]"
      ]
     },
     "execution_count": 43,
     "metadata": {},
     "output_type": "execute_result"
    }
   ],
   "source": [
    "# filter(function,iterable)\n",
    "\n",
    "list(filter(lambda x : x%2==0, [1,2,3,4,5]))\n",
    "\n",
    "# filter removes the false value"
   ]
  },
  {
   "cell_type": "code",
   "execution_count": 50,
   "metadata": {},
   "outputs": [
    {
     "name": "stdout",
     "output_type": "stream",
     "text": [
      "['l', 'u', 'q', 'm', 'a', 'a', 'n', ' ', 's', 'h', 'a', 'i', 'k', 'h']\n",
      "luqmaan shaikh\n"
     ]
    }
   ],
   "source": [
    "## remove punctuations from a text\n",
    "import string\n",
    "\n",
    "l = list(filter(lambda x : x not in string.punctuation , \"luq!{maa<=>n()} shai@#%kh\"))\n",
    "\n",
    "print(l)\n",
    "print(\"\".join(l))"
   ]
  },
  {
   "cell_type": "code",
   "execution_count": null,
   "metadata": {},
   "outputs": [
    {
     "name": "stdout",
     "output_type": "stream",
     "text": [
      "Iamlearningpython\n"
     ]
    }
   ],
   "source": [
    "# remove all spaces from a string , the middle spaces \n",
    "\n",
    "ip = \"I am learning python\"\n",
    "\n",
    "op = ip.split()\n",
    "\n",
    "print(\"\".join(op))"
   ]
  },
  {
   "cell_type": "code",
   "execution_count": 64,
   "metadata": {},
   "outputs": [
    {
     "data": {
      "text/plain": [
       "'Iamlearningpython'"
      ]
     },
     "execution_count": 64,
     "metadata": {},
     "output_type": "execute_result"
    }
   ],
   "source": [
    "# OR\n",
    "ip = \"I am learning python\"\n",
    "\n",
    "\"\".join(list(filter(lambda x : not x.isspace(), ip)))"
   ]
  },
  {
   "cell_type": "code",
   "execution_count": 70,
   "metadata": {},
   "outputs": [
    {
     "data": {
      "text/plain": [
       "5"
      ]
     },
     "execution_count": 70,
     "metadata": {},
     "output_type": "execute_result"
    }
   ],
   "source": [
    "# Count vowels using map/filter \n",
    "\n",
    "len(list(filter(lambda x : x in \"aeiouAEIOU\", \"Education\")))"
   ]
  },
  {
   "cell_type": "markdown",
   "metadata": {},
   "source": [
    "## Collection Modules"
   ]
  },
  {
   "cell_type": "code",
   "execution_count": 73,
   "metadata": {},
   "outputs": [],
   "source": [
    "from collections import Counter"
   ]
  },
  {
   "cell_type": "code",
   "execution_count": null,
   "metadata": {},
   "outputs": [
    {
     "data": {
      "text/plain": [
       "Counter({'a': 2, 'R': 1, 'u': 1, 'n': 1, 'k': 1})"
      ]
     },
     "execution_count": 74,
     "metadata": {},
     "output_type": "execute_result"
    }
   ],
   "source": [
    "a = Counter(\"Raunak\")\n",
    "a"
   ]
  },
  {
   "cell_type": "code",
   "execution_count": 75,
   "metadata": {},
   "outputs": [
    {
     "data": {
      "text/plain": [
       "Counter({'This': 1, 'is': 1, 'Python': 1})"
      ]
     },
     "execution_count": 75,
     "metadata": {},
     "output_type": "execute_result"
    }
   ],
   "source": [
    "b = Counter(\"This is Python\".split())\n",
    "b"
   ]
  },
  {
   "cell_type": "markdown",
   "metadata": {},
   "source": [
    "## File Handling"
   ]
  },
  {
   "cell_type": "code",
   "execution_count": 76,
   "metadata": {},
   "outputs": [],
   "source": [
    "with open(\"sample.txt\", \"w\") as f :\n",
    "    f.write(\"Welcome to my Session!\")"
   ]
  },
  {
   "cell_type": "code",
   "execution_count": 80,
   "metadata": {},
   "outputs": [
    {
     "name": "stdout",
     "output_type": "stream",
     "text": [
      "Welcome to my Session!\n"
     ]
    }
   ],
   "source": [
    "with open(\"sample.txt\", \"r\") as f :\n",
    "    print(f.read())"
   ]
  },
  {
   "cell_type": "code",
   "execution_count": 86,
   "metadata": {},
   "outputs": [],
   "source": [
    "with open(\"sample2.txt\", \"w\") as f :\n",
    "    lines = [\"first\\n\", 'second\\n']\n",
    "    f.writelines(lines)\n",
    "    "
   ]
  },
  {
   "cell_type": "code",
   "execution_count": null,
   "metadata": {},
   "outputs": [
    {
     "name": "stdout",
     "output_type": "stream",
     "text": [
      "22\n",
      "\n"
     ]
    }
   ],
   "source": [
    "# read no of charac from a file\n",
    "\n",
    "with open(\"sample.txt\", \"r\") as f :\n",
    "    print(len(f.read()))\n",
    "    \n"
   ]
  },
  {
   "cell_type": "code",
   "execution_count": 104,
   "metadata": {},
   "outputs": [
    {
     "name": "stdout",
     "output_type": "stream",
     "text": [
      "Welcome to my Session!\n"
     ]
    }
   ],
   "source": [
    "with open(\"sample.txt\", \"r\") as f :\n",
    "    print(f.read())"
   ]
  },
  {
   "cell_type": "code",
   "execution_count": 98,
   "metadata": {},
   "outputs": [
    {
     "name": "stdout",
     "output_type": "stream",
     "text": [
      "2\n"
     ]
    }
   ],
   "source": [
    "# OR\n",
    "\n",
    "with open(\"sample2.txt\", \"r\") as f :\n",
    "    print(len(f.readlines()))"
   ]
  },
  {
   "cell_type": "code",
   "execution_count": null,
   "metadata": {},
   "outputs": [
    {
     "data": {
      "text/plain": [
       "'firstsecond'"
      ]
     },
     "execution_count": 99,
     "metadata": {},
     "output_type": "execute_result"
    }
   ],
   "source": [
    "\"\".join(list(map(lambda x : x.strip(\"\\n\"), lines)))\n",
    "\n",
    "## dont use join -> to count no of characs\n",
    "\n",
    "\n"
   ]
  },
  {
   "cell_type": "code",
   "execution_count": 101,
   "metadata": {},
   "outputs": [
    {
     "name": "stdout",
     "output_type": "stream",
     "text": [
      "on!\n"
     ]
    }
   ],
   "source": [
    "## print last three charac from a file \n",
    "\n",
    "with open(\"sample.txt\", \"r\") as f :\n",
    "    lines = f.read()\n",
    "    print(lines[-3:])"
   ]
  },
  {
   "cell_type": "code",
   "execution_count": 106,
   "metadata": {},
   "outputs": [],
   "source": [
    "# take names from user , write them on multiple lines , make another file and add \"is coding\" , and add that to the names\n",
    "\n",
    "with open(\"sample3.txt\", \"w\") as f :\n",
    "    name1 = f.writelines(\"Raunak\\n\")\n",
    "    name2 = f.writelines(\"Prashant\\n\")\n",
    "    name3 = f.writelines(\"Ashish\\n\")\n"
   ]
  },
  {
   "cell_type": "code",
   "execution_count": 138,
   "metadata": {},
   "outputs": [
    {
     "data": {
      "text/plain": [
       "['Raunak is coding', 'Prashant is coding', 'Ashish is coding']"
      ]
     },
     "execution_count": 138,
     "metadata": {},
     "output_type": "execute_result"
    }
   ],
   "source": [
    "with open(\"sample3.txt\", \"r\") as f :\n",
    "    names = f.readlines()\n",
    "\n",
    "    # print(names)\n",
    "\n",
    "list(map(lambda x : x.strip(\"\\n\") + \" is coding\", names))"
   ]
  },
  {
   "cell_type": "markdown",
   "metadata": {},
   "source": [
    "## Try and Except"
   ]
  },
  {
   "cell_type": "code",
   "execution_count": 144,
   "metadata": {},
   "outputs": [
    {
     "name": "stdout",
     "output_type": "stream",
     "text": [
      "No Exception\n"
     ]
    }
   ],
   "source": [
    "try:\n",
    "    # no error\n",
    "    number = int(input(\"Enter a no\"))\n",
    "except Exception as e :\n",
    "    # error , this block\n",
    "    print(e)\n",
    "else:\n",
    "    # will run when no error\n",
    "    print(\"No Exception\")"
   ]
  },
  {
   "cell_type": "code",
   "execution_count": null,
   "metadata": {},
   "outputs": [],
   "source": []
  }
 ],
 "metadata": {
  "kernelspec": {
   "display_name": "base",
   "language": "python",
   "name": "python3"
  },
  "language_info": {
   "codemirror_mode": {
    "name": "ipython",
    "version": 3
   },
   "file_extension": ".py",
   "mimetype": "text/x-python",
   "name": "python",
   "nbconvert_exporter": "python",
   "pygments_lexer": "ipython3",
   "version": "3.11.5"
  }
 },
 "nbformat": 4,
 "nbformat_minor": 2
}
