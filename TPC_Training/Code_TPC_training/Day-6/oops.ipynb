{
 "cells": [
  {
   "cell_type": "markdown",
   "metadata": {},
   "source": [
    "## Class\n",
    "Class is a model of a real-world object"
   ]
  },
  {
   "cell_type": "code",
   "execution_count": 9,
   "metadata": {},
   "outputs": [
    {
     "name": "stdout",
     "output_type": "stream",
     "text": [
      "Luqmaan\n",
      "{'name': 'Luqmaan', 'age': 19}\n",
      "This is a person\n"
     ]
    }
   ],
   "source": [
    "class Person :\n",
    "    def __init__(self,name, age):\n",
    "        self.name = name\n",
    "        self.age = age\n",
    "    def __str__(self):\n",
    "        return \"This is a person\"\n",
    "        \n",
    "p1 = Person(\"Luqmaan\", 19) # by default __init__() is called\n",
    "print(p1.name)\n",
    "\n",
    "print(p1.__dict__)\n",
    "\n",
    "print(p1)"
   ]
  },
  {
   "cell_type": "code",
   "execution_count": 11,
   "metadata": {},
   "outputs": [
    {
     "name": "stdout",
     "output_type": "stream",
     "text": [
      "Tom 2 German Shepard\n"
     ]
    }
   ],
   "source": [
    "class Dog :\n",
    "    def __init__(self, name, age, breed) :\n",
    "        self.name = name\n",
    "        self.age = age\n",
    "        self.breed = breed \n",
    "\n",
    "d1 = Dog(\"Tom\", 2, \"German Shepard\")\n",
    "\n",
    "print(d1.name, d1.age, d1.breed)"
   ]
  },
  {
   "cell_type": "code",
   "execution_count": 14,
   "metadata": {},
   "outputs": [
    {
     "name": "stdout",
     "output_type": "stream",
     "text": [
      "6 of Spades\n"
     ]
    }
   ],
   "source": [
    "class Card :\n",
    "    def __init__(self, rank, suit):\n",
    "        self.rank = rank\n",
    "        self.suit = suit\n",
    "    def __str__(self):\n",
    "        return f\"{self.rank} of {self.suit}\"\n",
    "\n",
    "c1 = Card(6, \"Spades\")\n",
    "c2 = Card(2, \"Diamonds\")\n",
    "print(c1)"
   ]
  },
  {
   "cell_type": "code",
   "execution_count": null,
   "metadata": {},
   "outputs": [],
   "source": [
    "class Stack :\n",
    "    def __init__(self, push , pop , peek ):\n",
    "        "
   ]
  },
  {
   "cell_type": "code",
   "execution_count": 17,
   "metadata": {},
   "outputs": [
    {
     "name": "stdout",
     "output_type": "stream",
     "text": [
      "<__main__.Human object at 0x0000020B5BF2AD50>\n",
      "Homo Sapiens\n",
      "Homo Sapiens\n"
     ]
    }
   ],
   "source": [
    "class Human:\n",
    "    # doent belong to the object\n",
    "    species = 'Homo Sapiens'\n",
    "\n",
    "\n",
    "h1 = Human()\n",
    "print(h1)\n",
    "print(h1.species)\n",
    "print(Human.species)"
   ]
  },
  {
   "cell_type": "markdown",
   "metadata": {},
   "source": [
    "## Static Method"
   ]
  },
  {
   "cell_type": "code",
   "execution_count": 19,
   "metadata": {},
   "outputs": [
    {
     "name": "stdout",
     "output_type": "stream",
     "text": [
      "11\n",
      "1024\n"
     ]
    }
   ],
   "source": [
    "class Math :\n",
    "    # Static Method\n",
    "    def add(a,b):\n",
    "        return a+b\n",
    "    def sub(a,b):\n",
    "        return a-b\n",
    "    def pow(a,b):\n",
    "        return a**b\n",
    "    def mult(a,b):\n",
    "        return a*b\n",
    "    def div(a,b):\n",
    "        return a/b\n",
    "    \n",
    "    \n",
    "print(Math.add(5,6))\n",
    "print(Math.pow(2,10))"
   ]
  },
  {
   "cell_type": "markdown",
   "metadata": {},
   "source": [
    "## Encapsulation"
   ]
  },
  {
   "cell_type": "code",
   "execution_count": null,
   "metadata": {},
   "outputs": [
    {
     "name": "stdout",
     "output_type": "stream",
     "text": [
      "Audi\n"
     ]
    },
    {
     "ename": "AttributeError",
     "evalue": "'Car' object has no attribute '__maxspeed'",
     "output_type": "error",
     "traceback": [
      "\u001b[1;31m---------------------------------------------------------------------------\u001b[0m",
      "\u001b[1;31mAttributeError\u001b[0m                            Traceback (most recent call last)",
      "Cell \u001b[1;32mIn[22], line 8\u001b[0m\n\u001b[0;32m      6\u001b[0m c1 \u001b[38;5;241m=\u001b[39m Car()\n\u001b[0;32m      7\u001b[0m \u001b[38;5;28mprint\u001b[39m(c1\u001b[38;5;241m.\u001b[39mbrand)\n\u001b[1;32m----> 8\u001b[0m \u001b[38;5;28mprint\u001b[39m(c1\u001b[38;5;241m.\u001b[39m__maxspeed)\n",
      "\u001b[1;31mAttributeError\u001b[0m: 'Car' object has no attribute '__maxspeed'"
     ]
    }
   ],
   "source": [
    "class Car :\n",
    "    def __init__(self) :\n",
    "        self.__maxspeed = 150  # private variable\n",
    "        self.brand = \"Audi\"  # public\n",
    "\n",
    "c1 = Car()\n",
    "print(c1.brand) # No Error\n",
    "print(c1.__maxspeed) # Error - Attribute Error\n"
   ]
  },
  {
   "cell_type": "code",
   "execution_count": 39,
   "metadata": {},
   "outputs": [
    {
     "name": "stdout",
     "output_type": "stream",
     "text": [
      "squirtle Has Evolved!\n"
     ]
    }
   ],
   "source": [
    "class Pokemon :\n",
    "    type = \"Water\"\n",
    "    def __init__(self, name, HP) :\n",
    "        self.name = name\n",
    "        self.__HP = HP\n",
    "        self.level = 1\n",
    "\n",
    "    def level_up(self) :\n",
    "        self.level += 1\n",
    "\n",
    "    def evolve(self) :\n",
    "        self.__HP += 5\n",
    "        print(self.name, \"Has Evolved!\")\n",
    "\n",
    "    def get_health(self):\n",
    "        return self.__HP\n",
    "    \n",
    "    def __str__(self):\n",
    "        return self.name\n",
    "    \n",
    "p1 = Pokemon(\"squirtle\", 44)\n",
    "p1.evolve()"
   ]
  },
  {
   "cell_type": "markdown",
   "metadata": {},
   "source": [
    "## Inheritance"
   ]
  },
  {
   "cell_type": "code",
   "execution_count": 44,
   "metadata": {},
   "outputs": [
    {
     "name": "stdout",
     "output_type": "stream",
     "text": [
      "True\n",
      "False\n",
      "True\n"
     ]
    }
   ],
   "source": [
    "class Animal :\n",
    "    pass\n",
    "\n",
    "class Dog(Animal) :\n",
    "    pass\n",
    "\n",
    "jimmy = Dog()\n",
    "print(isinstance(jimmy, Dog))\n",
    "print(issubclass(Animal, Dog))\n",
    "print(issubclass(Dog, Animal))"
   ]
  },
  {
   "cell_type": "code",
   "execution_count": 49,
   "metadata": {},
   "outputs": [
    {
     "name": "stdout",
     "output_type": "stream",
     "text": [
      "MobileOS\n"
     ]
    }
   ],
   "source": [
    "class OperatingSystem :\n",
    "    def __init__(self, name, version, year) :\n",
    "        self.name = name\n",
    "        self.version = version\n",
    "        self.year = year\n",
    "\n",
    "    def __str__(self) :\n",
    "        return \"OperatingSystem\"\n",
    "    \n",
    "class MobileOS(OperatingSystem) :\n",
    "    def __str__(self) :\n",
    "        return \"MobileOS\"\n",
    "\n",
    "mo = MobileOS(\"Windows\", 11.1 , 2022)\n",
    "print(mo)"
   ]
  },
  {
   "cell_type": "code",
   "execution_count": 52,
   "metadata": {},
   "outputs": [
    {
     "name": "stdout",
     "output_type": "stream",
     "text": [
      "{'s1': 3, 's2': 4, 's3': 5}\n",
      "{'s1': 4, 's2': 4, 's3': 4}\n",
      "{'s1': 3, 's2': 3, 's3': 4}\n",
      "{'s1': 3, 's2': 4, 's3': 5}\n"
     ]
    }
   ],
   "source": [
    "## Make a Triangle class - 1 parent and 3 child\n",
    "\n",
    "class Triangle :\n",
    "    def __init__(self, s1 , s2, s3):\n",
    "        self.s1 = s1\n",
    "        self.s2 = s2\n",
    "        self.s3 = s3\n",
    "\n",
    "    def __str__(self):\n",
    "        return \"This is a Triangle\"\n",
    "        \n",
    "class EquilateralTrianlge(Triangle):\n",
    "    def __init__(self,side):\n",
    "        super().__init__(side, side, side)  # super() calls the parent __init__\n",
    "\n",
    "    def __str__(self):\n",
    "        return \"This is an Equilateral Triangle\"\n",
    "\n",
    "class IsocelesTriangle(Triangle):\n",
    "    def __init__(self,side1, side2):\n",
    "        super().__init__(side1, side1, side2)\n",
    "\n",
    "    def __str__(self):\n",
    "        return \"This is an Isoceles Triangle\"\n",
    "\n",
    "class ScaleneTriangle(Triangle):\n",
    "    def __init__(self,side1,side2,side3):\n",
    "        super().__init__(side1,side2,side3)\n",
    "\n",
    "    def __str__(self):\n",
    "        return \"This is a Scaler Triangle\"\n",
    "    \n",
    "t1 = Triangle(3,4,5)\n",
    "t2 = EquilateralTrianlge(4)\n",
    "t3 = IsocelesTriangle(3,4)\n",
    "t4 = ScaleneTriangle(3,4,5)\n",
    "\n",
    "print(t1.__dict__)\n",
    "print(t2.__dict__)\n",
    "print(t3.__dict__)\n",
    "print(t4.__dict__)"
   ]
  }
 ],
 "metadata": {
  "kernelspec": {
   "display_name": "base",
   "language": "python",
   "name": "python3"
  },
  "language_info": {
   "codemirror_mode": {
    "name": "ipython",
    "version": 3
   },
   "file_extension": ".py",
   "mimetype": "text/x-python",
   "name": "python",
   "nbconvert_exporter": "python",
   "pygments_lexer": "ipython3",
   "version": "3.11.5"
  }
 },
 "nbformat": 4,
 "nbformat_minor": 2
}
