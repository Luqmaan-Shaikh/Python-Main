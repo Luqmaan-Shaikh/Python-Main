{
 "cells": [
  {
   "cell_type": "markdown",
   "metadata": {},
   "source": [
    "1. Exception Handling"
   ]
  },
  {
   "cell_type": "code",
   "execution_count": 5,
   "metadata": {},
   "outputs": [
    {
     "name": "stdout",
     "output_type": "stream",
     "text": [
      "Cannot divide by zero\n"
     ]
    }
   ],
   "source": [
    "a = int (input())\n",
    "b = int (input())\n",
    "try :\n",
    "    print(a/b)\n",
    "except :\n",
    "    print(\"Cannot divide by zero\")\n"
   ]
  },
  {
   "cell_type": "code",
   "execution_count": null,
   "metadata": {},
   "outputs": [],
   "source": [
    "a = int (input())\n",
    "b = int (input())\n",
    "\n",
    "try :\n",
    "    print(a/b)\n",
    "except ZeroDivisionError as msg :\n",
    "    print(\"plz ensure that you cannot divide any no by zero=> :\", msg)"
   ]
  },
  {
   "cell_type": "code",
   "execution_count": 15,
   "metadata": {},
   "outputs": [
    {
     "name": "stdout",
     "output_type": "stream",
     "text": [
      "1.0\n"
     ]
    }
   ],
   "source": [
    "try :\n",
    "    a = int (input())\n",
    "    b = int (input())\n",
    "    print(a/b)\n",
    "except ZeroDivisionError as msg :\n",
    "    print(\"plz ensure that you cannot divide any no by zero=> :\", msg)\n",
    "except ValueError as msg :\n",
    "    print(\"enter only integer no =>\", msg)"
   ]
  },
  {
   "cell_type": "code",
   "execution_count": 18,
   "metadata": {},
   "outputs": [
    {
     "name": "stdout",
     "output_type": "stream",
     "text": [
      "invalid literal for int() with base 10: 'str'\n"
     ]
    }
   ],
   "source": [
    "try :\n",
    "    a = int (input())\n",
    "    b = int (input())\n",
    "    print(a/b)\n",
    "except (ZeroDivisionError, ValueError) as msg :\n",
    "    print(msg)"
   ]
  },
  {
   "cell_type": "code",
   "execution_count": null,
   "metadata": {},
   "outputs": [
    {
     "name": "stdout",
     "output_type": "stream",
     "text": [
      "This is Default Except Block\n"
     ]
    }
   ],
   "source": [
    "try :\n",
    "    a = int (input())\n",
    "    b = int (input())\n",
    "    print(a/b)    \n",
    "except (ZeroDivisionError, ValueError) as msg :\n",
    "    print(msg)\n",
    "except :\n",
    "    print(\"This is Default Except Block\")"
   ]
  },
  {
   "cell_type": "code",
   "execution_count": 25,
   "metadata": {},
   "outputs": [
    {
     "ename": "SyntaxError",
     "evalue": "default 'except:' must be last (1121665826.py, line 7)",
     "output_type": "error",
     "traceback": [
      "\u001b[1;36m  Cell \u001b[1;32mIn[25], line 7\u001b[1;36m\u001b[0m\n\u001b[1;33m    except :\u001b[0m\n\u001b[1;37m    ^\u001b[0m\n\u001b[1;31mSyntaxError\u001b[0m\u001b[1;31m:\u001b[0m default 'except:' must be last\n"
     ]
    }
   ],
   "source": [
    "# ERROR ERROR ERROR\n",
    "\n",
    "try :\n",
    "    a = int (input())\n",
    "    b = int (input())\n",
    "    print(a/b)  \n",
    "\n",
    "# Syntax Error -> Default 'except :' must be last  \n",
    "except :\n",
    "    print(\"This is Default Except Block\")\n",
    "except (ZeroDivisionError, ValueError) as msg :\n",
    "    print(msg)\n"
   ]
  },
  {
   "cell_type": "code",
   "execution_count": 29,
   "metadata": {},
   "outputs": [
    {
     "name": "stdout",
     "output_type": "stream",
     "text": [
      "1.0\n",
      "everithing is OK\n"
     ]
    }
   ],
   "source": [
    "try :\n",
    "    a = int (input())\n",
    "    b = int (input())\n",
    "    print(a/b)    \n",
    "except (ZeroDivisionError, ValueError) as msg :\n",
    "    print(msg)\n",
    "else :\n",
    "    print(\"everithing is OK\")"
   ]
  },
  {
   "cell_type": "code",
   "execution_count": 32,
   "metadata": {},
   "outputs": [
    {
     "name": "stdout",
     "output_type": "stream",
     "text": [
      "invalid literal for int() with base 10: '#'\n",
      "Thank You\n"
     ]
    }
   ],
   "source": [
    "try :\n",
    "    a = int (input())\n",
    "    b = int (input())\n",
    "    print(a/b)    \n",
    "except (ZeroDivisionError, ValueError) as msg :\n",
    "    print(msg)\n",
    "finally :\n",
    "    print(\"Thank You\")"
   ]
  },
  {
   "cell_type": "code",
   "execution_count": 34,
   "metadata": {},
   "outputs": [
    {
     "name": "stdout",
     "output_type": "stream",
     "text": [
      "invalid literal for int() with base 10: '@'\n"
     ]
    }
   ],
   "source": [
    "try :\n",
    "    a = int (input())\n",
    "    b = int (input())\n",
    "    try :\n",
    "        print(a/b)    \n",
    "    except ZeroDivisionError as msg :\n",
    "        print(msg)\n",
    "except ValueError as msg :\n",
    "    print(msg)"
   ]
  },
  {
   "cell_type": "code",
   "execution_count": 4,
   "metadata": {},
   "outputs": [
    {
     "name": "stdout",
     "output_type": "stream",
     "text": [
      "1.0\n",
      "No Error\n",
      "Thank You\n"
     ]
    }
   ],
   "source": [
    "try :\n",
    "    a = int (input())\n",
    "    b = int (input())\n",
    "    print(a/b)    \n",
    "except (ZeroDivisionError, ValueError) as msg :\n",
    "    print(msg)\n",
    "else :\n",
    "    print(\"No Error\")\n",
    "finally :\n",
    "    print(\"Thank You\")"
   ]
  },
  {
   "cell_type": "markdown",
   "metadata": {},
   "source": [
    "Above Ex :\n",
    "\n",
    "Output : \n",
    "\n",
    "For No Error : ELSE and FINALLY\n",
    "\n",
    "For Error : EXCEPT and FINALLY"
   ]
  },
  {
   "cell_type": "markdown",
   "metadata": {},
   "source": [
    "2. Modules"
   ]
  },
  {
   "cell_type": "code",
   "execution_count": null,
   "metadata": {},
   "outputs": [],
   "source": []
  }
 ],
 "metadata": {
  "kernelspec": {
   "display_name": "base",
   "language": "python",
   "name": "python3"
  },
  "language_info": {
   "codemirror_mode": {
    "name": "ipython",
    "version": 3
   },
   "file_extension": ".py",
   "mimetype": "text/x-python",
   "name": "python",
   "nbconvert_exporter": "python",
   "pygments_lexer": "ipython3",
   "version": "3.11.5"
  }
 },
 "nbformat": 4,
 "nbformat_minor": 2
}
