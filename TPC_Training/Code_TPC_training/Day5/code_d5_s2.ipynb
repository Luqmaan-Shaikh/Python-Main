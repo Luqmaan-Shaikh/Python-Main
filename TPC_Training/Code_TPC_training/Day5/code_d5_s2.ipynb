{
 "cells": [
  {
   "cell_type": "code",
   "execution_count": 6,
   "metadata": {},
   "outputs": [
    {
     "name": "stdout",
     "output_type": "stream",
     "text": [
      "333\n",
      "232\n",
      "764\n"
     ]
    }
   ],
   "source": [
    "l1 = [\n",
    "    [100,198,333,323],\n",
    "    [122,232,221,111],\n",
    "    [223,565,245,764]\n",
    "]\n",
    "\n",
    "for i in l1 :\n",
    "    print(max(i))\n",
    "\n"
   ]
  },
  {
   "cell_type": "code",
   "execution_count": 5,
   "metadata": {},
   "outputs": [
    {
     "name": "stdout",
     "output_type": "stream",
     "text": [
      "[333, 232, 764]\n"
     ]
    }
   ],
   "source": [
    "l1 = [\n",
    "    [100,198,333,323],\n",
    "    [122,232,221,111],\n",
    "    [223,565,245,764]\n",
    "]\n",
    "\n",
    "l2 = []\n",
    "\n",
    "for i in range(0,3) :\n",
    "    mx = l1[i][0]\n",
    "    for j in range (4) :\n",
    "        c_max = l1[i][j]\n",
    "        if mx < c_max :\n",
    "            mx = c_max \n",
    "    l2.append(mx)\n",
    "\n",
    "print(l2)\n",
    "\n",
    "# OR \n",
    "\n",
    "# l1 = [\n",
    "#     [100,198,333,323],\n",
    "#     [122,232,221,111],\n",
    "#     [223,565,245,764]\n",
    "# ]\n",
    "\n",
    "# for i in l1 :\n",
    "#     i.sort(reverse=True)\n",
    "#     print(i[0])"
   ]
  },
  {
   "cell_type": "code",
   "execution_count": 15,
   "metadata": {},
   "outputs": [
    {
     "name": "stdout",
     "output_type": "stream",
     "text": [
      "****luqmaanisagoodprogrammer\n"
     ]
    }
   ],
   "source": [
    "# input = \"luqmaan*is*a*good*programmer\"\n",
    "\n",
    "# s = ''\n",
    "# ns = ''\n",
    "\n",
    "# for i in range(0,len(input)) :\n",
    "#     if input[i] == \"*\" :\n",
    "#         s += input[i]\n",
    "\n",
    "#     else :\n",
    "#         ns += input[i]\n",
    "\n",
    "# ans = s + ns\n",
    "\n",
    "# print(ans)\n",
    "\n",
    "# OR\n",
    "\n",
    "input = \"luqmaan*is*a*good*programmer\"\n",
    "\n",
    "s = ''\n",
    "ns = ''\n",
    "\n",
    "for i in input :\n",
    "    if i == \"*\" :\n",
    "        s += i\n",
    "\n",
    "    else :\n",
    "        ns += i\n",
    "\n",
    "ans = s + ns\n",
    "\n",
    "print(ans)\n",
    "\n"
   ]
  },
  {
   "cell_type": "code",
   "execution_count": 21,
   "metadata": {},
   "outputs": [
    {
     "name": "stdout",
     "output_type": "stream",
     "text": [
      "1 comes 3 times\n",
      "2 comes 2 times\n",
      "3 comes 2 times\n",
      "4 comes 2 times\n",
      "5 comes 1 times\n"
     ]
    }
   ],
   "source": [
    "# input = [1,2,3,3,4,1,4,5,1,2]\n",
    "\n",
    "# count1 = 0\n",
    "# count2 = 0\n",
    "# count3 = 0\n",
    "# count4 = 0\n",
    "# count5 = 0\n",
    "\n",
    "# for i in range(0,len(input)) :\n",
    "#     if input[i] == 1 :\n",
    "#         count1 += 1\n",
    "#     if input[i] == 2 :\n",
    "#         count2 += 1\n",
    "#     if input[i] == 3 :\n",
    "#         count3 += 1 \n",
    "#     if input[i] == 4 :\n",
    "#         count4 += 1\n",
    "#     if input[i] == 5 :\n",
    "#         count5 += 1\n",
    "\n",
    "# print(\"1 comes\", count1, \"times\")\n",
    "# print(\"2 comes\", count2, \"times\")\n",
    "# print(\"3 comes\", count3, \"times\")\n",
    "# print(\"4 comes\", count4, \"times\")\n",
    "# print(\"5 comes\", count5, \"times\")"
   ]
  },
  {
   "cell_type": "code",
   "execution_count": 24,
   "metadata": {},
   "outputs": [
    {
     "name": "stdout",
     "output_type": "stream",
     "text": [
      "1 occurs 3 times\n",
      "2 occurs 2 times\n",
      "3 occurs 2 times\n",
      "4 occurs 2 times\n",
      "5 occurs 1 times\n"
     ]
    }
   ],
   "source": [
    "n = 10 \n",
    "mylist = [1,2,3,3,4,1,4,5,1,2]\n",
    "newdict = {}\n",
    "\n",
    "for i in range(n) :\n",
    "    key = mylist[i]\n",
    "    count = 0\n",
    "    j = i + 1\n",
    "\n",
    "    for j in range(len(mylist)) :\n",
    "        if key == mylist[j] :\n",
    "            count += 1\n",
    "\n",
    "    newdict[key] = count\n",
    "\n",
    "for i,j in newdict.items() :\n",
    "    print(i, 'occurs', j, 'times')"
   ]
  },
  {
   "cell_type": "code",
   "execution_count": 26,
   "metadata": {},
   "outputs": [
    {
     "name": "stdout",
     "output_type": "stream",
     "text": [
      "j\n"
     ]
    }
   ],
   "source": [
    "name = 'abcdfjgerj abcdfijger'\n",
    "\n",
    "def stringvarify(name) :\n",
    "    for i in range(len(name)) :\n",
    "        if name[i] == ' ' :\n",
    "            return name[i-1]\n",
    "        \n",
    "print(stringvarify(name))"
   ]
  }
 ],
 "metadata": {
  "kernelspec": {
   "display_name": "base",
   "language": "python",
   "name": "python3"
  },
  "language_info": {
   "codemirror_mode": {
    "name": "ipython",
    "version": 3
   },
   "file_extension": ".py",
   "mimetype": "text/x-python",
   "name": "python",
   "nbconvert_exporter": "python",
   "pygments_lexer": "ipython3",
   "version": "3.11.5"
  }
 },
 "nbformat": 4,
 "nbformat_minor": 2
}
