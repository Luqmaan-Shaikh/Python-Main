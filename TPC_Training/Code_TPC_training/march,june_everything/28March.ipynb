{
 "cells": [
  {
   "cell_type": "markdown",
   "metadata": {},
   "source": [
    "### Company transmitting data to another server. Data is in form of no. To secure data during transmission, they plan to obtain a security key that will be sent along with data. security key is identified as count of repeated digits in data"
   ]
  },
  {
   "cell_type": "code",
   "execution_count": 154,
   "metadata": {},
   "outputs": [],
   "source": [
    "def sec_key(n):\n",
    "    count = 0\n",
    "    n_l = sorted(list(str(n)))\n",
    "    for i in range(1, len(n_l)):\n",
    "        if str(n)[i] == str(n)[i-1]:\n",
    "            count += 1\n",
    "    if count == 0:\n",
    "        return -1\n",
    "    return count "
   ]
  },
  {
   "cell_type": "code",
   "execution_count": 155,
   "metadata": {},
   "outputs": [
    {
     "name": "stdout",
     "output_type": "stream",
     "text": [
      "-1\n"
     ]
    }
   ],
   "source": [
    "n = int(input(\"No\"))\n",
    "print(sec_key(n))"
   ]
  },
  {
   "cell_type": "code",
   "execution_count": 156,
   "metadata": {},
   "outputs": [
    {
     "name": "stdout",
     "output_type": "stream",
     "text": [
      "Name: John\n",
      "Roll Number: 123\n",
      "Marks: 85\n",
      "Grade: B\n"
     ]
    }
   ],
   "source": [
    "class student:\n",
    "    def __init(self,name,roll,marks):\n",
    "        self.name = name\n",
    "        self.age = roll\n",
    "        self.marks = marks\n",
    "    def calculate(self,marks):\n",
    "        if marks >= 90:\n",
    "            return 'A'\n",
    "        elif marks >= 80:\n",
    "            return 'B'\n",
    "        elif marks >= 70:\n",
    "            return 'C'\n",
    "        elif marks >= 60:\n",
    "            return 'D'\n",
    "        else:\n",
    "            return 'F'\n",
    "    def display(self):\n",
    "        print(\"Name:\", self.name)\n",
    "        print(\"Roll Number:\", self.roll)\n",
    "        print(\"Marks:\", self.marks)\n",
    "        print(\"Grade:\", self.calculate(self.marks))\n",
    "        \n",
    "# object\n",
    "s1 = student()\n",
    "s1.name = \"John\"\n",
    "s1.roll = 123\n",
    "s1.marks = 85\n",
    "s1.display()      "
   ]
  },
  {
   "cell_type": "markdown",
   "metadata": {},
   "source": [
    "## Linked List"
   ]
  },
  {
   "cell_type": "code",
   "execution_count": null,
   "metadata": {},
   "outputs": [],
   "source": [
    "class node:\n",
    "    def __init__(self, no):\n",
    "        self.no = no\n",
    "        self.link = None\n",
    "\n",
    "    @staticmethod\n",
    "    def display(head):\n",
    "        if head is None:\n",
    "            print(\"List is empty\")\n",
    "            return\n",
    "        print(\"List is: \", end=\"\")\n",
    "        current = head\n",
    "        while current is not None:\n",
    "            print(current.no, end=\" -> \")\n",
    "            current = current.link\n",
    "        print(\"None\")\n",
    "\n",
    "    @staticmethod\n",
    "    def create():\n",
    "        no = int(input(\"Enter the number: \"))\n",
    "        temp = node(no)\n",
    "        temp.link = None\n",
    "        print(\"Node created with value:\", no)\n",
    "        return temp\n",
    "\n",
    "    @staticmethod\n",
    "    def insert_at_first(head):\n",
    "        new_node = node.create()\n",
    "        new_node.link = head\n",
    "        return new_node\n",
    "\n",
    "    @staticmethod\n",
    "    def insert_at_end(head):\n",
    "        new_node = node.create()\n",
    "        if head is None:\n",
    "            head = new_node\n",
    "            return head\n",
    "        current = head\n",
    "        while current.link is not None:\n",
    "            current = current.link\n",
    "        current.link = new_node\n",
    "        return head\n",
    "\n",
    "    @staticmethod\n",
    "    def insert_at_position(head):\n",
    "        position = int(input(\"Enter Position to enter Data: \"))\n",
    "        if position == 0:\n",
    "            return node.insert_at_first(head)\n",
    "        new_node = node.create()\n",
    "        current = head\n",
    "        for i in range(position - 1):\n",
    "            if current is None or current.link is None:\n",
    "                print(\"Position out of range\")\n",
    "                return head\n",
    "            current = current.link\n",
    "        new_node.link = current.link\n",
    "        current.link = new_node\n",
    "        return head\n",
    "    \n",
    "    @staticmethod\n",
    "    def delete_first_node(head):\n",
    "        if head == None:\n",
    "            print(\"List is empty\")\n",
    "        temp = head\n",
    "        head = head.link\n",
    "        temp.link = None\n",
    "        temp = None\n",
    "        return head\n",
    "    \n",
    "    @staticmethod\n",
    "    def delete_last_node(head):\n",
    "        if head is None:\n",
    "            print(\"List is empty\")\n",
    "            return None\n",
    "        if head.link is None:\n",
    "            return None\n",
    "        current = head\n",
    "        while current.link.link is not None:\n",
    "            current = current.link\n",
    "        current.link = None\n",
    "        return head    \n",
    "\n",
    "    @staticmethod\n",
    "    def delete_any_node(head):\n",
    "        key = int(input(\"Enter Data to Delete: \"))\n",
    "        if head is None:\n",
    "            print(\"List is empty\")\n",
    "            return head\n",
    "        if head.no == key:\n",
    "            return head.link\n",
    "        current = head\n",
    "        while current.link is not None and current.link.no != key:\n",
    "            current = current.link\n",
    "        if current.link is None:\n",
    "            print(f\"Data ({key}) not found\")\n",
    "            return head\n",
    "        current.link = current.link.link\n",
    "        return head\n",
    "    \n",
    "    @staticmethod            \n",
    "    def count_node(head):\n",
    "        if head == None:\n",
    "            return 0\n",
    "        count = 0\n",
    "        current = head\n",
    "        while current is not None:\n",
    "            count += 1\n",
    "            current = current.link\n",
    "        return count \n",
    "    \n",
    "    @staticmethod\n",
    "    def delete_full(head):\n",
    "        if head is None:\n",
    "            print(\"List is empty\")\n",
    "            return head\n",
    "        current = head\n",
    "        while current is not None:\n",
    "            next_node = current.link\n",
    "            del current\n",
    "            current = next_node\n",
    "        head = None\n",
    "        print(\"List is deleted\")\n",
    "        return head"
   ]
  },
  {
   "cell_type": "code",
   "execution_count": 8,
   "metadata": {},
   "outputs": [
    {
     "name": "stdout",
     "output_type": "stream",
     "text": [
      "Node created with value: 10\n",
      "Node created with value: 20\n"
     ]
    }
   ],
   "source": [
    "start = node.create()\n",
    "start.link = node.create()"
   ]
  },
  {
   "cell_type": "code",
   "execution_count": 9,
   "metadata": {},
   "outputs": [
    {
     "name": "stdout",
     "output_type": "stream",
     "text": [
      "List is: 10 -> 20 -> None\n"
     ]
    }
   ],
   "source": [
    "node.display(start)"
   ]
  },
  {
   "cell_type": "code",
   "execution_count": 10,
   "metadata": {},
   "outputs": [
    {
     "name": "stdout",
     "output_type": "stream",
     "text": [
      "List is: 5 -> 10 -> 20 -> None\n"
     ]
    }
   ],
   "source": [
    "start = node.insert_at_first(start)\n",
    "node.display(start)"
   ]
  },
  {
   "cell_type": "code",
   "execution_count": 11,
   "metadata": {},
   "outputs": [
    {
     "name": "stdout",
     "output_type": "stream",
     "text": [
      "List is: 5 -> 10 -> 20 -> 25 -> None\n"
     ]
    }
   ],
   "source": [
    "start = node.insert_at_end(start)\n",
    "node.display(start)"
   ]
  },
  {
   "cell_type": "code",
   "execution_count": 12,
   "metadata": {},
   "outputs": [
    {
     "name": "stdout",
     "output_type": "stream",
     "text": [
      "Node created with value: 15\n",
      "List is: 5 -> 10 -> 15 -> 20 -> 25 -> None\n"
     ]
    }
   ],
   "source": [
    "start = node.insert_at_position(start)\n",
    "node.display(start)"
   ]
  },
  {
   "cell_type": "code",
   "execution_count": 89,
   "metadata": {},
   "outputs": [
    {
     "name": "stdout",
     "output_type": "stream",
     "text": [
      "5\n"
     ]
    }
   ],
   "source": [
    "count = node.count_node(start)\n",
    "print(count)"
   ]
  },
  {
   "cell_type": "code",
   "execution_count": 90,
   "metadata": {},
   "outputs": [
    {
     "name": "stdout",
     "output_type": "stream",
     "text": [
      "List is: 10 -> 15 -> 20 -> 25 -> None\n"
     ]
    }
   ],
   "source": [
    "start = node.delete_first_node(start)\n",
    "node.display(start)"
   ]
  },
  {
   "cell_type": "code",
   "execution_count": 91,
   "metadata": {},
   "outputs": [
    {
     "name": "stdout",
     "output_type": "stream",
     "text": [
      "List is: 10 -> 15 -> 20 -> None\n"
     ]
    }
   ],
   "source": [
    "start = node.delete_last_node(start)\n",
    "node.display(start)"
   ]
  },
  {
   "cell_type": "code",
   "execution_count": 92,
   "metadata": {},
   "outputs": [
    {
     "name": "stdout",
     "output_type": "stream",
     "text": [
      "List is: 10 -> 20 -> None\n"
     ]
    }
   ],
   "source": [
    "start = node.delete_any_node(start)\n",
    "node.display(start)"
   ]
  },
  {
   "cell_type": "code",
   "execution_count": 93,
   "metadata": {},
   "outputs": [
    {
     "name": "stdout",
     "output_type": "stream",
     "text": [
      "Data (25) not found\n",
      "List is: 10 -> 20 -> None\n"
     ]
    }
   ],
   "source": [
    "del_p1 = node.delete_any_node(start)\n",
    "node.display(del_p1)"
   ]
  },
  {
   "cell_type": "code",
   "execution_count": 94,
   "metadata": {},
   "outputs": [
    {
     "name": "stdout",
     "output_type": "stream",
     "text": [
      "List is deleted\n"
     ]
    }
   ],
   "source": [
    "del_full = node.delete_full(start)"
   ]
  },
  {
   "cell_type": "code",
   "execution_count": 95,
   "metadata": {},
   "outputs": [
    {
     "name": "stdout",
     "output_type": "stream",
     "text": [
      "List is empty\n"
     ]
    }
   ],
   "source": [
    "node.display(del_full)"
   ]
  }
 ],
 "metadata": {
  "kernelspec": {
   "display_name": "Python 3",
   "language": "python",
   "name": "python3"
  },
  "language_info": {
   "codemirror_mode": {
    "name": "ipython",
    "version": 3
   },
   "file_extension": ".py",
   "mimetype": "text/x-python",
   "name": "python",
   "nbconvert_exporter": "python",
   "pygments_lexer": "ipython3",
   "version": "3.12.1"
  }
 },
 "nbformat": 4,
 "nbformat_minor": 2
}
