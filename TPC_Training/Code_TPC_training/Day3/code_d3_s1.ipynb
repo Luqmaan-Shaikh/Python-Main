{
 "cells": [
  {
   "cell_type": "code",
   "execution_count": 13,
   "metadata": {},
   "outputs": [
    {
     "ename": "ValueError",
     "evalue": "attempt to assign sequence of size 6 to extended slice of size 5",
     "output_type": "error",
     "traceback": [
      "\u001b[1;31m---------------------------------------------------------------------------\u001b[0m",
      "\u001b[1;31mValueError\u001b[0m                                Traceback (most recent call last)",
      "Cell \u001b[1;32mIn[13], line 5\u001b[0m\n\u001b[0;32m      1\u001b[0m \u001b[38;5;66;03m# 1 (ValueError: attempt to assign sequence of size 6 to extended slice of size 5)\u001b[39;00m\n\u001b[0;32m      3\u001b[0m a \u001b[38;5;241m=\u001b[39m [\u001b[38;5;241m1\u001b[39m,\u001b[38;5;241m2\u001b[39m,\u001b[38;5;241m3\u001b[39m,\u001b[38;5;241m4\u001b[39m,\u001b[38;5;241m5\u001b[39m,\u001b[38;5;241m6\u001b[39m,\u001b[38;5;241m7\u001b[39m,\u001b[38;5;241m8\u001b[39m,\u001b[38;5;241m9\u001b[39m]\n\u001b[1;32m----> 5\u001b[0m a[::\u001b[38;5;241m2\u001b[39m] \u001b[38;5;241m=\u001b[39m \u001b[38;5;241m10\u001b[39m,\u001b[38;5;241m20\u001b[39m,\u001b[38;5;241m30\u001b[39m,\u001b[38;5;241m40\u001b[39m,\u001b[38;5;241m50\u001b[39m,\u001b[38;5;241m60\u001b[39m\n\u001b[0;32m      7\u001b[0m a\n",
      "\u001b[1;31mValueError\u001b[0m: attempt to assign sequence of size 6 to extended slice of size 5"
     ]
    }
   ],
   "source": [
    "# 1 (ValueError: attempt to assign sequence of size 6 to extended slice of size 5)\n",
    "\n",
    "a = [1,2,3,4,5,6,7,8,9]\n",
    "\n",
    "a[::2] = 10,20,30,40,50,60\n",
    "\n",
    "a"
   ]
  },
  {
   "cell_type": "code",
   "execution_count": 12,
   "metadata": {},
   "outputs": [
    {
     "name": "stdout",
     "output_type": "stream",
     "text": [
      "[10, 2, 20, 4, 30, 6, 40, 8, 50]\n"
     ]
    }
   ],
   "source": [
    "# 2\n",
    "\n",
    "a = [1,2,3,4,5,6,7,8,9]\n",
    "\n",
    "a[::2] = 10,20,30,40,50\n",
    "\n",
    "print(a)"
   ]
  },
  {
   "cell_type": "code",
   "execution_count": 11,
   "metadata": {},
   "outputs": [
    {
     "name": "stdout",
     "output_type": "stream",
     "text": [
      "[4, 3, 2]\n"
     ]
    }
   ],
   "source": [
    "# 3\n",
    "\n",
    "a = [1,2,3,4,5]\n",
    "\n",
    "print(a[3:0:-1])"
   ]
  },
  {
   "cell_type": "code",
   "execution_count": 10,
   "metadata": {},
   "outputs": [
    {
     "name": "stdout",
     "output_type": "stream",
     "text": [
      "4\n",
      "7\n",
      "11\n",
      "15\n"
     ]
    }
   ],
   "source": [
    "# 4\n",
    "\n",
    "arr = [[1,2,3,4],\n",
    "       [4,5,6,7],\n",
    "       [8,9,10,11],\n",
    "       [12,13,14,15]]\n",
    "\n",
    "for i in range(0,4):\n",
    "    print(arr[i].pop())"
   ]
  },
  {
   "cell_type": "code",
   "execution_count": 4,
   "metadata": {},
   "outputs": [
    {
     "name": "stdout",
     "output_type": "stream",
     "text": [
      "2 3 4 5 6 6 "
     ]
    }
   ],
   "source": [
    "# 5\n",
    "\n",
    "arr = [1,2,3,4,5,6]\n",
    "\n",
    "for i in range(1,6) :\n",
    "    arr[i-1] = arr[i]\n",
    "\n",
    "for i in range(0,6) :\n",
    "    print(arr[i], end= \" \")"
   ]
  },
  {
   "cell_type": "code",
   "execution_count": 1,
   "metadata": {},
   "outputs": [
    {
     "data": {
      "text/plain": [
       "22"
      ]
     },
     "execution_count": 1,
     "metadata": {},
     "output_type": "execute_result"
    }
   ],
   "source": [
    "# 6\n",
    "\n",
    "f1 = ['apple','berry','cherry','papaya']\n",
    "f2 = f1\n",
    "f3 = f1[:]\n",
    "f2[0] = 'guava'\n",
    "f3[1] = 'kiwi'\n",
    "\n",
    "sum = 0\n",
    "\n",
    "for i in (f1,f2,f3) :\n",
    "    if i[0] == 'guava' :\n",
    "        sum+=1\n",
    "    if i[1] == 'kiwi' :\n",
    "        sum+=20\n",
    "\n",
    "sum"
   ]
  },
  {
   "cell_type": "code",
   "execution_count": 7,
   "metadata": {},
   "outputs": [
    {
     "data": {
      "text/plain": [
       "(tuple, ('prashant', 'ashish', 'rahul', 23, 3.15, 77, True))"
      ]
     },
     "execution_count": 7,
     "metadata": {},
     "output_type": "execute_result"
    }
   ],
   "source": [
    "# 7 (Tuple)\n",
    "\n",
    "mytuple = 'prashant', 'ashish', 'rahul', 23, 3.15, 77, True\n",
    "\n",
    "type(mytuple) , mytuple\n",
    "\n"
   ]
  },
  {
   "cell_type": "code",
   "execution_count": 8,
   "metadata": {},
   "outputs": [
    {
     "name": "stdout",
     "output_type": "stream",
     "text": [
      "<class 'tuple'> ('prashant', 'ashish', 'rahul', 23, 3.15, 77, True)\n"
     ]
    },
    {
     "ename": "TypeError",
     "evalue": "'tuple' object does not support item assignment",
     "output_type": "error",
     "traceback": [
      "\u001b[1;31m---------------------------------------------------------------------------\u001b[0m",
      "\u001b[1;31mTypeError\u001b[0m                                 Traceback (most recent call last)",
      "Cell \u001b[1;32mIn[8], line 7\u001b[0m\n\u001b[0;32m      3\u001b[0m mytuple \u001b[38;5;241m=\u001b[39m \u001b[38;5;124m'\u001b[39m\u001b[38;5;124mprashant\u001b[39m\u001b[38;5;124m'\u001b[39m, \u001b[38;5;124m'\u001b[39m\u001b[38;5;124mashish\u001b[39m\u001b[38;5;124m'\u001b[39m, \u001b[38;5;124m'\u001b[39m\u001b[38;5;124mrahul\u001b[39m\u001b[38;5;124m'\u001b[39m, \u001b[38;5;241m23\u001b[39m, \u001b[38;5;241m3.15\u001b[39m, \u001b[38;5;241m77\u001b[39m, \u001b[38;5;28;01mTrue\u001b[39;00m\n\u001b[0;32m      5\u001b[0m \u001b[38;5;28mprint\u001b[39m(\u001b[38;5;28mtype\u001b[39m(mytuple) , mytuple)\n\u001b[1;32m----> 7\u001b[0m mytuple[\u001b[38;5;241m2\u001b[39m] \u001b[38;5;241m=\u001b[39m \u001b[38;5;124m'\u001b[39m\u001b[38;5;124msunil\u001b[39m\u001b[38;5;124m'\u001b[39m\n\u001b[0;32m      9\u001b[0m \u001b[38;5;28mprint\u001b[39m(mytuple)\n",
      "\u001b[1;31mTypeError\u001b[0m: 'tuple' object does not support item assignment"
     ]
    }
   ],
   "source": [
    "# 8 \n",
    "\n",
    "mytuple = 'prashant', 'ashish', 'rahul', 23, 3.15, 77, True\n",
    "\n",
    "print(type(mytuple) , mytuple)\n",
    "\n",
    "mytuple[2] = 'sunil' # Error\n",
    "\n",
    "print(mytuple)"
   ]
  },
  {
   "cell_type": "code",
   "execution_count": 9,
   "metadata": {},
   "outputs": [
    {
     "ename": "AttributeError",
     "evalue": "'tuple' object has no attribute 'append'",
     "output_type": "error",
     "traceback": [
      "\u001b[1;31m---------------------------------------------------------------------------\u001b[0m",
      "\u001b[1;31mAttributeError\u001b[0m                            Traceback (most recent call last)",
      "Cell \u001b[1;32mIn[9], line 5\u001b[0m\n\u001b[0;32m      1\u001b[0m \u001b[38;5;66;03m# 9\u001b[39;00m\n\u001b[0;32m      3\u001b[0m mytuple \u001b[38;5;241m=\u001b[39m \u001b[38;5;124m'\u001b[39m\u001b[38;5;124mprashant\u001b[39m\u001b[38;5;124m'\u001b[39m, \u001b[38;5;124m'\u001b[39m\u001b[38;5;124mashish\u001b[39m\u001b[38;5;124m'\u001b[39m, \u001b[38;5;124m'\u001b[39m\u001b[38;5;124mrahul\u001b[39m\u001b[38;5;124m'\u001b[39m, \u001b[38;5;241m23\u001b[39m, \u001b[38;5;241m3.15\u001b[39m, \u001b[38;5;241m77\u001b[39m, \u001b[38;5;28;01mTrue\u001b[39;00m\n\u001b[1;32m----> 5\u001b[0m mytuple\u001b[38;5;241m.\u001b[39mappend(\u001b[38;5;124m\"\u001b[39m\u001b[38;5;124m\"\u001b[39m)\n",
      "\u001b[1;31mAttributeError\u001b[0m: 'tuple' object has no attribute 'append'"
     ]
    }
   ],
   "source": [
    "# 9\n",
    "\n",
    "mytuple = 'prashant', 'ashish', 'rahul', 23, 3.15, 77, True\n",
    "\n",
    "mytuple.append(\"\") # Error\n",
    "\n",
    "# Error -> append, copy , clear , del, remove , insert"
   ]
  },
  {
   "cell_type": "code",
   "execution_count": 10,
   "metadata": {},
   "outputs": [
    {
     "name": "stdout",
     "output_type": "stream",
     "text": [
      "['prashant', 'ashish', 'rahul', 23, 3.15, 77, True, 'sid']\n"
     ]
    }
   ],
   "source": [
    "# 10\n",
    "\n",
    "mytuple = 'prashant', 'ashish', 'rahul', 23, 3.15, 77, True\n",
    "\n",
    "l1 = list(mytuple)\n",
    "\n",
    "l1.append(\"sid\")\n",
    "\n",
    "print(l1)"
   ]
  },
  {
   "cell_type": "code",
   "execution_count": 19,
   "metadata": {},
   "outputs": [
    {
     "name": "stdout",
     "output_type": "stream",
     "text": [
      "('prashant', 'sid', 'ashish', 'rahul', 23, 3.15, 77, True)\n"
     ]
    }
   ],
   "source": [
    "# 11\n",
    "\n",
    "mytuple = 'prashant', 'ashish', 'rahul', 23, 3.15, 77, True\n",
    "\n",
    "t1  = mytuple[0:1] + (\"sid\",) + mytuple[1:]\n",
    "print(t1)"
   ]
  },
  {
   "cell_type": "code",
   "execution_count": 37,
   "metadata": {},
   "outputs": [
    {
     "name": "stdout",
     "output_type": "stream",
     "text": [
      "12\n"
     ]
    }
   ],
   "source": [
    "# 12 \n",
    "\n",
    "n = int(input())\n",
    "\n",
    "arr = input().split(\" \")\n",
    "\n",
    "arr1 = []\n",
    "\n",
    "sum = 0\n",
    "\n",
    "for i in arr :\n",
    "    arr1.append(int(i))\n",
    "\n",
    "for i in range(1, n):\n",
    "    # print(arr1[i] - arr1[i-1])   \n",
    "    # if the second num is greater subtract greater from smaller\n",
    "    # if arr1[i-1] > arr1[i] :\n",
    "    #     sum = sum + (arr1[i-1] - arr1[i])\n",
    "    # else :\n",
    "    #     sum = sum + (arr1[i] - arr1[i-1])\n",
    "\n",
    "    sum += abs(arr1[i] - arr1[i-1])\n",
    "\n",
    "print(sum)\n"
   ]
  },
  {
   "cell_type": "code",
   "execution_count": 44,
   "metadata": {},
   "outputs": [
    {
     "data": {
      "text/plain": [
       "4"
      ]
     },
     "execution_count": 44,
     "metadata": {},
     "output_type": "execute_result"
    }
   ],
   "source": [
    "# 13 \n",
    "\n",
    "s = input()\n",
    "\n",
    "count = 0 \n",
    "\n",
    "for i in s :\n",
    "    if not i.isalnum() :\n",
    "        count += 1\n",
    "\n",
    "count"
   ]
  },
  {
   "cell_type": "code",
   "execution_count": 45,
   "metadata": {},
   "outputs": [
    {
     "name": "stdout",
     "output_type": "stream",
     "text": [
      "{'name': 'luqmaan', 'profession': 'student', 'empid': 1001}\n",
      "<class 'dict'>\n"
     ]
    }
   ],
   "source": [
    "# 14 (Dictionary)\n",
    "\n",
    "mydict = {\n",
    "    \"name\" : \"luqmaan\",\n",
    "    \"profession\" : \"student\",\n",
    "    \"empid\" : 1001\n",
    "}\n",
    "\n",
    "print(mydict)\n",
    "print(type(mydict))"
   ]
  },
  {
   "cell_type": "code",
   "execution_count": 46,
   "metadata": {},
   "outputs": [
    {
     "name": "stdout",
     "output_type": "stream",
     "text": [
      "{101: 'ashish', 102: 'ashish', '103': 'mohan', '104': 'trivan', 104: 'ashish'}\n"
     ]
    }
   ],
   "source": [
    "# 15 \n",
    "\n",
    "mydict = {\n",
    "    101 : \"prashant\", \n",
    "    102 : \"ashish\",\n",
    "    \"103\" : \"mohan\",\n",
    "    \"104\" : \"trivan\",\n",
    "    101 : \"ashish\",\n",
    "    104 : \"ashish\"\n",
    "}\n",
    "\n",
    "print(mydict)"
   ]
  },
  {
   "cell_type": "code",
   "execution_count": 49,
   "metadata": {},
   "outputs": [
    {
     "name": "stdout",
     "output_type": "stream",
     "text": [
      "{101: 'ashish', 102: 'ashish', '103': 'mohan', '104': 'trivan', 104: 'ashish'}\n",
      "ashish\n"
     ]
    }
   ],
   "source": [
    "# 16 \n",
    "\n",
    "mydict = {\n",
    "    101 : \"prashant\", \n",
    "    102 : \"ashish\",\n",
    "    \"103\" : \"mohan\",\n",
    "    \"104\" : \"trivan\",\n",
    "    101 : \"ashish\",\n",
    "    104 : \"ashish\"\n",
    "}\n",
    "\n",
    "# how to access value using KEY\n",
    "a = mydict[102]\n",
    "print(a)"
   ]
  },
  {
   "cell_type": "code",
   "execution_count": 50,
   "metadata": {},
   "outputs": [
    {
     "name": "stdout",
     "output_type": "stream",
     "text": [
      "{101: 'ashish', 102: 'peter', '103': 'mohan', '104': 'trivan', 104: 'ashish'}\n"
     ]
    }
   ],
   "source": [
    "# 17\n",
    "\n",
    "mydict = {\n",
    "    101 : \"prashant\", \n",
    "    102 : \"ashish\",\n",
    "    \"103\" : \"mohan\",\n",
    "    \"104\" : \"trivan\",\n",
    "    101 : \"ashish\",\n",
    "    104 : \"ashish\"\n",
    "}\n",
    "\n",
    "# replace old value by new value \n",
    "\n",
    "mydict[102] = \"peter\"\n",
    "\n",
    "print(mydict)"
   ]
  },
  {
   "cell_type": "code",
   "execution_count": 60,
   "metadata": {},
   "outputs": [
    {
     "name": "stdout",
     "output_type": "stream",
     "text": [
      "101\n",
      "102\n",
      "103\n",
      "104\n",
      "104\n",
      "ashish\n",
      "ashish\n",
      "mohan\n",
      "trivan\n",
      "ashish\n",
      "ashish\n",
      "ashish\n",
      "mohan\n",
      "trivan\n",
      "ashish\n",
      "101 ashish\n",
      "102 ashish\n",
      "103 mohan\n",
      "104 trivan\n",
      "104 ashish\n",
      "101 ashish\n",
      "102 ashish\n",
      "103 mohan\n",
      "104 trivan\n",
      "104 ashish\n"
     ]
    }
   ],
   "source": [
    "# 18\n",
    "\n",
    "mydict = {\n",
    "    101 : \"prashant\", \n",
    "    102 : \"ashish\",\n",
    "    \"103\" : \"mohan\",\n",
    "    \"104\" : \"trivan\",\n",
    "    101 : \"ashish\",\n",
    "    104 : \"ashish\"\n",
    "}\n",
    "\n",
    "# only print Key\n",
    "for x in mydict :\n",
    "    print(x)\n",
    "\n",
    "# only print Value\n",
    "for x in mydict :\n",
    "    print(mydict[x])\n",
    "#OR\n",
    "for x in mydict.values() :\n",
    "    print(x)\n",
    "\n",
    "# print both key and value \n",
    "for x in mydict :\n",
    "    print(x, mydict[x])\n",
    "#OR\n",
    "for x,y in mydict.items() :\n",
    "    print(x,y)\n",
    "\n"
   ]
  },
  {
   "cell_type": "code",
   "execution_count": 61,
   "metadata": {},
   "outputs": [
    {
     "name": "stdout",
     "output_type": "stream",
     "text": [
      "{101: 'ashish', 102: 'ashish', '103': 'mohan', '104': 'trivan', 104: 'ashish', 'mobile_no': 7710907525}\n"
     ]
    }
   ],
   "source": [
    "# 19\n",
    "\n",
    "mydict = {\n",
    "    101 : \"prashant\", \n",
    "    102 : \"ashish\",\n",
    "    \"103\" : \"mohan\",\n",
    "    \"104\" : \"trivan\",\n",
    "    101 : \"ashish\",\n",
    "    104 : \"ashish\"\n",
    "}\n",
    "# how to ADD a KEY-VALUE Pair\n",
    "\n",
    "mydict[\"mobile_no\"] = 7710907525\n",
    "\n",
    "print(mydict)"
   ]
  },
  {
   "cell_type": "code",
   "execution_count": 62,
   "metadata": {},
   "outputs": [
    {
     "data": {
      "text/plain": [
       "'ashish'"
      ]
     },
     "execution_count": 62,
     "metadata": {},
     "output_type": "execute_result"
    }
   ],
   "source": [
    "# 20 \n",
    "\n",
    "mydict = {\n",
    "    101 : \"prashant\", \n",
    "    102 : \"ashish\",\n",
    "    \"103\" : \"mohan\",\n",
    "    \"104\" : \"trivan\",\n",
    "    101 : \"ashish\",\n",
    "    104 : \"ashish\"\n",
    "}\n",
    "\n",
    "# how to remove a key-value pair\n",
    "\n",
    "mydict.pop(101)"
   ]
  }
 ],
 "metadata": {
  "kernelspec": {
   "display_name": "base",
   "language": "python",
   "name": "python3"
  },
  "language_info": {
   "codemirror_mode": {
    "name": "ipython",
    "version": 3
   },
   "file_extension": ".py",
   "mimetype": "text/x-python",
   "name": "python",
   "nbconvert_exporter": "python",
   "pygments_lexer": "ipython3",
   "version": "3.11.5"
  }
 },
 "nbformat": 4,
 "nbformat_minor": 2
}
