{
 "cells": [
  {
   "cell_type": "markdown",
   "metadata": {},
   "source": [
    "\n",
    "1. Given a string s, find the length of the longest substring without repeating characters.\n",
    "\n",
    "Input:\n",
    "abcabcbb\n",
    "\n",
    "Output:\n",
    "3"
   ]
  },
  {
   "cell_type": "code",
   "execution_count": null,
   "metadata": {},
   "outputs": [],
   "source": [
    "def length_of_longest_substring(s):\n",
    "    # Your Code goes below this line\n",
    "\n",
    "    \n",
    "    # Your Code goes below this line\n",
    "    pass\n",
    "\n",
    "s = input().strip()\n",
    "print(length_of_longest_substring(s))"
   ]
  },
  {
   "cell_type": "markdown",
   "metadata": {},
   "source": [
    "2. Given two arrays, find the common elements between them.\n",
    "\n",
    "Input:\n",
    "5\n",
    "5\n",
    "[1 2 3 4 5]\n",
    "[2 3 4 6 7]\n",
    "\n",
    "Output:\n",
    "[2 3 4]"
   ]
  },
  {
   "cell_type": "code",
   "execution_count": 1,
   "metadata": {},
   "outputs": [
    {
     "name": "stdout",
     "output_type": "stream",
     "text": [
      "[2 3 4]\n"
     ]
    }
   ],
   "source": [
    "def find_common_elements(n, m, arr1, arr2):\n",
    "    # Your Code goes below this line\n",
    "    result = []\n",
    "    for i in range(len(arr1)):\n",
    "      for j in range(len(arr2)):\n",
    "        if arr1[i]==arr2[j]:\n",
    "          result.append(arr1[i])\n",
    "        \n",
    "    return result\n",
    "    # Your Code goes above this line\n",
    "    pass  \n",
    "\n",
    "\n",
    "n = int(input().strip())  \n",
    "m = int(input().strip())  \n",
    "arr1 = list(map(int, input().strip()[1:-1].split()))\n",
    "arr2 = list(map(int, input().strip()[1:-1].split()))\n",
    "result = find_common_elements(n, m, arr1, arr2)\n",
    "print(f\"[{' '.join(map(str, result))}]\")"
   ]
  },
  {
   "cell_type": "markdown",
   "metadata": {},
   "source": [
    "3. Write a program to count the occurrences of a given element in an array.\n",
    "\n",
    "Input:\n",
    "5  \n",
    "[1, 2, 3, 2, 1]  \n",
    "2\n",
    "\n",
    "Output:\n",
    "2"
   ]
  },
  {
   "cell_type": "code",
   "execution_count": 2,
   "metadata": {},
   "outputs": [
    {
     "name": "stdout",
     "output_type": "stream",
     "text": [
      "2\n"
     ]
    }
   ],
   "source": [
    "def count_occurrences(arr, x):\n",
    "    # Your Code goes below this line\n",
    "    count = 0\n",
    "    \n",
    "    for i in range(len(arr)) :\n",
    "      if x == arr[i] :\n",
    "        count += 1 \n",
    "      \n",
    "    return count\n",
    "    \n",
    "    # Your Code goes above this line\n",
    "\n",
    "# Driver code\n",
    "def main():\n",
    "    n = int(input().strip())\n",
    "    arr = list(map(int, input().strip().strip('[]').split(',')))\n",
    "    x = int(input().strip())\n",
    "    \n",
    "    result = count_occurrences(arr, x)\n",
    "    print(result)\n",
    "\n",
    "if __name__ == \"__main__\":\n",
    "    main()"
   ]
  },
  {
   "cell_type": "code",
   "execution_count": null,
   "metadata": {},
   "outputs": [],
   "source": []
  }
 ],
 "metadata": {
  "kernelspec": {
   "display_name": "base",
   "language": "python",
   "name": "python3"
  },
  "language_info": {
   "codemirror_mode": {
    "name": "ipython",
    "version": 3
   },
   "file_extension": ".py",
   "mimetype": "text/x-python",
   "name": "python",
   "nbconvert_exporter": "python",
   "pygments_lexer": "ipython3",
   "version": "3.11.5"
  }
 },
 "nbformat": 4,
 "nbformat_minor": 2
}
