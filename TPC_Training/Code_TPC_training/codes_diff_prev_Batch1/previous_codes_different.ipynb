{
 "cells": [
  {
   "cell_type": "markdown",
   "metadata": {},
   "source": [
    "list of numbers where we want to check if the number is repeated and make into a list and show the number of repeated number"
   ]
  },
  {
   "cell_type": "code",
   "execution_count": 2,
   "metadata": {},
   "outputs": [
    {
     "name": "stdout",
     "output_type": "stream",
     "text": [
      "Repeated numbers and their counts:\n",
      "Number 2 is repeated 2 times.\n",
      "Number 3 is repeated 2 times.\n",
      "Number 4 is repeated 3 times.\n",
      "Number 8 is repeated 3 times.\n"
     ]
    }
   ],
   "source": [
    "# Create a list of numbers\n",
    "numbers = [1, 2, 3, 4, 5, 2, 3, 4, 4, 6, 7, 8, 8, 8]\n",
    "\n",
    "# Create a dictionary to store the count of each number\n",
    "number_counts = {}\n",
    "\n",
    "# Count the occurrences of each number\n",
    "for number in numbers:\n",
    "    if number in number_counts:\n",
    "        number_counts[number] += 1\n",
    "    else:\n",
    "        number_counts[number] = 1\n",
    "\n",
    "# Display the repeated numbers and their counts\n",
    "print(\"Repeated numbers and their counts:\")\n",
    "for number, count in number_counts.items():\n",
    "    if count > 1:\n",
    "        print(f\"Number {number} is repeated {count} times.\")"
   ]
  },
  {
   "cell_type": "code",
   "execution_count": 1,
   "metadata": {},
   "outputs": [
    {
     "name": "stdout",
     "output_type": "stream",
     "text": [
      "4 6\n"
     ]
    }
   ],
   "source": [
    "x=4\n",
    "y=4\n",
    "y +=2\n",
    "print(x, y)"
   ]
  },
  {
   "cell_type": "markdown",
   "metadata": {},
   "source": [
    "# static method\n",
    "- A static method is a method that belongs to a class rather than any specific instance of the class. It can be called without creating an object of the class. Static methods do not have access to instance variables (self in Python or this in Java) because they are not tied to any particular object.\n",
    "\n",
    "## Static variable\n",
    "- A static variable is a variable that is shared across all instances of a class or retains its value across multiple function calls, depending on the programming language. It is initialized only once and has a lifetime equal to the program's execution."
   ]
  },
  {
   "cell_type": "code",
   "execution_count": null,
   "metadata": {},
   "outputs": [
    {
     "name": "stdout",
     "output_type": "stream",
     "text": [
      "Current Node Value: 10\n",
      "Next Node Value: 40\n",
      "Current Node Value: 40\n",
      "No next node to display\n"
     ]
    }
   ],
   "source": [
    "class Node:\n",
    "    def __init__(self, no):\n",
    "        self.no = no\n",
    "        self.next = None\n",
    "\n",
    "    @staticmethod\n",
    "    def display(node):\n",
    "        if node is None:\n",
    "            print(\"No nodes to display\")\n",
    "        else:\n",
    "            print(f\"Current Node Value: {node.no}\")\n",
    "            \n",
    "            if node.next is not None:\n",
    "                print(f\"Next Node Value: {node.next.no}\")\n",
    "            else:\n",
    "                print(\"No next node to display\")\n",
    "\n",
    "\n",
    "if __name__ == \"__main__\":\n",
    "    no1 = int(input(\"Enter value for the first node: \"))\n",
    "    no2 = int(input(\"Enter value for the second node: \"))\n",
    "\n",
    "    node1 = Node(no1)\n",
    "    node2 = Node(no2)\n",
    "\n",
    "    node1.next = node2\n",
    "\n",
    "    Node.display(node1) \n",
    "    Node.display(node2)"
   ]
  },
  {
   "cell_type": "code",
   "execution_count": 11,
   "metadata": {},
   "outputs": [
    {
     "name": "stdout",
     "output_type": "stream",
     "text": [
      "Before\n",
      "Node Value: 1\n",
      "Node Value: 2\n",
      "Node Value: 3\n",
      "Node Value: 4\n",
      "After\n",
      "Node Value: 7\n",
      "Node Value: 1\n",
      "Node Value: 2\n",
      "Node Value: 3\n",
      "Node Value: 4\n"
     ]
    }
   ],
   "source": [
    "class Node:\n",
    "    def __init__(self, no):\n",
    "        self.no = no\n",
    "        self.link = None\n",
    "\n",
    "    @staticmethod\n",
    "    def create_node():\n",
    "        no = int(input(\"Enter NO: \"))\n",
    "        temp = Node(no)\n",
    "        return temp\n",
    "\n",
    "    @staticmethod\n",
    "    def insert_at_first(s):\n",
    "        if s is None:\n",
    "            s = Node.create_node()\n",
    "        else:\n",
    "            temp = Node.create_node()\n",
    "            temp.link = s\n",
    "            s = temp\n",
    "        return s\n",
    "\n",
    "    @staticmethod\n",
    "    def display_node(start):\n",
    "        if start is None:\n",
    "            print(\"No nodes to display\")\n",
    "            return\n",
    "\n",
    "        current = start\n",
    "        while current is not None:\n",
    "            print(f\"Node Value: {current.no}\")\n",
    "            current = current.link\n",
    "\n",
    "\n",
    "if __name__ == \"__main__\":\n",
    "    start = Node.create_node()\n",
    "    start.link = Node.create_node()\n",
    "    start.link.link = Node.create_node()\n",
    "    start.link.link.link = Node.create_node()\n",
    "\n",
    "    print(\"Before\")\n",
    "    Node.display_node(start)\n",
    "\n",
    "    start = Node.insert_at_first(start)\n",
    "\n",
    "    print(\"After\")\n",
    "    Node.display_node(start)"
   ]
  },
  {
   "cell_type": "code",
   "execution_count": 12,
   "metadata": {},
   "outputs": [
    {
     "name": "stdout",
     "output_type": "stream",
     "text": [
      "Before\n",
      "Node Value: 1\n",
      "Node Value: 2\n",
      "Node Value: 3\n",
      "Node Value: 4\n",
      "After\n",
      "Node Value: 1\n",
      "Node Value: 2\n",
      "Node Value: 3\n",
      "Node Value: 4\n",
      "Node Value: 8\n"
     ]
    }
   ],
   "source": [
    "class Node:\n",
    "    def __init__(self, no):\n",
    "        self.no = no\n",
    "        self.link = None\n",
    "\n",
    "    @staticmethod\n",
    "    def create_node():\n",
    "        no = int(input(\"Enter Node Value: \"))\n",
    "        temp = Node(no)\n",
    "        return temp\n",
    "\n",
    "    @staticmethod\n",
    "    def insert_at_last(start):\n",
    "        new_node = Node.create_node()\n",
    "        if start is None:\n",
    "            start = new_node\n",
    "        else:\n",
    "            current = start\n",
    "            while current.link is not None:\n",
    "                current = current.link\n",
    "            current.link = new_node\n",
    "        return start\n",
    "\n",
    "    @staticmethod\n",
    "    def display_node(start):\n",
    "        if start is None:\n",
    "            print(\"No nodes to display\")\n",
    "            return\n",
    "\n",
    "        current = start\n",
    "        while current is not None:\n",
    "            print(f\"Node Value: {current.no}\")\n",
    "            current = current.link\n",
    "\n",
    "\n",
    "if __name__ == \"__main__\":\n",
    "    start = Node.create_node()\n",
    "    start.link = Node.create_node()\n",
    "    start.link.link = Node.create_node()\n",
    "    start.link.link.link = Node.create_node()\n",
    "\n",
    "    print(\"Before\")\n",
    "    Node.display_node(start)\n",
    "\n",
    "    start = Node.insert_at_last(start)\n",
    "\n",
    "    print(\"After\")\n",
    "    Node.display_node(start)"
   ]
  },
  {
   "cell_type": "code",
   "execution_count": 13,
   "metadata": {},
   "outputs": [
    {
     "name": "stdout",
     "output_type": "stream",
     "text": [
      "Linked List Before Insertion at Index:\n",
      "Node Value: 4\n",
      "Node Value: 5\n",
      "Node Value: 2\n",
      "Node Value: 1\n",
      "Linked List After Insertion at Index:\n",
      "Node Value: 4\n",
      "Node Value: 5\n",
      "Node Value: 2\n",
      "Node Value: 7\n",
      "Node Value: 1\n"
     ]
    }
   ],
   "source": [
    "class Node:\n",
    "    def __init__(self, no):\n",
    "        self.no = no\n",
    "        self.link = None\n",
    "\n",
    "    @staticmethod\n",
    "    def create_node():\n",
    "        no = int(input(\"Enter Node Value: \"))\n",
    "        temp = Node(no)\n",
    "        return temp\n",
    "\n",
    "    @staticmethod\n",
    "    def insert_at_index(start, index):\n",
    "        new_node = Node.create_node()\n",
    "        if index == 0:\n",
    "            # Insert at the beginning\n",
    "            new_node.link = start\n",
    "            start = new_node\n",
    "        else:\n",
    "            current = start\n",
    "            position = 0\n",
    "            while current is not None and position < index - 1:\n",
    "                current = current.link\n",
    "                position += 1\n",
    "\n",
    "            if current is None:\n",
    "                print(\"Index out of bounds\")\n",
    "            else:\n",
    "                new_node.link = current.link\n",
    "                current.link = new_node\n",
    "        return start\n",
    "\n",
    "    @staticmethod\n",
    "    def display_node(start):\n",
    "        if start is None:\n",
    "            print(\"No nodes to display\")\n",
    "            return\n",
    "\n",
    "        current = start\n",
    "        while current is not None:\n",
    "            print(f\"Node Value: {current.no}\")\n",
    "            current = current.link\n",
    "\n",
    "\n",
    "if __name__ == \"__main__\":\n",
    "    start = Node.create_node()\n",
    "    start.link = Node.create_node()\n",
    "    start.link.link = Node.create_node()\n",
    "    start.link.link.link = Node.create_node()\n",
    "\n",
    "    print(\"Linked List Before Insertion at Index:\")\n",
    "    Node.display_node(start)\n",
    "\n",
    "    index = int(input(\"Enter the index to insert the new node: \"))\n",
    "    start = Node.insert_at_index(start, index)\n",
    "\n",
    "    print(\"Linked List After Insertion at Index:\")\n",
    "    Node.display_node(start)"
   ]
  },
  {
   "cell_type": "code",
   "execution_count": 14,
   "metadata": {},
   "outputs": [
    {
     "name": "stdout",
     "output_type": "stream",
     "text": [
      "Linked List Before Deleting First Node:\n",
      "Node Value: 2\n",
      "Node Value: 1\n",
      "Node Value: 4\n",
      "Node Value: 3\n",
      "Deleting Node with Value: 2\n",
      "Linked List After Deleting First Node:\n",
      "Node Value: 1\n",
      "Node Value: 4\n",
      "Node Value: 3\n"
     ]
    }
   ],
   "source": [
    "class Node:\n",
    "    def __init__(self, no):\n",
    "        self.no = no\n",
    "        self.link = None\n",
    "\n",
    "    @staticmethod\n",
    "    def create_node():\n",
    "        no = int(input(\"Enter Node Value: \"))\n",
    "        temp = Node(no)\n",
    "        return temp\n",
    "\n",
    "    @staticmethod\n",
    "    def insert_at_index(start, index):\n",
    "        new_node = Node.create_node()\n",
    "        if index == 0:\n",
    "            # Insert at the beginning\n",
    "            new_node.link = start\n",
    "            start = new_node\n",
    "        else:\n",
    "            current = start\n",
    "            position = 0\n",
    "            while current is not None and position < index - 1:\n",
    "                current = current.link\n",
    "                position += 1\n",
    "\n",
    "            if current is None:\n",
    "                print(\"Index out of bounds\")\n",
    "            else:\n",
    "                new_node.link = current.link\n",
    "                current.link = new_node\n",
    "        return start\n",
    "\n",
    "    @staticmethod\n",
    "    def delete_first_node(start):\n",
    "        \"\"\"Static method to delete the first node in the linked list.\"\"\"\n",
    "        if start is None:\n",
    "            print(\"The list is already empty.\")\n",
    "            return None\n",
    "        else:\n",
    "            print(f\"Deleting Node with Value: {start.no}\")\n",
    "            start = start.link  # Move the start pointer to the next node\n",
    "        return start\n",
    "\n",
    "    @staticmethod\n",
    "    def display_node(start):\n",
    "        if start is None:\n",
    "            print(\"No nodes to display\")\n",
    "            return\n",
    "\n",
    "        current = start\n",
    "        while current is not None:\n",
    "            print(f\"Node Value: {current.no}\")\n",
    "            current = current.link\n",
    "\n",
    "\n",
    "if __name__ == \"__main__\":\n",
    "    # Create initial linked list with 4 nodes\n",
    "    start = Node.create_node()\n",
    "    start.link = Node.create_node()\n",
    "    start.link.link = Node.create_node()\n",
    "    start.link.link.link = Node.create_node()\n",
    "\n",
    "    print(\"Linked List Before Deleting First Node:\")\n",
    "    Node.display_node(start)\n",
    "\n",
    "    # Delete the first node\n",
    "    start = Node.delete_first_node(start)\n",
    "\n",
    "    print(\"Linked List After Deleting First Node:\")\n",
    "    Node.display_node(start)"
   ]
  },
  {
   "cell_type": "code",
   "execution_count": 1,
   "metadata": {},
   "outputs": [
    {
     "name": "stdout",
     "output_type": "stream",
     "text": [
      "Linked List Before Deleting Last Node:\n",
      "Node Value: 4\n",
      "Node Value: 3\n",
      "Node Value: 2\n",
      "Node Value: 1\n",
      "Deleting Node with Value: 1\n",
      "Linked List After Deleting Last Node:\n",
      "Node Value: 4\n",
      "Node Value: 3\n",
      "Node Value: 2\n"
     ]
    }
   ],
   "source": [
    "class Node:\n",
    "    def __init__(self, no):\n",
    "        self.no = no\n",
    "        self.link = None\n",
    "\n",
    "    @staticmethod\n",
    "    def create_node():\n",
    "        no = int(input(\"Enter Node Value: \"))\n",
    "        temp = Node(no)\n",
    "        return temp\n",
    "\n",
    "    @staticmethod\n",
    "    def insert_at_index(start, index):\n",
    "        new_node = Node.create_node()\n",
    "        if index == 0:\n",
    "            new_node.link = start\n",
    "            start = new_node\n",
    "        else:\n",
    "            current = start\n",
    "            position = 0\n",
    "            while current is not None and position < index - 1:\n",
    "                current = current.link\n",
    "                position += 1\n",
    "\n",
    "            if current is None:\n",
    "                print(\"Index out of bounds\")\n",
    "            else:\n",
    "                new_node.link = current.link\n",
    "                current.link = new_node\n",
    "        return start\n",
    "\n",
    "    @staticmethod\n",
    "    def delete_first_node(start):\n",
    "        if start is None:\n",
    "            print(\"The list is already empty.\")\n",
    "            return None\n",
    "        else:\n",
    "            print(f\"Deleting Node with Value: {start.no}\")\n",
    "            start = start.link \n",
    "        return start\n",
    "\n",
    "    @staticmethod\n",
    "    def delete_last_node(start):\n",
    "        if start is None:\n",
    "            print(\"The list is already empty.\")\n",
    "            return None\n",
    "        elif start.link is None:\n",
    "            print(f\"Deleting Node with Value: {start.no}\")\n",
    "            return None\n",
    "        else:\n",
    "            current = start\n",
    "            while current.link.link is not None:\n",
    "                current = current.link\n",
    "            print(f\"Deleting Node with Value: {current.link.no}\")\n",
    "            current.link = None \n",
    "        return start\n",
    "\n",
    "    @staticmethod\n",
    "    def display_node(start):\n",
    "        if start is None:\n",
    "            print(\"No nodes to display\")\n",
    "            return\n",
    "\n",
    "        current = start\n",
    "        while current is not None:\n",
    "            print(f\"Node Value: {current.no}\")\n",
    "            current = current.link\n",
    "\n",
    "\n",
    "if __name__ == \"__main__\":\n",
    "    start = Node.create_node()\n",
    "    start.link = Node.create_node()\n",
    "    start.link.link = Node.create_node()\n",
    "    start.link.link.link = Node.create_node()\n",
    "\n",
    "    print(\"Linked List Before Deleting Last Node:\")\n",
    "    Node.display_node(start)\n",
    "\n",
    "    start = Node.delete_last_node(start)\n",
    "\n",
    "    print(\"Linked List After Deleting Last Node:\")\n",
    "    Node.display_node(start)"
   ]
  },
  {
   "cell_type": "code",
   "execution_count": 1,
   "metadata": {},
   "outputs": [
    {
     "name": "stdout",
     "output_type": "stream",
     "text": [
      "-3\n"
     ]
    }
   ],
   "source": [
    "def trace_example():\n",
    "    result = 0\n",
    "    for i in range(1, 6):\n",
    "        if i%2 == 0:\n",
    "            result += i\n",
    "        else:\n",
    "            result -= i\n",
    "    return result\n",
    "\n",
    "print(trace_example())"
   ]
  },
  {
   "cell_type": "code",
   "execution_count": 1,
   "metadata": {},
   "outputs": [
    {
     "name": "stdout",
     "output_type": "stream",
     "text": [
      "24\n"
     ]
    }
   ],
   "source": [
    "def trace_example_2(n):\n",
    "    if n == 0:\n",
    "        return 1\n",
    "    else:\n",
    "        return n * trace_example_2(n-1)\n",
    "    \n",
    "print(trace_example_2(4))"
   ]
  },
  {
   "cell_type": "code",
   "execution_count": 1,
   "metadata": {},
   "outputs": [
    {
     "name": "stdout",
     "output_type": "stream",
     "text": [
      "Linked List Before Deleting Last Node:\n",
      "Node Value: 4\n",
      "Node Value: 2\n",
      "Node Value: 1\n",
      "Node Value: 7\n",
      "Number of nodes: 4\n",
      "Deleting Node with Value: 7\n",
      "Linked List After Deleting Last Node:\n",
      "Node Value: 4\n",
      "Node Value: 2\n",
      "Node Value: 1\n",
      "Number of nodes: 3\n"
     ]
    }
   ],
   "source": [
    "class Node:\n",
    "    def __init__(self, no):\n",
    "        self.no = no\n",
    "        self.link = None\n",
    "\n",
    "    @staticmethod\n",
    "    def create_node():\n",
    "        no = int(input(\"Enter Node Value: \"))\n",
    "        temp = Node(no)\n",
    "        return temp\n",
    "\n",
    "    @staticmethod\n",
    "    def insert_at_index(start, index):\n",
    "        new_node = Node.create_node()\n",
    "        if index == 0:\n",
    "            new_node.link = start\n",
    "            start = new_node\n",
    "        else:\n",
    "            current = start\n",
    "            position = 0\n",
    "            while current is not None and position < index - 1:\n",
    "                current = current.link\n",
    "                position += 1\n",
    "\n",
    "            if current is None:\n",
    "                print(\"Index out of bounds\")\n",
    "            else:\n",
    "                new_node.link = current.link\n",
    "                current.link = new_node\n",
    "        return start\n",
    "\n",
    "    @staticmethod\n",
    "    def delete_first_node(start):\n",
    "        if start is None:\n",
    "            print(\"The list is already empty.\")\n",
    "            return None\n",
    "        else:\n",
    "            print(f\"Deleting Node with Value: {start.no}\")\n",
    "            start = start.link \n",
    "        return start\n",
    "\n",
    "    @staticmethod\n",
    "    def delete_last_node(start):\n",
    "        if start is None:\n",
    "            print(\"The list is already empty.\")\n",
    "            return None\n",
    "        elif start.link is None:\n",
    "            print(f\"Deleting Node with Value: {start.no}\")\n",
    "            return None\n",
    "        else:\n",
    "            current = start\n",
    "            while current.link.link is not None:\n",
    "                current = current.link\n",
    "            print(f\"Deleting Node with Value: {current.link.no}\")\n",
    "            current.link = None \n",
    "        return start\n",
    "\n",
    "    @staticmethod\n",
    "    def count_nodes(start):\n",
    "        \"\"\"Static method to count the number of nodes in the linked list.\"\"\"\n",
    "        count = 0\n",
    "        current = start\n",
    "        while current is not None:\n",
    "            count += 1\n",
    "            current = current.link\n",
    "        return count\n",
    "\n",
    "    @staticmethod\n",
    "    def display_node(start):\n",
    "        if start is None:\n",
    "            print(\"No nodes to display\")\n",
    "            return\n",
    "\n",
    "        current = start\n",
    "        while current is not None:\n",
    "            print(f\"Node Value: {current.no}\")\n",
    "            current = current.link\n",
    "\n",
    "\n",
    "if __name__ == \"__main__\":\n",
    "    start = Node.create_node()\n",
    "    start.link = Node.create_node()\n",
    "    start.link.link = Node.create_node()\n",
    "    start.link.link.link = Node.create_node()\n",
    "\n",
    "    print(\"Linked List Before Deleting Last Node:\")\n",
    "    Node.display_node(start)\n",
    "\n",
    "    # Count the number of nodes before deletion\n",
    "    print(f\"Number of nodes: {Node.count_nodes(start)}\")\n",
    "\n",
    "    start = Node.delete_last_node(start)\n",
    "\n",
    "    print(\"Linked List After Deleting Last Node:\")\n",
    "    Node.display_node(start)\n",
    "\n",
    "    # Count the number of nodes after deletion\n",
    "    print(f\"Number of nodes: {Node.count_nodes(start)}\")"
   ]
  },
  {
   "cell_type": "markdown",
   "metadata": {},
   "source": [
    "- write a code to take input of values of node and count them. Then also show the reversed node(create your own functions)"
   ]
  },
  {
   "cell_type": "code",
   "execution_count": 1,
   "metadata": {},
   "outputs": [
    {
     "name": "stdout",
     "output_type": "stream",
     "text": [
      "Original Linked List:\n",
      "Node Value: 10\n",
      "Node Value: 20\n",
      "Node Value: 30\n",
      "Node Value: 40\n",
      "Node Value: 50\n",
      "Number of nodes: 5\n",
      "Reversed Linked List:\n",
      "Node Value: 50\n",
      "Node Value: 40\n",
      "Node Value: 30\n",
      "Node Value: 20\n",
      "Node Value: 10\n"
     ]
    }
   ],
   "source": [
    "class Node:\n",
    "    def __init__(self, no):\n",
    "        self.no = no\n",
    "        self.link = None\n",
    "\n",
    "    @staticmethod\n",
    "    def create_node():\n",
    "        no = int(input(\"Enter Node Value: \"))\n",
    "        return Node(no)\n",
    "\n",
    "    @staticmethod\n",
    "    def count_nodes(start):\n",
    "        count = 0\n",
    "        current = start\n",
    "        while current is not None:\n",
    "            count += 1\n",
    "            current = current.link\n",
    "        return count\n",
    "\n",
    "    @staticmethod\n",
    "    def reverse_list(start):\n",
    "        prev = None\n",
    "        current = start\n",
    "        while current is not None:\n",
    "            next_node = current.link  \n",
    "            current.link = prev       \n",
    "            prev = current            \n",
    "            current = next_node       \n",
    "        return prev  \n",
    "\n",
    "    @staticmethod\n",
    "    def display_node(start):\n",
    "        if start is None:\n",
    "            print(\"No nodes to display\")\n",
    "            return\n",
    "\n",
    "        current = start\n",
    "        while current is not None:\n",
    "            print(f\"Node Value: {current.no}\")\n",
    "            current = current.link\n",
    "\n",
    "\n",
    "if __name__ == \"__main__\":\n",
    "    start = None\n",
    "    n = int(input(\"Enter the number of nodes: \"))\n",
    "    for _ in range(n):\n",
    "        new_node = Node.create_node()\n",
    "        if start is None:\n",
    "            start = new_node\n",
    "        else:\n",
    "            current = start\n",
    "            while current.link is not None:\n",
    "                current = current.link\n",
    "            current.link = new_node\n",
    "\n",
    "    print(\"Original Linked List:\")\n",
    "    Node.display_node(start)\n",
    "\n",
    "    count = Node.count_nodes(start)\n",
    "    print(f\"Number of nodes: {count}\")\n",
    "\n",
    "    start = Node.reverse_list(start)\n",
    "\n",
    "    print(\"Reversed Linked List:\")\n",
    "    Node.display_node(start)"
   ]
  },
  {
   "cell_type": "markdown",
   "metadata": {},
   "source": [
    "-now create a function to diplay odd and and even in the display"
   ]
  },
  {
   "cell_type": "code",
   "execution_count": 3,
   "metadata": {},
   "outputs": [
    {
     "name": "stdout",
     "output_type": "stream",
     "text": [
      "Original Linked List:\n",
      "Node Value: 10\n",
      "Node Value: 20\n",
      "Node Value: 30\n",
      "Node Value: 41\n",
      "Node Value: 56\n",
      "Odd and Even Values in the Linked List:\n",
      "Odd Values: [41]\n",
      "Even Values: [10, 20, 30, 56]\n"
     ]
    }
   ],
   "source": [
    "class Node:\n",
    "    def __init__(self, no):\n",
    "        self.no = no\n",
    "        self.link = None\n",
    "\n",
    "    @staticmethod\n",
    "    def create_node():\n",
    "        no = int(input(\"Enter Node Value: \"))\n",
    "        return Node(no)\n",
    "\n",
    "    @staticmethod\n",
    "    def display_odd_and_even(start):\n",
    "        if start is None:\n",
    "            print(\"No nodes to display\")\n",
    "            return\n",
    "\n",
    "        odd_values = []\n",
    "        even_values = []\n",
    "\n",
    "        current = start\n",
    "        while current is not None:\n",
    "            if current.no % 2 == 0:\n",
    "                even_values.append(current.no)\n",
    "            else:\n",
    "                odd_values.append(current.no)\n",
    "            current = current.link\n",
    "\n",
    "        print(\"Odd Values:\", odd_values)\n",
    "        print(\"Even Values:\", even_values)\n",
    "\n",
    "    @staticmethod\n",
    "    def display_node(start):\n",
    "        if start is None:\n",
    "            print(\"No nodes to display\")\n",
    "            return\n",
    "\n",
    "        current = start\n",
    "        while current is not None:\n",
    "            print(f\"Node Value: {current.no}\")\n",
    "            current = current.link\n",
    "\n",
    "\n",
    "if __name__ == \"__main__\":\n",
    "    start = None\n",
    "    n = int(input(\"Enter the number of nodes: \"))\n",
    "    for _ in range(n):\n",
    "        new_node = Node.create_node()\n",
    "        if start is None:\n",
    "            start = new_node\n",
    "        else:\n",
    "            current = start\n",
    "            while current.link is not None:\n",
    "                current = current.link\n",
    "            current.link = new_node\n",
    "\n",
    "    print(\"Original Linked List:\")\n",
    "    Node.display_node(start)\n",
    "\n",
    "    print(\"Odd and Even Values in the Linked List:\")\n",
    "    Node.display_odd_and_even(start)"
   ]
  },
  {
   "cell_type": "markdown",
   "metadata": {},
   "source": [
    "- Finding the node number"
   ]
  },
  {
   "cell_type": "code",
   "execution_count": 4,
   "metadata": {},
   "outputs": [
    {
     "name": "stdout",
     "output_type": "stream",
     "text": [
      "Original Linked List:\n",
      "Node Value: 10\n",
      "Node Value: 20\n",
      "Node Value: 30\n",
      "Node Value: 40\n",
      "Node Value: 53\n",
      "Value 53 is found at node number: 4\n"
     ]
    }
   ],
   "source": [
    "class Node:\n",
    "    def __init__(self, no):\n",
    "        self.no = no\n",
    "        self.link = None\n",
    "\n",
    "    @staticmethod\n",
    "    def create_node():\n",
    "        \"\"\"Static method to create a new node with user input.\"\"\"\n",
    "        no = int(input(\"Enter Node Value: \"))\n",
    "        return Node(no)\n",
    "\n",
    "    @staticmethod\n",
    "    def find_node_number(start, value):\n",
    "        \"\"\"Static method to find the node number of a specific value.\"\"\"\n",
    "        if start is None:\n",
    "            print(\"The list is empty.\")\n",
    "            return -1\n",
    "\n",
    "        current = start\n",
    "        position = 0\n",
    "        while current is not None:\n",
    "            if current.no == value:\n",
    "                return position  # Return the position if the value is found\n",
    "            current = current.link\n",
    "            position += 1\n",
    "\n",
    "        print(f\"Value {value} not found in the list.\")\n",
    "        return -1  # Return -1 if the value is not found\n",
    "\n",
    "    @staticmethod\n",
    "    def display_node(start):\n",
    "        \"\"\"Static method to display all nodes in the linked list.\"\"\"\n",
    "        if start is None:\n",
    "            print(\"No nodes to display\")\n",
    "            return\n",
    "\n",
    "        current = start\n",
    "        while current is not None:\n",
    "            print(f\"Node Value: {current.no}\")\n",
    "            current = current.link\n",
    "\n",
    "\n",
    "if __name__ == \"__main__\":\n",
    "    # Create the linked list by taking input from the user\n",
    "    start = None\n",
    "    n = int(input(\"Enter the number of nodes: \"))\n",
    "    for _ in range(n):\n",
    "        new_node = Node.create_node()\n",
    "        if start is None:\n",
    "            start = new_node\n",
    "        else:\n",
    "            current = start\n",
    "            while current.link is not None:\n",
    "                current = current.link\n",
    "            current.link = new_node\n",
    "\n",
    "    # Display the original linked list\n",
    "    print(\"Original Linked List:\")\n",
    "    Node.display_node(start)\n",
    "\n",
    "    # Find the node number of a specific value\n",
    "    value = int(input(\"Enter the value to find its node number: \"))\n",
    "    position = Node.find_node_number(start, value)\n",
    "    if position != -1:\n",
    "        print(f\"Value {value} is found at node number: {position}\")"
   ]
  },
  {
   "cell_type": "markdown",
   "metadata": {},
   "source": [
    "- Take a string as input as a sentence. Reverse the even word of that string and replace the original content then print the whole string using python\n",
    "\n",
    "- Example input: Enter a sentence: i  "
   ]
  },
  {
   "cell_type": "code",
   "execution_count": 7,
   "metadata": {},
   "outputs": [
    {
     "name": "stdout",
     "output_type": "stream",
     "text": [
      "['hi', 'this', 'is', 'not', 'a', 'tejas']\n",
      "hi siht is ton a sajet "
     ]
    }
   ],
   "source": [
    "s = \"hi this is not a tejas\"\n",
    "l = list(map(str, s.split(' ')))\n",
    "print(l)\n",
    "for i in range(len(l)):\n",
    "    if i % 2 != 0:\n",
    "        print(l[i][::-1], end=' ')\n",
    "    else:\n",
    "        print(l[i], end=' ')"
   ]
  },
  {
   "cell_type": "markdown",
   "metadata": {},
   "source": [
    "## what is comprehension\n",
    "- List comprehension in Python is a concise and elegant way to create lists. It allows you to generate a new list by applying an expression to each item in an iterable (like a list, range, or string) and optionally filtering items with a condition."
   ]
  },
  {
   "cell_type": "markdown",
   "metadata": {},
   "source": [
    "- Amit has given a number. He decides to form another number from that number. He has decided to add the factorial (Unnati ma'am/lab) of all the digits of that number and then also add 15 to it\n",
    "\n",
    "- example input: 145=1!+4!+5!+15=1+24+120+15\n",
    "- output : 160"
   ]
  },
  {
   "cell_type": "code",
   "execution_count": 11,
   "metadata": {},
   "outputs": [
    {
     "name": "stdout",
     "output_type": "stream",
     "text": [
      "The result is: 5080\n"
     ]
    }
   ],
   "source": [
    "import math\n",
    "\n",
    "def calculate_factorial_sum_with_offset(number):\n",
    "    # Convert the number to a string to iterate over its digits\n",
    "    digits = str(number)\n",
    "    factorial_sum = 0\n",
    "\n",
    "    # Calculate the factorial of each digit and add to the sum\n",
    "    for digit in digits:\n",
    "        factorial_sum += math.factorial(int(digit))\n",
    "\n",
    "    # Add 15 to the sum\n",
    "    result = factorial_sum + 15\n",
    "    return result\n",
    "\n",
    "# Input from the user\n",
    "number = int(input(\"Enter a number: \"))\n",
    "result = calculate_factorial_sum_with_offset(number)\n",
    "\n",
    "# Output the result\n",
    "print(f\"The result is: {result}\")"
   ]
  },
  {
   "cell_type": "markdown",
   "metadata": {},
   "source": [
    "# Give an integer n and perform the following condiational actions:\n",
    "\n",
    "- if n is odd, print weird\n",
    "- if n is even and in the inclusive range of 2 to 5, print  not weird\n",
    "- if n is even and in the inlcusive range og 6 to 20, print weird\n",
    "- if n is even and greater than 20, print not weird"
   ]
  },
  {
   "cell_type": "code",
   "execution_count": 12,
   "metadata": {},
   "outputs": [
    {
     "name": "stdout",
     "output_type": "stream",
     "text": [
      "Not Weird\n"
     ]
    }
   ],
   "source": [
    "def check_weirdness(n):\n",
    "    if n % 2 != 0:\n",
    "        print(\"Weird\")\n",
    "    elif n % 2 == 0 and 2 <= n <= 5:\n",
    "        print(\"Not Weird\")\n",
    "    elif n % 2 == 0 and 6 <= n <= 20:\n",
    "        print(\"Weird\")\n",
    "    elif n % 2 == 0 and n > 20:\n",
    "        print(\"Not Weird\")\n",
    "\n",
    "n = int(input(\"Enter an integer: \"))\n",
    "check_weirdness(n)"
   ]
  },
  {
   "cell_type": "markdown",
   "metadata": {},
   "source": [
    "# Sort\n",
    "- Sorting is the process of arranging elements in a specific order, typically in ascending or descending order. Sorting is commonly applied to lists, arrays, or other collections of data to make it easier to search, analyze, or process the data."
   ]
  },
  {
   "cell_type": "markdown",
   "metadata": {},
   "source": [
    "# Sort\n",
    "- Binary Search\n",
    "- Linear search"
   ]
  },
  {
   "cell_type": "markdown",
   "metadata": {},
   "source": [
    "# Linear search\n",
    "- Linear search is a simple searching algorithm used to find the position of a target value in a list or array. It works by sequentially checking each element of the list until the target value is found or the end of the list is reached."
   ]
  },
  {
   "cell_type": "markdown",
   "metadata": {},
   "source": [
    "# Binary search\n",
    "- Binary search is an efficient searching algorithm used to find the position of a target value in a sorted list or array. It works by repeatedly dividing the search interval in half and comparing the middle element with the target value."
   ]
  },
  {
   "cell_type": "code",
   "execution_count": 1,
   "metadata": {},
   "outputs": [
    {
     "name": "stdout",
     "output_type": "stream",
     "text": [
      "List: [1, 4, 6]\n",
      "Value 6 found at index: 2\n"
     ]
    }
   ],
   "source": [
    "# Linear search implementation\n",
    "def linear_search(arr, value):\n",
    "    for index in range(len(arr)):\n",
    "        if arr[index] == value:\n",
    "            return index  # Return the index if the value is found\n",
    "    return -1  # Return -1 if the value is not found\n",
    "\n",
    "\n",
    "if __name__ == \"__main__\":\n",
    "    # Input: Create a list of numbers\n",
    "    n = int(input(\"Enter the number of elements in the list: \"))\n",
    "    arr = []\n",
    "    for _ in range(n):\n",
    "        num = int(input(\"Enter a number: \"))\n",
    "        arr.append(num)\n",
    "\n",
    "    # Display the list\n",
    "    print(\"List:\", arr)\n",
    "\n",
    "    # Perform linear search\n",
    "    value = int(input(\"Enter the value to search for: \"))\n",
    "    index = linear_search(arr, value)\n",
    "    if index != -1:\n",
    "        print(f\"Value {value} found at index: {index}\")\n",
    "    else:\n",
    "        print(f\"Value {value} not found in the list.\")"
   ]
  },
  {
   "cell_type": "code",
   "execution_count": 3,
   "metadata": {},
   "outputs": [
    {
     "name": "stdout",
     "output_type": "stream",
     "text": [
      "Enter the sorted list of numbers (space-separated):\n",
      "Value 2 not found in the list.\n"
     ]
    }
   ],
   "source": [
    "def binary_search(arr, value):\n",
    "    low = 0\n",
    "    high = len(arr) - 1\n",
    "\n",
    "    while low <= high:\n",
    "        mid = (low + high) // 2  \n",
    "\n",
    "        if arr[mid] == value:\n",
    "            return mid  \n",
    "        elif arr[mid] < value:\n",
    "            low = mid + 1  \n",
    "        else:\n",
    "            high = mid - 1 \n",
    "\n",
    "    return -1  \n",
    "\n",
    "\n",
    "if __name__ == \"__main__\":\n",
    "    # Input: Create a sorted list of numbers\n",
    "    print(\"Enter the sorted list of numbers (space-separated):\")\n",
    "    arr = list(map(int, input().split()))\n",
    "\n",
    "    # Perform binary search\n",
    "    value = int(input(\"Enter the value to search for: \"))\n",
    "    index = binary_search(arr, value)\n",
    "\n",
    "    # Output the result\n",
    "    if index != -1:\n",
    "        print(f\"Value {value} found at index: {index}\")\n",
    "    else:\n",
    "        print(f\"Value {value} not found in the list.\")"
   ]
  },
  {
   "cell_type": "code",
   "execution_count": 1,
   "metadata": {},
   "outputs": [
    {
     "name": "stdout",
     "output_type": "stream",
     "text": [
      "\n",
      "Choose an operation:\n",
      "1. Push\n",
      "2. Pop\n",
      "3. Display Stack\n",
      "4. Exit\n",
      "Pushed: 89\n",
      "\n",
      "Choose an operation:\n",
      "1. Push\n",
      "2. Pop\n",
      "3. Display Stack\n",
      "4. Exit\n",
      "Pushed: 19\n",
      "\n",
      "Choose an operation:\n",
      "1. Push\n",
      "2. Pop\n",
      "3. Display Stack\n",
      "4. Exit\n",
      "Stack (top to bottom): 19 -> 89\n",
      "\n",
      "Choose an operation:\n",
      "1. Push\n",
      "2. Pop\n",
      "3. Display Stack\n",
      "4. Exit\n",
      "Stack (top to bottom): 19 -> 89\n",
      "\n",
      "Choose an operation:\n",
      "1. Push\n",
      "2. Pop\n",
      "3. Display Stack\n",
      "4. Exit\n",
      "Popped: 19\n",
      "\n",
      "Choose an operation:\n",
      "1. Push\n",
      "2. Pop\n",
      "3. Display Stack\n",
      "4. Exit\n",
      "Invalid choice. Please try again.\n",
      "\n",
      "Choose an operation:\n",
      "1. Push\n",
      "2. Pop\n",
      "3. Display Stack\n",
      "4. Exit\n",
      "Stack (top to bottom): 89\n",
      "\n",
      "Choose an operation:\n",
      "1. Push\n",
      "2. Pop\n",
      "3. Display Stack\n",
      "4. Exit\n",
      "Exiting...\n"
     ]
    }
   ],
   "source": [
    "class Stack:\n",
    "    def __init__(self):\n",
    "        self.stack = []  \n",
    "        \n",
    "    def push(self, data):\n",
    "        self.stack.append(data)  \n",
    "        print(f\"Pushed: {data}\")\n",
    "\n",
    "    def pop(self):\n",
    "        if not self.stack:\n",
    "            print(\"Stack is empty. Nothing to pop.\")\n",
    "            return None\n",
    "        popped_data = self.stack.pop()  \n",
    "        print(f\"Popped: {popped_data}\")\n",
    "        return popped_data\n",
    "\n",
    "    def display(self):\n",
    "        if not self.stack:\n",
    "            print(\"Stack is empty.\")\n",
    "            return\n",
    "        print(\"Stack (top to bottom):\", \" -> \".join(map(str, reversed(self.stack))))\n",
    "\n",
    "\n",
    "if __name__ == \"__main__\":\n",
    "    stack = Stack()\n",
    "\n",
    "    while True:\n",
    "        print(\"\\nChoose an operation:\")\n",
    "        print(\"1. Push\")\n",
    "        print(\"2. Pop\")\n",
    "        print(\"3. Display Stack\")\n",
    "        print(\"4. Exit\")\n",
    "        choice = int(input(\"Enter your choice: \"))\n",
    "\n",
    "        if choice == 1:\n",
    "            value = int(input(\"Enter the value to push: \"))\n",
    "            stack.push(value)\n",
    "        elif choice == 2:\n",
    "            stack.pop()\n",
    "        elif choice == 3:\n",
    "            stack.display()\n",
    "        elif choice == 4:\n",
    "            print(\"Exiting...\")\n",
    "            break\n",
    "        else:\n",
    "            print(\"Invalid choice. Please try again.\")"
   ]
  },
  {
   "cell_type": "code",
   "execution_count": null,
   "metadata": {},
   "outputs": [
    {
     "name": "stdout",
     "output_type": "stream",
     "text": [
      "Alice joined the queue\n",
      "BOB joined the queue\n",
      "2 customer(s) in the queue\n",
      "Serving Alice.\n",
      "Serving BOB.\n",
      "No. of customers in the queue\n"
     ]
    }
   ],
   "source": [
    "class BankQueue:\n",
    "    def __init__(self):\n",
    "        self.queue = []  # Initialize an empty queue\n",
    "\n",
    "    def join_queue(self, customer_name):\n",
    "        \"\"\"Add a customer to the queue.\"\"\"\n",
    "        self.queue.append(customer_name)  # Add to the end of the queue\n",
    "        print(f\"{customer_name} joined the queue.\")\n",
    "\n",
    "    def serve_customer(self):\n",
    "        \"\"\"Serve the customer at the front of the queue (FIFO).\"\"\"\n",
    "        if not self.queue:\n",
    "            print(\"No customers in the queue to serve.\")\n",
    "        else:\n",
    "            customer = self.queue.pop(0)  # Remove the first customer\n",
    "            print(f\"Serving {customer}.\")\n",
    "\n",
    "    def queue_status(self):\n",
    "        \"\"\"Display the current status of the queue.\"\"\"\n",
    "        if not self.queue:\n",
    "            print(\"The queue is empty.\")\n",
    "        else:\n",
    "            print(f\"{len(self.queue)} customer(s) in the queue: {', '.join(self.queue)}\")\n",
    "\n",
    "\n",
    "if __name__ == \"__main__\":\n",
    "    bank = BankQueue()\n",
    "\n",
    "    while True:\n",
    "        print(\"\\nChoose an operation:\")\n",
    "        print(\"1. Join Queue\")\n",
    "        print(\"2. Serve Customer\")\n",
    "        print(\"3. Queue Status\")\n",
    "        print(\"4. Exit\")\n",
    "        choice = int(input(\"Enter your choice: \"))\n",
    "\n",
    "        if choice == 1:\n",
    "            # Join queue\n",
    "            customer_name = input(\"Enter the customer's name: \")\n",
    "            bank.join_queue(customer_name)\n",
    "        elif choice == 2:\n",
    "            # Serve customer\n",
    "            bank.serve_customer()\n",
    "        elif choice == 3:\n",
    "            # Display queue status\n",
    "            bank.queue_status()\n",
    "        elif choice == 4:\n",
    "            # Exit the program\n",
    "            print(\"Exiting...\")\n",
    "            break\n",
    "        else:\n",
    "            print(\"Invalid choice. Please try again.\")"
   ]
  },
  {
   "cell_type": "markdown",
   "metadata": {},
   "source": [
    "# Bubble Sort\n",
    "- Bubble Sort is a simple sorting algorithm that repeatedly steps through the list, compares adjacent elements, and swaps them if they are in the wrong order. This process is repeated until the list is sorted.\n",
    "\n",
    "- The algorithm gets its name because smaller elements \"bubble\" to the top (beginning of the list) and larger elements \"sink\" to the bottom (end of the list) during each pass.\n",
    "\n",
    "\n",
    "- Time Complexity:\n",
    "\n",
    "Best Case: O(n) (when the list is already sorted).\n",
    "Worst Case: O(n^2) (when the list is sorted in reverse order).\n",
    "Average Case: O(n^2).\n",
    "Space Complexity: O(1) (in-place sorting, no extra space required)."
   ]
  },
  {
   "cell_type": "code",
   "execution_count": 1,
   "metadata": {},
   "outputs": [
    {
     "name": "stdout",
     "output_type": "stream",
     "text": [
      "Original List: [32, 43, 2]\n",
      "Sorted List: [2, 32, 43]\n"
     ]
    }
   ],
   "source": [
    "def bubble_sort(arr):\n",
    "    n = len(arr)\n",
    "    for i in range(n):\n",
    "        swapped = False\n",
    "        for j in range(0, n - i - 1):\n",
    "            if arr[j] > arr[j + 1]:\n",
    "                arr[j], arr[j + 1] = arr[j + 1], arr[j]\n",
    "                swapped = True\n",
    "        if not swapped:\n",
    "            break\n",
    "\n",
    "if __name__ == \"__main__\":\n",
    "    n = int(input(\"Enter the number of elements in the list: \"))\n",
    "    arr = []\n",
    "    for _ in range(n):\n",
    "        num = int(input(\"Enter a number: \"))\n",
    "        arr.append(num)\n",
    "\n",
    "    print(\"Original List:\", arr)\n",
    "    bubble_sort(arr)\n",
    "    print(\"Sorted List:\", arr)"
   ]
  },
  {
   "cell_type": "code",
   "execution_count": 2,
   "metadata": {},
   "outputs": [
    {
     "name": "stdout",
     "output_type": "stream",
     "text": [
      "[1, 2, 5, 5, 6, 9]\n"
     ]
    }
   ],
   "source": [
    "def bsort(l):\n",
    "    n=len(l)\n",
    "    \n",
    "    for i in range(n-1):\n",
    "        for j in range(n-i-1):\n",
    "            if l[j]>l[j+1]:\n",
    "                l[j],l[j+1]=l[j+1],l[j]\n",
    "\n",
    "l = [5, 2, 9, 1, 5, 6]\n",
    "bsort(l)\n",
    "print(l)"
   ]
  },
  {
   "cell_type": "code",
   "execution_count": null,
   "metadata": {},
   "outputs": [
    {
     "name": "stdout",
     "output_type": "stream",
     "text": [
      "Original List: [5, 2, 9, 1, 5, 6]\n",
      "Sorted List: [1, 2, 5, 5, 6, 9]\n"
     ]
    }
   ],
   "source": [
    "def bsort_recursive(l, n=None):\n",
    "    if n is None:\n",
    "        n = len(l)\n",
    "    if n == 1:\n",
    "        return\n",
    "    for i in range(n - 1):\n",
    "        if l[i] > l[i + 1]:\n",
    "            l[i], l[i + 1] = l[i + 1], l[i]\n",
    "    bsort_recursive(l, n - 1)\n",
    "l = [5, 2, 9, 1, 5, 6]\n",
    "print(\"Original List:\", l)\n",
    "bsort_recursive(l)\n",
    "print(\"Sorted List:\", l)"
   ]
  },
  {
   "cell_type": "markdown",
   "metadata": {},
   "source": [
    "# Insert sort\n",
    "- Insertion Sort is a simple and intuitive sorting algorithm that works similarly to how we sort playing cards in our hands. It builds the sorted list one element at a time by repeatedly picking the next element and inserting it into its correct position in the already sorted portion of the list."
   ]
  },
  {
   "cell_type": "code",
   "execution_count": 6,
   "metadata": {},
   "outputs": [
    {
     "name": "stdout",
     "output_type": "stream",
     "text": [
      "[2, 5, 6, 7, 8]\n"
     ]
    }
   ],
   "source": [
    "def insort(l):\n",
    "    n=len(l)\n",
    "    for i in range(1,n):\n",
    "        key=l[i]\n",
    "        j=i-1\n",
    "        while j>=0 and key<l[j]:\n",
    "            l[j+1]=l[j]\n",
    "            j-=1\n",
    "        l[j+1]=key\n",
    "\n",
    "l = [8, 2, 7, 5, 6]\n",
    "insort(l)\n",
    "print(l)"
   ]
  },
  {
   "cell_type": "code",
   "execution_count": 7,
   "metadata": {},
   "outputs": [
    {
     "name": "stdout",
     "output_type": "stream",
     "text": [
      "Original List: [8, 2, 7, 5, 6]\n",
      "Sorted List: [2, 5, 6, 7, 8]\n"
     ]
    }
   ],
   "source": [
    "def insort_recursive(l, n=None):\n",
    "    if n is None:\n",
    "        n = len(l)  \n",
    "    if n <= 1:\n",
    "        return\n",
    "\n",
    "    insort_recursive(l, n - 1)\n",
    "\n",
    "    key = l[n - 1]\n",
    "    j = n - 2\n",
    "    while j >= 0 and key < l[j]:\n",
    "        l[j + 1] = l[j]\n",
    "        j -= 1\n",
    "    l[j + 1] = key\n",
    "l = [8, 2, 7, 5, 6]\n",
    "print(\"Original List:\", l)\n",
    "insort_recursive(l)\n",
    "print(\"Sorted List:\", l)"
   ]
  },
  {
   "cell_type": "code",
   "execution_count": 8,
   "metadata": {},
   "outputs": [
    {
     "name": "stdout",
     "output_type": "stream",
     "text": [
      "1\n",
      "2\n",
      "3\n",
      "4\n",
      "5\n",
      "6\n",
      "7\n",
      "8\n",
      "9\n"
     ]
    }
   ],
   "source": [
    "for i in range(1, 10):\n",
    "        print(i)"
   ]
  },
  {
   "cell_type": "markdown",
   "metadata": {},
   "source": [
    "# Selection sort\n",
    "- Selection Sort is a simple sorting algorithm that divides the list into two parts: the sorted part and the unsorted part. It repeatedly selects the smallest (or largest, depending on the sorting order) element from the unsorted part and swaps it with the first element of the unsorted part, effectively growing the sorted part by one element with each iteration."
   ]
  },
  {
   "cell_type": "code",
   "execution_count": 9,
   "metadata": {},
   "outputs": [
    {
     "name": "stdout",
     "output_type": "stream",
     "text": [
      "Original List: [22, 11, 35, 64, 11]\n",
      "Sorted List: [11, 11, 22, 35, 64]\n"
     ]
    }
   ],
   "source": [
    "def selection_sort(arr):\n",
    "    n = len(arr)\n",
    "    for i in range(n):\n",
    "        min_index = i\n",
    "        for j in range(i + 1, n):\n",
    "            if arr[j] < arr[min_index]:\n",
    "                min_index = j\n",
    "        arr[i], arr[min_index] = arr[min_index], arr[i]\n",
    "        \n",
    "if __name__ == \"__main__\":\n",
    "    arr = [22, 11, 35, 64, 11]\n",
    "    print(\"Original List:\", arr)\n",
    "    selection_sort(arr)\n",
    "    print(\"Sorted List:\", arr)"
   ]
  },
  {
   "cell_type": "markdown",
   "metadata": {},
   "source": [
    "# Merge Sort\n",
    "- Merge Sort is a divide-and-conquer sorting algorithm that divides the input list into smaller sublists, sorts them, and then merges them back together to produce a sorted list. It is one of the most efficient sorting algorithms for large datasets."
   ]
  },
  {
   "cell_type": "code",
   "execution_count": 10,
   "metadata": {},
   "outputs": [
    {
     "name": "stdout",
     "output_type": "stream",
     "text": [
      "Original List: [3, 2, 5, 0, 1, 8, 7, 6, 9, 4]\n",
      "Sorted List: [0, 1, 2, 3, 4, 5, 6, 7, 8, 9]\n"
     ]
    }
   ],
   "source": [
    "def merge_sort(arr):\n",
    "    if len(arr) <= 1:\n",
    "        return arr  \n",
    "    \n",
    "    mid = len(arr) // 2\n",
    "    left = merge_sort(arr[:mid])\n",
    "    right = merge_sort(arr[mid:])\n",
    "\n",
    "    return merge(left, right)\n",
    "\n",
    "def merge(left, right):\n",
    "    result = []\n",
    "    i = j = 0\n",
    "\n",
    "    while i < len(left) and j < len(right):\n",
    "        if left[i] < right[j]:\n",
    "            result.append(left[i])\n",
    "            i += 1\n",
    "        else:\n",
    "            result.append(right[j])\n",
    "            j += 1\n",
    "\n",
    "    result.extend(left[i:])\n",
    "    result.extend(right[j:])\n",
    "    return result\n",
    "\n",
    "if __name__ == \"__main__\":\n",
    "    arr = [3, 2, 5, 0, 1, 8, 7, 6, 9, 4]\n",
    "    print(\"Original List:\", arr)\n",
    "    sorted_arr = merge_sort(arr)\n",
    "    print(\"Sorted List:\", sorted_arr)"
   ]
  }
 ],
 "metadata": {
  "kernelspec": {
   "display_name": "Python 3",
   "language": "python",
   "name": "python3"
  },
  "language_info": {
   "codemirror_mode": {
    "name": "ipython",
    "version": 3
   },
   "file_extension": ".py",
   "mimetype": "text/x-python",
   "name": "python",
   "nbconvert_exporter": "python",
   "pygments_lexer": "ipython3",
   "version": "3.13.2"
  }
 },
 "nbformat": 4,
 "nbformat_minor": 2
}
