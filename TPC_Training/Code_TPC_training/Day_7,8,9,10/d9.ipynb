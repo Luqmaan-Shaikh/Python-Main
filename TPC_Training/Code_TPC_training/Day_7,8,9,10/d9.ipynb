{
 "cells": [
  {
   "cell_type": "code",
   "execution_count": null,
   "id": "37a0a169",
   "metadata": {},
   "outputs": [
    {
     "name": "stdout",
     "output_type": "stream",
     "text": [
      "Inorder :\n",
      "20 43 50 67 79 89 100 109 120 123 125 130 132 \n",
      "Preorder:\n",
      "100 50 43 20 89 67 79 120 109 125 123 130 132 "
     ]
    }
   ],
   "source": [
    "\n",
    "class Node:\n",
    "    def __init__(self, data):\n",
    "        self.root = None\n",
    "        self.data = data\n",
    "        self.left = None\n",
    "        self.right = None\n",
    "\n",
    "class BST:\n",
    "    def __init__(self):\n",
    "        self.root = None\n",
    "\n",
    "    def insert(self, data):\n",
    "        if not self.root:\n",
    "            self.root = Node(data)\n",
    "        else:\n",
    "            self._insert(self.root, data)\n",
    "\n",
    "    def _insert(self, node, data):\n",
    "        if data < node.data:\n",
    "            if node.left is None:\n",
    "                node.left = Node(data)\n",
    "            else:\n",
    "                self._insert(node.left, data)\n",
    "        elif data > node.data:\n",
    "            if node.right is None:\n",
    "                node.right = Node(data)\n",
    "            else:\n",
    "                self._insert(node.right, data)\n",
    "\n",
    "    def preorder(self, root) :\n",
    "        if root is None :\n",
    "            return \n",
    "        mystack = []\n",
    "        mystack.append(root)\n",
    "        while mystack :\n",
    "            curr = mystack.pop()\n",
    "            print(curr.data, end = ' ')\n",
    "            if curr.right :\n",
    "                mystack.append(curr.right)\n",
    "\n",
    "            if curr.left :\n",
    "                mystack.append(curr.left)\n",
    "\n",
    "    def inorder(self, root) :\n",
    "        if root is None :\n",
    "            return\n",
    "        mystack = []\n",
    "        curr = root\n",
    "        while True :\n",
    "            if curr :\n",
    "                mystack.append(curr)\n",
    "                curr = curr.left\n",
    "            elif mystack :\n",
    "                curr = mystack.pop()\n",
    "                print(curr.data, end = \" \")\n",
    "                curr = curr.right\n",
    "            else :\n",
    "                break \n",
    "\n",
    "    # def postorder(self, root):\n",
    "    #     s1 = []\n",
    "    #     s2 = []\n",
    "\n",
    "        \n",
    "     \n",
    "    \n",
    "bst = BST()\n",
    "values = [100, 50, 120, 89, 67, 43, 20, 79, 125, 130, 132, 123, 109]\n",
    "for v in values:\n",
    "    bst.insert(v)\n",
    "\n",
    "\n",
    "print(\"Inorder :\")\n",
    "bst.inorder(bst.root)\n",
    "print(\"\\nPreorder:\")\n",
    "bst.preorder(bst.root)\n",
    "# print(\"\\nPostorder:\")\n",
    "# bst.postorder(bst.root)\n"
   ]
  },
  {
   "cell_type": "markdown",
   "id": "471ee01c",
   "metadata": {},
   "source": [
    "## Recursion\n",
    "\n",
    "Function calling itself is called as recursion\n",
    "\n",
    "- Top Down Approach\n",
    "- Bottom Up Approach\n",
    "\n",
    "Where to stop = Base condition"
   ]
  },
  {
   "cell_type": "code",
   "execution_count": null,
   "id": "b913a0a6",
   "metadata": {},
   "outputs": [
    {
     "name": "stdout",
     "output_type": "stream",
     "text": [
      "0\n"
     ]
    },
    {
     "ename": "TypeError",
     "evalue": "unsupported operand type(s) for +: 'int' and 'NoneType'",
     "output_type": "error",
     "traceback": [
      "\u001b[1;31m---------------------------------------------------------------------------\u001b[0m",
      "\u001b[1;31mTypeError\u001b[0m                                 Traceback (most recent call last)",
      "Cell \u001b[1;32mIn[29], line 10\u001b[0m\n\u001b[0;32m      7\u001b[0m     \u001b[38;5;28mprint\u001b[39m(\u001b[38;5;241m0\u001b[39m\u001b[38;5;241m+\u001b[39mprint_N_to_1(n\u001b[38;5;241m-\u001b[39m\u001b[38;5;241m1\u001b[39m))\n\u001b[0;32m      9\u001b[0m \u001b[38;5;66;03m# n = int(input())\u001b[39;00m\n\u001b[1;32m---> 10\u001b[0m print_N_to_1(\u001b[38;5;241m5\u001b[39m)\n",
      "Cell \u001b[1;32mIn[29], line 7\u001b[0m, in \u001b[0;36mprint_N_to_1\u001b[1;34m(n)\u001b[0m\n\u001b[0;32m      5\u001b[0m     \u001b[38;5;28;01mreturn\u001b[39;00m \u001b[38;5;241m0\u001b[39m\n\u001b[0;32m      6\u001b[0m \u001b[38;5;66;03m# print(n)\u001b[39;00m\n\u001b[1;32m----> 7\u001b[0m \u001b[38;5;28mprint\u001b[39m(\u001b[38;5;241m0\u001b[39m\u001b[38;5;241m+\u001b[39mprint_N_to_1(n\u001b[38;5;241m-\u001b[39m\u001b[38;5;241m1\u001b[39m))\n",
      "Cell \u001b[1;32mIn[29], line 7\u001b[0m, in \u001b[0;36mprint_N_to_1\u001b[1;34m(n)\u001b[0m\n\u001b[0;32m      5\u001b[0m     \u001b[38;5;28;01mreturn\u001b[39;00m \u001b[38;5;241m0\u001b[39m\n\u001b[0;32m      6\u001b[0m \u001b[38;5;66;03m# print(n)\u001b[39;00m\n\u001b[1;32m----> 7\u001b[0m \u001b[38;5;28mprint\u001b[39m(\u001b[38;5;241m0\u001b[39m\u001b[38;5;241m+\u001b[39mprint_N_to_1(n\u001b[38;5;241m-\u001b[39m\u001b[38;5;241m1\u001b[39m))\n",
      "    \u001b[1;31m[... skipping similar frames: print_N_to_1 at line 7 (1 times)]\u001b[0m\n",
      "Cell \u001b[1;32mIn[29], line 7\u001b[0m, in \u001b[0;36mprint_N_to_1\u001b[1;34m(n)\u001b[0m\n\u001b[0;32m      5\u001b[0m     \u001b[38;5;28;01mreturn\u001b[39;00m \u001b[38;5;241m0\u001b[39m\n\u001b[0;32m      6\u001b[0m \u001b[38;5;66;03m# print(n)\u001b[39;00m\n\u001b[1;32m----> 7\u001b[0m \u001b[38;5;28mprint\u001b[39m(\u001b[38;5;241m0\u001b[39m\u001b[38;5;241m+\u001b[39mprint_N_to_1(n\u001b[38;5;241m-\u001b[39m\u001b[38;5;241m1\u001b[39m))\n",
      "\u001b[1;31mTypeError\u001b[0m: unsupported operand type(s) for +: 'int' and 'NoneType'"
     ]
    }
   ],
   "source": [
    "# print n to 1 (TOP-DOWN)\n",
    "\n",
    "def print_N_to_1(n) :\n",
    "    if n == 0 :\n",
    "        return\n",
    "    print(n)\n",
    "    print_N_to_1(n-1)\n",
    "\n",
    "# n = int(input())\n",
    "print_N_to_1(5)"
   ]
  },
  {
   "cell_type": "code",
   "execution_count": null,
   "id": "540ef3ef",
   "metadata": {},
   "outputs": [
    {
     "name": "stdout",
     "output_type": "stream",
     "text": [
      "1\n",
      "2\n",
      "3\n",
      "4\n",
      "5\n"
     ]
    }
   ],
   "source": [
    "# print 1 to n (Bottom-UP)\n",
    "\n",
    "def print_1_to_N(n) :\n",
    "    if n == 0 :\n",
    "        return\n",
    "    print_1_to_N(n-1)\n",
    "    print(n)\n",
    "    \n",
    "# n = int(input())\n",
    "print_1_to_N(5)"
   ]
  },
  {
   "cell_type": "code",
   "execution_count": 33,
   "id": "2ab64539",
   "metadata": {},
   "outputs": [
    {
     "data": {
      "text/plain": [
       "55"
      ]
     },
     "execution_count": 33,
     "metadata": {},
     "output_type": "execute_result"
    }
   ],
   "source": [
    "# Sum of all digits till n\n",
    "\n",
    "def sum_till_N(n) :\n",
    "    if n==0 :\n",
    "        return 0\n",
    "    return n + sum_till_N(n-1)\n",
    "    print(n)\n",
    "\n",
    "sum_till_N(10)"
   ]
  },
  {
   "cell_type": "code",
   "execution_count": 41,
   "id": "7f6e9fba",
   "metadata": {},
   "outputs": [
    {
     "data": {
      "text/plain": [
       "120"
      ]
     },
     "execution_count": 41,
     "metadata": {},
     "output_type": "execute_result"
    }
   ],
   "source": [
    "# Prod of all digits till n\n",
    "\n",
    "def prod_till_N(n) :\n",
    "    if n==0 :\n",
    "        return 1\n",
    "    return n * prod_till_N(n-1)\n",
    "    print(n)\n",
    "\n",
    "prod_till_N(5)"
   ]
  },
  {
   "cell_type": "markdown",
   "id": "314afc92",
   "metadata": {},
   "source": [
    "## Factorial"
   ]
  },
  {
   "cell_type": "code",
   "execution_count": 50,
   "id": "34cc5a43",
   "metadata": {},
   "outputs": [
    {
     "name": "stdout",
     "output_type": "stream",
     "text": [
      "120\n"
     ]
    }
   ],
   "source": [
    "def factorial(n) :\n",
    "    if n == 1 :\n",
    "        return 1\n",
    "    return n * factorial(n-1)\n",
    "\n",
    "print(factorial(5))"
   ]
  },
  {
   "cell_type": "markdown",
   "id": "470ef13b",
   "metadata": {},
   "source": [
    "## Power using Recursion"
   ]
  },
  {
   "cell_type": "code",
   "execution_count": 54,
   "id": "446b95ba",
   "metadata": {},
   "outputs": [
    {
     "data": {
      "text/plain": [
       "32"
      ]
     },
     "execution_count": 54,
     "metadata": {},
     "output_type": "execute_result"
    }
   ],
   "source": [
    "def power(a,b) :\n",
    "    if b == 1 :\n",
    "        return a\n",
    "    return a * power(a, b-1)\n",
    "\n",
    "power(2,5)"
   ]
  },
  {
   "cell_type": "markdown",
   "id": "44d33523",
   "metadata": {},
   "source": [
    "## Fibonacci"
   ]
  },
  {
   "cell_type": "code",
   "execution_count": 74,
   "id": "2134b2a8",
   "metadata": {},
   "outputs": [
    {
     "data": {
      "text/plain": [
       "13"
      ]
     },
     "execution_count": 74,
     "metadata": {},
     "output_type": "execute_result"
    }
   ],
   "source": [
    "def fibonacci(n) :\n",
    "    if n == 0 :\n",
    "        return 0\n",
    "    elif n == 1 :\n",
    "        return 1 \n",
    "    return fibonacci(n-1) + fibonacci(n-2)\n",
    "\n",
    "fibonacci(7)"
   ]
  },
  {
   "cell_type": "code",
   "execution_count": 86,
   "id": "0eb53866",
   "metadata": {},
   "outputs": [
    {
     "data": {
      "text/plain": [
       "13"
      ]
     },
     "execution_count": 86,
     "metadata": {},
     "output_type": "execute_result"
    }
   ],
   "source": [
    "def fib(n) :\n",
    "    a, b = 0,1 \n",
    "\n",
    "    if n == 0 :\n",
    "        return 0\n",
    "    elif n == 1 :\n",
    "        return 1 \n",
    "    \n",
    "    for _ in range(2, n+1) :\n",
    "        a,b = b, a+b\n",
    "\n",
    "    return b\n",
    "\n",
    "fib(7)"
   ]
  },
  {
   "cell_type": "markdown",
   "id": "d4f73e33",
   "metadata": {},
   "source": [
    "## Max Element in a list"
   ]
  },
  {
   "cell_type": "code",
   "execution_count": 100,
   "id": "fef0eca6",
   "metadata": {},
   "outputs": [
    {
     "data": {
      "text/plain": [
       "30"
      ]
     },
     "execution_count": 100,
     "metadata": {},
     "output_type": "execute_result"
    }
   ],
   "source": [
    "def max_elem(arr) :\n",
    "    if len(arr) == 1 :\n",
    "        return arr[0]\n",
    "\n",
    "    return max(arr[0], max_elem(arr[1:]))\n",
    "\n",
    "mylist = [10 , 5 , 20 ,30 , 4 , 11]\n",
    "max_elem(mylist)"
   ]
  },
  {
   "cell_type": "code",
   "execution_count": 108,
   "id": "99b691bb",
   "metadata": {},
   "outputs": [
    {
     "name": "stdout",
     "output_type": "stream",
     "text": [
      "30\n"
     ]
    }
   ],
   "source": [
    "def max_element(li, m=None) :\n",
    "    if m == None :\n",
    "        m = li[0]\n",
    "    elif len(li) == 0 :\n",
    "        print(m)\n",
    "        return\n",
    "    elif m < li[0] :\n",
    "        m = li[0]\n",
    "\n",
    "    max_element(li[1:], m)\n",
    "\n",
    "mylist = [10 , 5 , 20 ,30 , 4 , 11]\n",
    "max_element(mylist)"
   ]
  },
  {
   "cell_type": "markdown",
   "id": "7e30c47e",
   "metadata": {},
   "source": [
    "## Min Element in list"
   ]
  },
  {
   "cell_type": "code",
   "execution_count": 98,
   "id": "a6bb88f6",
   "metadata": {},
   "outputs": [
    {
     "data": {
      "text/plain": [
       "4"
      ]
     },
     "execution_count": 98,
     "metadata": {},
     "output_type": "execute_result"
    }
   ],
   "source": [
    "def min_elem(arr) :\n",
    "    if len(arr) == 1 :\n",
    "        return arr[0]\n",
    "\n",
    "    return min(arr[0], min_elem(arr[1:]))\n",
    "\n",
    "mylist = [10 , 5 , 20 ,30 , 4 , 11]\n",
    "min_elem(mylist)"
   ]
  },
  {
   "cell_type": "code",
   "execution_count": 107,
   "id": "5ae3e7ea",
   "metadata": {},
   "outputs": [
    {
     "name": "stdout",
     "output_type": "stream",
     "text": [
      "4\n"
     ]
    }
   ],
   "source": [
    "def min_element(li, m=None) :\n",
    "    if m == None :\n",
    "        m = li[0]\n",
    "    elif len(li) == 0 :\n",
    "        print(m)\n",
    "        return \n",
    "    elif m > li[0] :\n",
    "        m = li[0]\n",
    "\n",
    "    min_element(li[1:], m)\n",
    "\n",
    "mylist = [10 , 5 , 20 ,40 , 4 , 11]\n",
    "min_element(mylist)"
   ]
  },
  {
   "cell_type": "markdown",
   "id": "d8f255ff",
   "metadata": {},
   "source": [
    "## Count no of 0 in Digit"
   ]
  },
  {
   "cell_type": "code",
   "execution_count": 110,
   "id": "9e93c5b9",
   "metadata": {},
   "outputs": [
    {
     "data": {
      "text/plain": [
       "5"
      ]
     },
     "execution_count": 110,
     "metadata": {},
     "output_type": "execute_result"
    }
   ],
   "source": [
    "def count_0(n) :\n",
    "    if n == 0 :\n",
    "        return 1 \n",
    "    if n < 10 :\n",
    "        return 0\n",
    "    if n % 10 == 0:\n",
    "        return 1 + count_0(n//10)\n",
    "    return count_0(n//10)\n",
    "\n",
    "count_0(10020040)"
   ]
  },
  {
   "cell_type": "markdown",
   "id": "aa9b1172",
   "metadata": {},
   "source": [
    "## Multiply 2 No without using multiplication symbol"
   ]
  },
  {
   "cell_type": "code",
   "execution_count": 113,
   "id": "9bf13664",
   "metadata": {},
   "outputs": [
    {
     "data": {
      "text/plain": [
       "8"
      ]
     },
     "execution_count": 113,
     "metadata": {},
     "output_type": "execute_result"
    }
   ],
   "source": [
    "def multiply_wo(a, b) :\n",
    "    if a == 0 or b == 0 :\n",
    "        return 0 \n",
    "    return a + multiply_wo(a, b-1)\n",
    "\n",
    "multiply_wo(2,4)"
   ]
  },
  {
   "cell_type": "markdown",
   "id": "8aea963c",
   "metadata": {},
   "source": [
    "## GCD "
   ]
  },
  {
   "cell_type": "code",
   "execution_count": 116,
   "id": "957c9fd7",
   "metadata": {},
   "outputs": [
    {
     "data": {
      "text/plain": [
       "12"
      ]
     },
     "execution_count": 116,
     "metadata": {},
     "output_type": "execute_result"
    }
   ],
   "source": [
    "def gcd(a,b) :\n",
    "    if b == 0 :\n",
    "        return a \n",
    "    return gcd(b, a%b)\n",
    "\n",
    "gcd(36, 60)"
   ]
  },
  {
   "cell_type": "markdown",
   "id": "e83b0a58",
   "metadata": {},
   "source": [
    "## Binary Search using Recursion"
   ]
  },
  {
   "cell_type": "code",
   "execution_count": null,
   "id": "8f4e7f7e",
   "metadata": {},
   "outputs": [],
   "source": []
  },
  {
   "cell_type": "markdown",
   "id": "e448f8e0",
   "metadata": {},
   "source": [
    "## Linear Search using Recursion"
   ]
  },
  {
   "cell_type": "code",
   "execution_count": null,
   "id": "039c18fc",
   "metadata": {},
   "outputs": [],
   "source": []
  },
  {
   "cell_type": "markdown",
   "id": "a47191d6",
   "metadata": {},
   "source": [
    "## Tower of Hanoi"
   ]
  },
  {
   "cell_type": "code",
   "execution_count": 123,
   "id": "f6d24c3a",
   "metadata": {},
   "outputs": [
    {
     "name": "stdout",
     "output_type": "stream",
     "text": [
      "move disk 1 from A to C\n",
      "move disk 2 from A to B\n",
      "move disk 1 from C to B\n",
      "move disk 3 from A to C\n",
      "move disk 1 from B to A\n",
      "move disk 2 from B to C\n",
      "move disk 1 from A to C\n"
     ]
    }
   ],
   "source": [
    "def tower_of_hanoi(val, source, dest, aux) :\n",
    "    if val == 1 :\n",
    "        print(f\"move disk {val} from {source} to {dest}\")\n",
    "        return \n",
    "    \n",
    "    tower_of_hanoi(val-1, source, aux, dest)\n",
    "    print(f\"move disk {val} from {source} to {dest}\")\n",
    "    tower_of_hanoi(val-1, aux, dest, source)\n",
    "    \n",
    "tower_of_hanoi(3, 'A', 'C', 'B')\n",
    "    "
   ]
  },
  {
   "cell_type": "code",
   "execution_count": null,
   "id": "a52fef03",
   "metadata": {},
   "outputs": [],
   "source": []
  },
  {
   "cell_type": "code",
   "execution_count": null,
   "id": "88ee79dd",
   "metadata": {},
   "outputs": [],
   "source": []
  },
  {
   "cell_type": "code",
   "execution_count": null,
   "id": "026ab998",
   "metadata": {},
   "outputs": [],
   "source": []
  },
  {
   "cell_type": "markdown",
   "id": "3fe89462",
   "metadata": {},
   "source": [
    "## AVL Tree"
   ]
  },
  {
   "cell_type": "code",
   "execution_count": 130,
   "id": "349c13d8",
   "metadata": {},
   "outputs": [
    {
     "name": "stdout",
     "output_type": "stream",
     "text": [
      "150 50 30 100 200 "
     ]
    }
   ],
   "source": [
    "class AVLNode :\n",
    "    def __init__(self, data) :\n",
    "        self.data = data\n",
    "        self.left = None\n",
    "        self.right = None\n",
    "        self.height = 1 \n",
    "\n",
    "\n",
    "class AVLTree:\n",
    "    \n",
    "    def insert(self, root, data) :\n",
    "        if  not root :\n",
    "            return AVLNode(data)\n",
    "        elif data < root.data :\n",
    "            root.left = self.insert(root.left, data)\n",
    "        else :\n",
    "            root.right = self.insert(root.right, data)\n",
    "\n",
    "        root.height = 1 + max(self.get_height(root.left), self.get_height(root.right))\n",
    "        bf = self.balance_factor(root)\n",
    "\n",
    "        ## Left-Left Rotation\n",
    "        if bf > 1 and data < root.data :\n",
    "            return self.rotate_right(root)\n",
    "        \n",
    "        ## Right-Right Rotation\\\n",
    "        if bf < -1 and data > root.data :\n",
    "            return self.rotate_left(root)\n",
    "        \n",
    "        ## Right-Left Rotation\n",
    "        if bf < -1 and data > root.left.data :\n",
    "            root.right = self.rotate_right(root.right)\n",
    "            return self.rotate_left(root)\n",
    "        \n",
    "        ## Left-Right Rotation\n",
    "        if bf > 1 and data < root.right.data :            \n",
    "            root.left = self.rotate_left(root.left)\n",
    "            return self.rotate_right(root)\n",
    "\n",
    "        return root\n",
    "    \n",
    "\n",
    "    \n",
    "    def rotate_right(self, a) :\n",
    "        b = a.left\n",
    "        c = b.right\n",
    "        \n",
    "        b.right = a\n",
    "        a.left = c\n",
    "        \n",
    "        a.height = 1 + max(self.get_height(a.left), self.get_height(a.right))\n",
    "        b.height = 1 + max(self.get_height(b.left), self.get_height(b.right))\n",
    "\n",
    "        return b\n",
    "    \n",
    "\n",
    "    def rotate_left(self, a) :\n",
    "        b = a.right\n",
    "        c = b.left\n",
    "        \n",
    "        b.left = a\n",
    "        a.right = c\n",
    "        \n",
    "        a.height = 1 + max(self.get_height(a.left), self.get_height(a.right))\n",
    "        b.height = 1 + max(self.get_height(b.left), self.get_height(b.right))\n",
    "        \n",
    "        return b\n",
    "\n",
    "\n",
    "    \n",
    "    def get_height(self, root) :\n",
    "        if root is None:\n",
    "            return 0\n",
    "        else :\n",
    "            return root.height\n",
    "        \n",
    "    \n",
    "    def balance_factor(self, root) :\n",
    "        if root is None:\n",
    "            return 0\n",
    "        return self.get_height(root.left) - self.get_height(root.right)\n",
    "        \n",
    "    \n",
    "\n",
    "    def preorder(self, root) :\n",
    "        if root is None:\n",
    "            return \n",
    "        print(root.data, end = \" \")\n",
    "        self.preorder(root.left)\n",
    "        self.preorder(root.right)\n",
    "\n",
    "\n",
    "a = AVLTree()\n",
    "root = None \n",
    "root = a.insert(root, 100)\n",
    "root = a.insert(root, 150)\n",
    "root = a.insert(root, 200)\n",
    "root = a.insert(root, 50)\n",
    "root = a.insert(root, 30)\n",
    "root = a.preorder(root)\n",
    "\n"
   ]
  }
 ],
 "metadata": {
  "kernelspec": {
   "display_name": "base",
   "language": "python",
   "name": "python3"
  },
  "language_info": {
   "codemirror_mode": {
    "name": "ipython",
    "version": 3
   },
   "file_extension": ".py",
   "mimetype": "text/x-python",
   "name": "python",
   "nbconvert_exporter": "python",
   "pygments_lexer": "ipython3",
   "version": "3.11.5"
  }
 },
 "nbformat": 4,
 "nbformat_minor": 5
}
