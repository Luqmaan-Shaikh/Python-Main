{
 "cells": [
  {
   "cell_type": "markdown",
   "id": "ba97e0a6",
   "metadata": {},
   "source": [
    "## LEETCODE"
   ]
  },
  {
   "cell_type": "markdown",
   "id": "16f55d38",
   "metadata": {},
   "source": [
    "## Is Symmetric -> Invert BinaryTree , Same Tree"
   ]
  },
  {
   "cell_type": "markdown",
   "id": "f7216e20",
   "metadata": {},
   "source": [
    "226 - Invert Binary Tree\n",
    "\n",
    "Input: root = [4,2,7,1,3,6,9]\n",
    "Output: [4,7,2,9,6,3,1]\n",
    "\n",
    "Input: root = [2,1,3]\n",
    "Output: [2,3,1]\n"
   ]
  },
  {
   "cell_type": "markdown",
   "id": "8d84d7d6",
   "metadata": {},
   "source": [
    "100 - Same Tree\n",
    "\n",
    "Input: p = [1,2,3], q = [1,2,3]\n",
    "Output: true\n",
    "\n",
    "Input: p = [1,2], q = [1,null,2]\n",
    "Output: false"
   ]
  },
  {
   "cell_type": "markdown",
   "id": "00f28444",
   "metadata": {},
   "source": [
    "101 - Is Symmetric\n",
    "\n",
    "Input: root = [1,2,2,3,4,4,3]\n",
    "Output: true\n",
    "\n",
    "Input: root = [1,2,2,null,3,null,3]\n",
    "Output: false"
   ]
  },
  {
   "cell_type": "code",
   "execution_count": null,
   "id": "7e77a7ff",
   "metadata": {},
   "outputs": [],
   "source": [
    "# Definition for a binary tree node.\n",
    "# class TreeNode(object):\n",
    "#     def __init__(self, val=0, left=None, right=None):\n",
    "#         self.val = val\n",
    "#         self.left = left\n",
    "#         self.right = right\n",
    "class Solution(object):\n",
    "    def isSymmetric(self, root):\n",
    "        \"\"\"\n",
    "        :type root: Optional[TreeNode]\n",
    "        :rtype: bool\n",
    "        \"\"\"\n",
    "        def InvertTree(root) :\n",
    "            if root is None :\n",
    "                return root\n",
    "\n",
    "            root.left , root.right = root.right , root.left\n",
    "\n",
    "            InvertTree(root.left)\n",
    "            InvertTree(root.right)\n",
    "\n",
    "            return root\n",
    "\n",
    "        def recursion(root, res) :\n",
    "            if root is None :\n",
    "                res.append(\"Null\")\n",
    "                return \n",
    "\n",
    "            res.append(root.val)\n",
    "            recursion(root.left, res)\n",
    "            recursion(root.right, res)\n",
    "\n",
    "        l1 = []\n",
    "        l2 = []\n",
    "\n",
    "        recursion(root, l1)\n",
    "        InvertTree(root)\n",
    "        recursion(root, l2)            \n",
    "\n",
    "        return l1 == l2\n"
   ]
  },
  {
   "cell_type": "markdown",
   "id": "ef26e967",
   "metadata": {},
   "source": [
    "110 - Balanced Binary Tree\n",
    "\n",
    "Input: root = [3,9,20,null,null,15,7]\n",
    "Output: true\n",
    "\n",
    "Input: root = [1,2,2,3,3,null,null,4,4]\n",
    "Output: false"
   ]
  },
  {
   "cell_type": "code",
   "execution_count": null,
   "id": "3a16eaaf",
   "metadata": {},
   "outputs": [],
   "source": [
    "# Definition for a binary tree node.\n",
    "# class TreeNode(object):\n",
    "#     def __init__(self, val=0, left=None, right=None):\n",
    "#         self.val = val\n",
    "#         self.left = left\n",
    "#         self.right = right\n",
    "class Solution(object):\n",
    "    def isBalanced(self, root):\n",
    "        \"\"\"\n",
    "        :type root: Optional[TreeNode]\n",
    "        :rtype: bool\n",
    "        \"\"\"\n",
    "        \n",
    "        def check(node) :\n",
    "            if node is None :\n",
    "                return 0\n",
    "\n",
    "            left = check(node.left)\n",
    "\n",
    "            if left == -1 :\n",
    "                return -1 \n",
    "\n",
    "            right = check(node.right)\n",
    "\n",
    "            if right == -1 :\n",
    "                return -1\n",
    "            \n",
    "            if abs(left-right) > 1 :\n",
    "                return -1\n",
    "\n",
    "            return max(left, right) + 1\n",
    "\n",
    "        return check(root) != -1\n",
    "                        \n",
    "\n",
    "            "
   ]
  },
  {
   "cell_type": "markdown",
   "id": "06bb8016",
   "metadata": {},
   "source": [
    "104 - Maximum Depth of Binary Tree\n",
    "\n",
    "Input: root = [3,9,20,null,null,15,7]\n",
    "Output: 3\n",
    "\n",
    "Input: root = [1,null,2]\n",
    "Output: 2"
   ]
  },
  {
   "cell_type": "code",
   "execution_count": null,
   "id": "86e77b48",
   "metadata": {},
   "outputs": [],
   "source": [
    "# Definition for a binary tree node.\n",
    "# class TreeNode(object):\n",
    "#     def __init__(self, val=0, left=None, right=None):\n",
    "#         self.val = val\n",
    "#         self.left = left\n",
    "#         self.right = right\n",
    "class Solution(object):\n",
    "    def maxDepth(self, root):\n",
    "        \"\"\"\n",
    "        :type root: Optional[TreeNode]\n",
    "        :rtype: int\n",
    "        \"\"\"\n",
    "        if not root :\n",
    "            return 0\n",
    "\n",
    "        return max(self.maxDepth(root.left), self.maxDepth(root.right)) + 1\n",
    "        "
   ]
  },
  {
   "cell_type": "markdown",
   "id": "e28d1e5d",
   "metadata": {},
   "source": [
    "111 - Minimum Depth of Binary Tree\n",
    "\n",
    "Input: root = [3,9,20,null,null,15,7]\n",
    "Output: 2\n",
    "\n",
    "Input: root = [2,null,3,null,4,null,5,null,6]\n",
    "Output: 5"
   ]
  },
  {
   "cell_type": "code",
   "execution_count": null,
   "id": "0d47cc74",
   "metadata": {},
   "outputs": [],
   "source": [
    "# Definition for a binary tree node.\n",
    "# class TreeNode(object):\n",
    "#     def __init__(self, val=0, left=None, right=None):\n",
    "#         self.val = val\n",
    "#         self.left = left\n",
    "#         self.right = right\n",
    "class Solution(object):\n",
    "    def minDepth(self, root):\n",
    "        \"\"\"\n",
    "        :type root: Optional[TreeNode]\n",
    "        :rtype: int\n",
    "        \"\"\"\n",
    "        if not root :\n",
    "            return 0\n",
    "        if not root.left :\n",
    "            return self.minDepth(root.right) + 1\n",
    "\n",
    "        elif not root.right :\n",
    "            return self.minDepth(root.left) + 1\n",
    "        \n",
    "        return min(self.minDepth(root.left), self.minDepth(root.right)) + 1"
   ]
  },
  {
   "cell_type": "markdown",
   "id": "57e173d8",
   "metadata": {},
   "source": [
    "112 - Path Sum\n",
    "\n",
    "Input: root = [5,4,8,11,null,13,4,7,2,null,null,null,1], targetSum = 22\n",
    "Output: true\n",
    "Explanation: The root-to-leaf path with the target sum is shown\n",
    "\n",
    "Input: root = [1,2,3], targetSum = 5\n",
    "Output: false\n",
    "Explanation: There are two root-to-leaf paths in the tree:\n",
    "(1 --> 2): The sum is 3.\n",
    "(1 --> 3): The sum is 4.\n",
    "There is no root-to-leaf path with sum = 5."
   ]
  },
  {
   "cell_type": "code",
   "execution_count": null,
   "id": "b74ee0a4",
   "metadata": {},
   "outputs": [],
   "source": [
    "# Definition for a binary tree node.\n",
    "# class TreeNode(object):\n",
    "#     def __init__(self, val=0, left=None, right=None):\n",
    "#         self.val = val\n",
    "#         self.left = left\n",
    "#         self.right = right\n",
    "class Solution(object):\n",
    "    def hasPathSum(self, root, targetSum):\n",
    "        \"\"\"\n",
    "        :type root: Optional[TreeNode]\n",
    "        :type targetSum: int\n",
    "        :rtype: bool\n",
    "        \"\"\"\n",
    "        if root is None :\n",
    "            return False\n",
    "\n",
    "        if root.val == targetSum and root.right is None and root.left is None :\n",
    "            return True\n",
    "\n",
    "        return (self.hasPathSum(root.left, targetSum - root.val)) or (self.hasPathSum(root.right, targetSum - root.val))"
   ]
  },
  {
   "cell_type": "markdown",
   "id": "88fe1dff",
   "metadata": {},
   "source": [
    "113 - Path Sum II\n",
    "\n",
    "Input: root = [5,4,8,11,null,13,4,7,2,null,null,5,1], targetSum = 22\n",
    "Output: [[5,4,11,2],[5,8,4,5]]\n",
    "Explanation: There are two paths whose sum equals targetSum:\n",
    "5 + 4 + 11 + 2 = 22\n",
    "5 + 8 + 4 + 5 = 22\n",
    "\n",
    "Input: root = [1,2,3], targetSum = 5\n",
    "Output: []"
   ]
  },
  {
   "cell_type": "code",
   "execution_count": null,
   "id": "9fcecf91",
   "metadata": {},
   "outputs": [],
   "source": [
    "# Definition for a binary tree node.\n",
    "# class TreeNode(object):\n",
    "#     def __init__(self, val=0, left=None, right=None):\n",
    "#         self.val = val\n",
    "#         self.left = left\n",
    "#         self.right = right\n",
    "class Solution(object):\n",
    "    def pathSum(self, root, targetSum):\n",
    "        result = []\n",
    "        \n",
    "        def dfs(node, current_sum, path):\n",
    "            if not node:\n",
    "                return\n",
    "            path.append(node.val)\n",
    "            current_sum += node.val\n",
    "            if node.left is None and node.right is None and current_sum == targetSum:\n",
    "                result.append(list(path))\n",
    "            else:\n",
    "                dfs(node.left, current_sum, path)\n",
    "                dfs(node.right, current_sum, path)\n",
    "            path.pop()  # backtrack\n",
    "\n",
    "        dfs(root, 0, [])\n",
    "        return result\n"
   ]
  },
  {
   "cell_type": "markdown",
   "id": "92c56082",
   "metadata": {},
   "source": [
    "## Graphs"
   ]
  },
  {
   "cell_type": "markdown",
   "id": "c34013e6",
   "metadata": {},
   "source": [
    "- Non linear Data Structure\n",
    "\n",
    "- Graph : G(v,E) - Collection or nodes/vertices and edges \n",
    "\n",
    "- Heirarchy is not compulsory in Graph unlike Tree\n",
    "\n",
    "- Cyclic\n",
    "\n",
    "\n",
    "G(V) :- a,b,c,d\n",
    "\n",
    "G(E) :- [(a,b) , (b,e) , (b,c) , (a,d) , (c,d)]\n",
    "\n",
    "Adjacent Nodes : Vertices it is connected to\n",
    "\n",
    "Degree of Nodes : No of Connected Nodes\n",
    "\n",
    "Isolated Nodes : Degree is 0 , Not Connected to any other Nodes\n",
    "\n",
    "Multiple Edges :- more than 1 path btw 2 nodes\n",
    "\n",
    "Loops :- Self-Loop \n",
    "\n",
    "\n",
    "-> Connected Graph\n",
    "\n",
    "-> Not Connected Graph\n",
    "\n",
    "TREE -> Connected Graph Without Cyclic\n",
    "\n",
    "\n",
    "1. Paths :-\n",
    "\n",
    "- Closed Path \n",
    "- Simple Path  \n",
    "\n",
    "\n",
    "\n",
    "2. Graphs :- \n",
    "\n",
    "- Undirected Graph \n",
    "- Directed Graph\n",
    "- Weighted Graph / Level Graph \n",
    "- Cyclic Graph\n",
    "- Acyclic Graphs\n",
    "- Complete Graphs\n",
    "- Multigraphs :- Multiple edges + Self loop\n",
    "\n",
    "3. Ways to represent Graphs :-\n",
    "\n",
    "- Adjacency Matrix \n",
    "- Adjacency List\n"
   ]
  },
  {
   "cell_type": "code",
   "execution_count": 39,
   "id": "99b8cf6a",
   "metadata": {},
   "outputs": [],
   "source": [
    "class Graph:\n",
    "    def __init__(self) :\n",
    "        self.graph = {}\n",
    "\n",
    "    def addEdges(self, u , v) :\n",
    "        if u not in self.graph :\n",
    "            self.graph[u] = []\n",
    "\n",
    "        if v not in self.graph :\n",
    "            self.graph[v] = []\n",
    "\n",
    "        self.graph[u].append(v)\n",
    "        self.graph[v].append(u)\n",
    "\n",
    "    def addDirectedEdges(self, u , v) :\n",
    "        if u not in self.graph :\n",
    "            self.graph[u] = []\n",
    "\n",
    "        self.graph[u].append(v)\n",
    "\n",
    "    def bfs(self, start) :\n",
    "        visited = set()\n",
    "        myqueue = []\n",
    "        myqueue.append(start)\n",
    "        visited.add(start)\n",
    "        while myqueue :\n",
    "            curr = myqueue.pop(0)\n",
    "            print(curr, end = \" \")\n",
    "\n",
    "            for i in self.graph[curr] :\n",
    "                if i not in visited :\n",
    "                    visited.add(i)\n",
    "                    myqueue.append(i)\n",
    "\n",
    "\n",
    "        \n",
    "    def dfs(self, start) :\n",
    "        visited = set()\n",
    "        mystack = []\n",
    "        mystack.append(start)\n",
    "        visited.add(start)\n",
    "        while mystack :\n",
    "            curr = mystack.pop()\n",
    "            print(curr, end = \" \")\n",
    "            for i in self.graph[curr] :\n",
    "                if i not in visited :\n",
    "                    visited.add(i)\n",
    "                    mystack.append(i)\n",
    "\n"
   ]
  },
  {
   "cell_type": "code",
   "execution_count": 40,
   "id": "25766da0",
   "metadata": {},
   "outputs": [
    {
     "name": "stdout",
     "output_type": "stream",
     "text": [
      "A : ['B', 'D']\n",
      "B : ['A', 'C', 'E']\n",
      "C : ['B', 'D']\n",
      "D : ['A', 'C']\n",
      "E : ['B']\n",
      "\n",
      "{'A': ['B', 'D'], 'B': ['A', 'C', 'E'], 'D': ['A', 'C'], 'C': ['B', 'D'], 'E': ['B']}\n",
      "\n"
     ]
    }
   ],
   "source": [
    "# Undirected\n",
    "\n",
    "x = Graph()\n",
    "\n",
    "x.addEdges(\"A\", \"B\")\n",
    "x.addEdges(\"A\", \"D\")\n",
    "x.addEdges(\"B\", \"C\")\n",
    "x.addEdges(\"B\", \"E\")\n",
    "x.addEdges(\"C\", \"D\")\n",
    "\n",
    "\n",
    "print(\"A :\", x.graph[\"A\"])\n",
    "print(\"B :\", x.graph[\"B\"])\n",
    "print(\"C :\", x.graph[\"C\"])\n",
    "print(\"D :\", x.graph[\"D\"])\n",
    "print(\"E :\", x.graph[\"E\"])\n",
    "\n",
    "print()\n",
    "print(x.graph) # Print Full Ditionary\n",
    "print()"
   ]
  },
  {
   "cell_type": "code",
   "execution_count": null,
   "id": "d90166ab",
   "metadata": {},
   "outputs": [
    {
     "name": "stdout",
     "output_type": "stream",
     "text": [
      "A B D C E "
     ]
    }
   ],
   "source": [
    "# BFS\n",
    "\n",
    "x.bfs(\"A\")"
   ]
  },
  {
   "cell_type": "code",
   "execution_count": null,
   "id": "4476d876",
   "metadata": {},
   "outputs": [
    {
     "name": "stdout",
     "output_type": "stream",
     "text": [
      "A D C B E "
     ]
    }
   ],
   "source": [
    "# BFS\n",
    "\n",
    "x.dfs(\"A\")"
   ]
  },
  {
   "cell_type": "code",
   "execution_count": 20,
   "id": "84bfb429",
   "metadata": {},
   "outputs": [
    {
     "name": "stdout",
     "output_type": "stream",
     "text": [
      "A : ['B', 'D']\n",
      "B : ['C', 'E']\n",
      "C : ['E']\n",
      "D : ['B']\n",
      "\n",
      "{'A': ['B', 'D'], 'B': ['C', 'E'], 'C': ['E'], 'D': ['B']}\n",
      "\n"
     ]
    }
   ],
   "source": [
    "# Directed\n",
    "\n",
    "y = Graph()\n",
    "\n",
    "y.addDirectedEdges(\"A\", \"B\")\n",
    "y.addDirectedEdges(\"A\", \"D\")\n",
    "y.addDirectedEdges(\"B\", \"C\")\n",
    "y.addDirectedEdges(\"B\", \"E\")\n",
    "y.addDirectedEdges(\"C\", \"E\")\n",
    "y.addDirectedEdges(\"D\", \"B\")\n",
    "\n",
    "print(\"A :\", y.graph[\"A\"])\n",
    "print(\"B :\", y.graph[\"B\"])\n",
    "print(\"C :\", y.graph[\"C\"])\n",
    "print(\"D :\", y.graph[\"D\"])\n",
    "\n",
    "print()\n",
    "print(y.graph) # Print Full Ditionary\n",
    "print()"
   ]
  },
  {
   "cell_type": "code",
   "execution_count": null,
   "id": "05980bac",
   "metadata": {},
   "outputs": [
    {
     "name": "stdout",
     "output_type": "stream",
     "text": [
      "Path from 0 to 5 is: [0, 1, 3, 5]\n",
      "No path exists from 0 to 6\n"
     ]
    }
   ],
   "source": [
    "class Graph:\n",
    "    def __init__(self) :\n",
    "        self.graph = {}\n",
    "\n",
    "    def addEdges(self, u , v) :\n",
    "        if u not in self.graph :\n",
    "            self.graph[u] = []\n",
    "\n",
    "        if v not in self.graph :\n",
    "            self.graph[v] = []\n",
    "\n",
    "        self.graph[u].append(v)\n",
    "        self.graph[v].append(u)\n",
    "\n",
    "    def findPath(self, s, d) :\n",
    "        visited = set() \n",
    "        path = []\n",
    "        def dfs(c) :\n",
    "            if c == d :\n",
    "                path.append(c)\n",
    "                return True\n",
    "            else :\n",
    "                visited.add(c)\n",
    "                path.append(c)\n",
    "                for i in self.graph[c] :\n",
    "                    if i not in visited :\n",
    "                        if dfs(i) :\n",
    "                            return True\n",
    "                        \n",
    "                path.pop()\n",
    "                return False\n",
    "            \n",
    "        ele = dfs(s)\n",
    "        if ele :\n",
    "            print(\"Path from\", s, \"to\", d, \"is:\", path)\n",
    "        else :\n",
    "            print(\"No path exists from\", s, \"to\", d)\n",
    "\n",
    "x = Graph()\n",
    "\n",
    "x.addEdges(0, 1)\n",
    "x.addEdges(0, 2)\n",
    "x.addEdges(1, 3)\n",
    "x.addEdges(2, 4)\n",
    "x.addEdges(3, 5)\n",
    "\n",
    "x.findPath(0, 5)\n",
    "x.findPath(0, 6)  # No path exists"
   ]
  },
  {
   "cell_type": "code",
   "execution_count": null,
   "id": "be334878",
   "metadata": {},
   "outputs": [],
   "source": [
    "## Adjacency Matrix\n",
    "\n",
    "class Graph:\n",
    "    "
   ]
  }
 ],
 "metadata": {
  "kernelspec": {
   "display_name": "base",
   "language": "python",
   "name": "python3"
  },
  "language_info": {
   "codemirror_mode": {
    "name": "ipython",
    "version": 3
   },
   "file_extension": ".py",
   "mimetype": "text/x-python",
   "name": "python",
   "nbconvert_exporter": "python",
   "pygments_lexer": "ipython3",
   "version": "3.11.5"
  }
 },
 "nbformat": 4,
 "nbformat_minor": 5
}
